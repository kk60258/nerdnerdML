{
 "cells": [
  {
   "cell_type": "code",
   "execution_count": 0,
   "metadata": {
    "id": "r8UlHZRFosHx",
    "colab_type": "code",
    "colab": {
     "autoexec": {
      "startup": false,
      "wait_interval": 0.0
     }
    }
   },
   "outputs": [],
   "source": [
    "import os\n",
    "os.chdir('/content')"
   ]
  },
  {
   "cell_type": "markdown",
   "metadata": {
    "id": "WN6oCjK8uwRd",
    "colab_type": "text"
   },
   "source": [
    "### Install colab util"
   ]
  },
  {
   "cell_type": "code",
   "execution_count": 2,
   "metadata": {
    "id": "yrxZF0cDUzGM",
    "colab_type": "code",
    "colab": {
     "autoexec": {
      "startup": false,
      "wait_interval": 0.0
     },
     "base_uri": "https://localhost:8080/",
     "height": 136.0
    },
    "outputId": "0625e4e4-2872-4224-c5b8-8c6ac077a7fd",
    "executionInfo": {
     "status": "ok",
     "timestamp": 1.524555592795E12,
     "user_tz": -480.0,
     "elapsed": 3753.0,
     "user": {
      "displayName": "Chien-Shen Lai",
      "photoUrl": "https://lh3.googleusercontent.com/a/default-user=s128",
      "userId": "109306018282352275139"
     }
    }
   },
   "outputs": [
    {
     "name": "stdout",
     "output_type": "stream",
     "text": [
      "Collecting git+https://github.com/kk60258/colab_utils.git\r\n",
      "  Cloning https://github.com/kk60258/colab_utils.git to /tmp/pip-9yavf767-build\n",
      "Installing collected packages: nerdcolab\n",
      "  Running setup.py install for nerdcolab ... \u001b[?25l-\b \bdone\n",
      "\u001b[?25hSuccessfully installed nerdcolab-0.0.2\n",
      "\u001b[33mYou are using pip version 9.0.3, however version 10.0.1 is available.\n",
      "You should consider upgrading via the 'pip install --upgrade pip' command.\u001b[0m\n"
     ]
    }
   ],
   "source": [
    "!pip install --upgrade git+https://github.com/kk60258/colab_utils.git"
   ]
  },
  {
   "cell_type": "markdown",
   "metadata": {
    "id": "ne4poUuOuz4s",
    "colab_type": "text"
   },
   "source": [
    "### Clone source code"
   ]
  },
  {
   "cell_type": "code",
   "execution_count": 3,
   "metadata": {
    "id": "kCd1j4ScZXX1",
    "colab_type": "code",
    "colab": {
     "autoexec": {
      "startup": false,
      "wait_interval": 0.0
     },
     "base_uri": "https://localhost:8080/",
     "height": 119.0
    },
    "outputId": "e7892121-e7d9-44ff-ab43-21f01d6b985b",
    "executionInfo": {
     "status": "ok",
     "timestamp": 1.524555595886E12,
     "user_tz": -480.0,
     "elapsed": 3055.0,
     "user": {
      "displayName": "Chien-Shen Lai",
      "photoUrl": "https://lh3.googleusercontent.com/a/default-user=s128",
      "userId": "109306018282352275139"
     }
    }
   },
   "outputs": [
    {
     "name": "stdout",
     "output_type": "stream",
     "text": [
      "Cloning into 'nerdnerdML'...\n",
      "remote: Counting objects: 244, done.\u001b[K\n",
      "remote: Compressing objects: 100% (155/155), done.\u001b[K\n",
      "remote: Total 244 (delta 97), reused 209 (delta 80), pack-reused 0\u001b[K\n",
      "Receiving objects: 100% (244/244), 14.70 MiB | 31.63 MiB/s, done.\n",
      "Resolving deltas: 100% (97/97), done.\n"
     ]
    }
   ],
   "source": [
    "!git clone https://github.com/kk60258/nerdnerdML.git"
   ]
  },
  {
   "cell_type": "code",
   "execution_count": 4,
   "metadata": {
    "id": "0zcPRyseFuc0",
    "colab_type": "code",
    "colab": {
     "autoexec": {
      "startup": false,
      "wait_interval": 0.0
     },
     "base_uri": "https://localhost:8080/",
     "height": 51.0
    },
    "outputId": "4144e0b6-6fb6-4084-c5c5-73e9018d7c26",
    "executionInfo": {
     "status": "ok",
     "timestamp": 1.524555597699E12,
     "user_tz": -480.0,
     "elapsed": 1795.0,
     "user": {
      "displayName": "Chien-Shen Lai",
      "photoUrl": "https://lh3.googleusercontent.com/a/default-user=s128",
      "userId": "109306018282352275139"
     }
    }
   },
   "outputs": [
    {
     "name": "stdout",
     "output_type": "stream",
     "text": [
      "Branch nineg set up to track remote branch nineg from origin.\r\n",
      "Switched to a new branch 'nineg'\r\n"
     ]
    }
   ],
   "source": [
    "\n",
    "os.chdir('/content/nerdnerdML')\n",
    "!git checkout nineg"
   ]
  },
  {
   "cell_type": "code",
   "execution_count": 0,
   "metadata": {
    "id": "RMpu0SUdGNvl",
    "colab_type": "code",
    "colab": {
     "autoexec": {
      "startup": false,
      "wait_interval": 0.0
     }
    }
   },
   "outputs": [],
   "source": [
    "#!git reset --hard 28bfd8253b7235934f52dffc44877342162f1298"
   ]
  },
  {
   "cell_type": "code",
   "execution_count": 0,
   "metadata": {
    "id": "Qr7yxNHdGQZX",
    "colab_type": "code",
    "colab": {
     "autoexec": {
      "startup": false,
      "wait_interval": 0.0
     }
    }
   },
   "outputs": [],
   "source": [
    "os.chdir('/content/nerdnerdML/CIFAR10')"
   ]
  },
  {
   "cell_type": "code",
   "execution_count": 0,
   "metadata": {
    "id": "SolwJ_KOGZDe",
    "colab_type": "code",
    "colab": {
     "autoexec": {
      "startup": false,
      "wait_interval": 0.0
     }
    }
   },
   "outputs": [],
   "source": [
    "#with open(\"cifar10.py\") as f:\n",
    "#    code = compile(f.read(), \"cifar10.py\", 'exec')\n",
    "#    exec(code)"
   ]
  },
  {
   "cell_type": "code",
   "execution_count": 0,
   "metadata": {
    "id": "UHWURWm1J_nQ",
    "colab_type": "code",
    "colab": {
     "autoexec": {
      "startup": false,
      "wait_interval": 0.0
     }
    }
   },
   "outputs": [],
   "source": [
    "#%run -i cifar10.py"
   ]
  },
  {
   "cell_type": "markdown",
   "metadata": {
    "id": "9-KWHg5cuhg9",
    "colab_type": "text"
   },
   "source": [
    "### Authenticate Google Cloud"
   ]
  },
  {
   "cell_type": "code",
   "execution_count": 9,
   "metadata": {
    "id": "oZNbiTjxo3i3",
    "colab_type": "code",
    "colab": {
     "autoexec": {
      "startup": false,
      "wait_interval": 0.0
     },
     "base_uri": "https://localhost:8080/",
     "height": 34.0
    },
    "cellView": "code",
    "outputId": "2ea070af-995f-4013-d3d8-cd3fc321c600",
    "executionInfo": {
     "status": "ok",
     "timestamp": 1.524555631141E12,
     "user_tz": -480.0,
     "elapsed": 908.0,
     "user": {
      "displayName": "Chien-Shen Lai",
      "photoUrl": "https://lh3.googleusercontent.com/a/default-user=s128",
      "userId": "109306018282352275139"
     }
    }
   },
   "outputs": [
    {
     "data": {
      "text/plain": [
       "'ai-model-test'"
      ]
     },
     "execution_count": 9,
     "metadata": {
      "tags": []
     },
     "output_type": "execute_result"
    }
   ],
   "source": [
    "import os\n",
    "import nerdcolab.gcloud\n",
    "\n",
    "## authorize access to Google Cloud SDK from `colaboratory` VM\n",
    "project_name = \"ai-model-test\"\n",
    "bucket_name = \"ai-model-test-ml\"\n",
    "\n",
    "nerdcolab.gcloud.gcloud_auth(project_name)"
   ]
  },
  {
   "cell_type": "markdown",
   "metadata": {
    "id": "ahke--a0urbt",
    "colab_type": "text"
   },
   "source": [
    "Update source code if needed"
   ]
  },
  {
   "cell_type": "code",
   "execution_count": 10,
   "metadata": {
    "id": "LdzvG5qx3S52",
    "colab_type": "code",
    "colab": {
     "autoexec": {
      "startup": false,
      "wait_interval": 0.0
     },
     "base_uri": "https://localhost:8080/",
     "height": 34.0
    },
    "outputId": "a740206f-f1d8-436e-d1cd-cdb35c72300b",
    "executionInfo": {
     "status": "ok",
     "timestamp": 1.524555633066E12,
     "user_tz": -480.0,
     "elapsed": 1899.0,
     "user": {
      "displayName": "Chien-Shen Lai",
      "photoUrl": "https://lh3.googleusercontent.com/a/default-user=s128",
      "userId": "109306018282352275139"
     }
    }
   },
   "outputs": [
    {
     "name": "stdout",
     "output_type": "stream",
     "text": [
      "Already up-to-date.\r\n"
     ]
    }
   ],
   "source": [
    "os.chdir('/content/nerdnerdML/CIFAR10')\n",
    "!git pull"
   ]
  },
  {
   "cell_type": "markdown",
   "metadata": {
    "id": "5_Bapx7VlIyk",
    "colab_type": "text"
   },
   "source": [
    "### Download trainned checkpoint\n",
    "1. mkdir\n",
    "2. download ckpt from gcs\n",
    "3. unzip\n",
    "4. ls\n",
    "5. use the commentted restore_model_prefix as parameter to run cifar10.py"
   ]
  },
  {
   "cell_type": "code",
   "execution_count": 11,
   "metadata": {
    "id": "EoJQyS5Deq_-",
    "colab_type": "code",
    "colab": {
     "autoexec": {
      "startup": false,
      "wait_interval": 0.0
     },
     "base_uri": "https://localhost:8080/",
     "height": 153.0
    },
    "cellView": "code",
    "outputId": "693b4a53-68e9-4677-ff4c-796b67973c15",
    "executionInfo": {
     "status": "ok",
     "timestamp": 1.524555640146E12,
     "user_tz": -480.0,
     "elapsed": 7013.0,
     "user": {
      "displayName": "Chien-Shen Lai",
      "photoUrl": "https://lh3.googleusercontent.com/a/default-user=s128",
      "userId": "109306018282352275139"
     }
    }
   },
   "outputs": [
    {
     "name": "stdout",
     "output_type": "stream",
     "text": [
      "Copying gs://ai-model-test-ml/cifar10_train.263000.tar.gz...\n",
      "/ [1 files][  1.1 MiB/  1.1 MiB]                                                \n",
      "Operation completed over 1 objects/1.1 MiB.                                      \n",
      "model-263000.index\n",
      "model-263000.meta\n",
      "model-263000.data-00000-of-00001\n",
      "cifar10_train.263000.tar.gz\t  model-263000.index\n",
      "model-263000.data-00000-of-00001  model-263000.meta\n"
     ]
    }
   ],
   "source": [
    "#@title Default title text\n",
    "!mkdir -p /tmp/cifar10_restore\n",
    "!gsutil cp gs://ai-model-test-ml/cifar10_train.263000.tar.gz /tmp/cifar10_restore\n",
    "!tar -xzvf '/tmp/cifar10_restore/cifar10_train.263000.tar.gz' -C /tmp/cifar10_restore\n",
    "!ls /tmp/cifar10_restore/\n",
    " #--restore_model_prefix='/tmp/cifar10_restore/model-98000'"
   ]
  },
  {
   "cell_type": "code",
   "execution_count": 0,
   "metadata": {
    "id": "8dRmWNqPnX9W",
    "colab_type": "code",
    "colab": {
     "autoexec": {
      "startup": false,
      "wait_interval": 0.0
     }
    }
   },
   "outputs": [],
   "source": [
    "!rm -rf /tmp/cifar10_summary"
   ]
  },
  {
   "cell_type": "code",
   "execution_count": 0,
   "metadata": {
    "id": "Ee9HGaIFtv4g",
    "colab_type": "code",
    "colab": {
     "autoexec": {
      "startup": false,
      "wait_interval": 0.0
     }
    }
   },
   "outputs": [],
   "source": [
    "#!mkdir -p /tmp/cifar10_train"
   ]
  },
  {
   "cell_type": "code",
   "execution_count": 0,
   "metadata": {
    "id": "JVYM3-d2qvIU",
    "colab_type": "code",
    "colab": {
     "autoexec": {
      "startup": false,
      "wait_interval": 0.0
     }
    }
   },
   "outputs": [],
   "source": [
    "#!rm -rf /tmp/cifar10_restore"
   ]
  },
  {
   "cell_type": "markdown",
   "metadata": {
    "id": "xzrr8VIwuUEm",
    "colab_type": "text"
   },
   "source": [
    "# Train\n",
    "Rememeber to change the checkpoint file name if doing restore."
   ]
  },
  {
   "cell_type": "code",
   "execution_count": 12,
   "metadata": {
    "id": "Vuyo8Pi__RwN",
    "colab_type": "code",
    "colab": {
     "autoexec": {
      "startup": false,
      "wait_interval": 0.0
     },
     "base_uri": "https://localhost:8080/",
     "height": 10526.0
    },
    "cellView": "code",
    "outputId": "b831c759-2780-40e1-b90f-4741f26111c4",
    "executionInfo": {
     "status": "ok",
     "timestamp": 1.524577061042E12,
     "user_tz": -480.0,
     "elapsed": 2.1411449E7,
     "user": {
      "displayName": "Chien-Shen Lai",
      "photoUrl": "https://lh3.googleusercontent.com/a/default-user=s128",
      "userId": "109306018282352275139"
     }
    }
   },
   "outputs": [
    {
     "name": "stdout",
     "output_type": "stream",
     "text": [
      "/usr/local/lib/python3.6/dist-packages/h5py/__init__.py:36: FutureWarning: Conversion of the second argument of issubdtype from `float` to `np.floating` is deprecated. In future, it will be treated as `np.float64 == np.dtype(float).type`.\r\n",
      "  from ._conv import register_converters as _register_converters\n",
      ">> Downloading cifar-10-binary.tar.gz 100.0%\n",
      "Successfully downloaded cifar-10-binary.tar.gz 170052171 bytes.\n",
      "WARNING:tensorflow:From /content/nerdnerdML/CIFAR10/cifar10_model.py:62: softmax_cross_entropy_with_logits (from tensorflow.python.ops.nn_ops) is deprecated and will be removed in a future version.\n",
      "Instructions for updating:\n",
      "\n",
      "Future major versions of TensorFlow will allow gradients to flow\n",
      "into the labels input on backprop by default.\n",
      "\n",
      "See tf.nn.softmax_cross_entropy_with_logits_v2.\n",
      "\n",
      "WARNING:tensorflow:From /content/nerdnerdML/CIFAR10/cifar10_model.py:62: softmax_cross_entropy_with_logits (from tensorflow.python.ops.nn_ops) is deprecated and will be removed in a future version.\n",
      "Instructions for updating:\n",
      "\n",
      "Future major versions of TensorFlow will allow gradients to flow\n",
      "into the labels input on backprop by default.\n",
      "\n",
      "See tf.nn.softmax_cross_entropy_with_logits_v2.\n",
      "\n",
      "INFO:tensorflow:Summary name train accuracy is illegal; using train_accuracy instead.\n",
      "INFO:tensorflow:Summary name train accuracy is illegal; using train_accuracy instead.\n",
      "INFO:tensorflow:Summary name test accuracy is illegal; using test_accuracy instead.\n",
      "INFO:tensorflow:Summary name test accuracy is illegal; using test_accuracy instead.\n",
      "INFO:tensorflow:Summary name total loss is illegal; using total_loss instead.\n",
      "INFO:tensorflow:Summary name total loss is illegal; using total_loss instead.\n",
      "INFO:tensorflow:Summary name total test loss is illegal; using total_test_loss instead.\n",
      "INFO:tensorflow:Summary name total test loss is illegal; using total_test_loss instead.\n",
      "INFO:tensorflow:Summary name learning rate is illegal; using learning_rate instead.\n",
      "INFO:tensorflow:Summary name learning rate is illegal; using learning_rate instead.\n",
      "2018-04-24 07:41:09.846126: I tensorflow/stream_executor/cuda/cuda_gpu_executor.cc:898] successful NUMA node read from SysFS had negative value (-1), but there must be at least one NUMA node, so returning NUMA node zero\n",
      "2018-04-24 07:41:09.846624: I tensorflow/core/common_runtime/gpu/gpu_device.cc:1344] Found device 0 with properties: \n",
      "name: Tesla K80 major: 3 minor: 7 memoryClockRate(GHz): 0.8235\n",
      "pciBusID: 0000:00:04.0\n",
      "totalMemory: 11.17GiB freeMemory: 11.10GiB\n",
      "2018-04-24 07:41:09.846689: I tensorflow/core/common_runtime/gpu/gpu_device.cc:1423] Adding visible gpu devices: 0\n",
      "2018-04-24 07:41:10.196581: I tensorflow/core/common_runtime/gpu/gpu_device.cc:911] Device interconnect StreamExecutor with strength 1 edge matrix:\n",
      "2018-04-24 07:41:10.196638: I tensorflow/core/common_runtime/gpu/gpu_device.cc:917]      0 \n",
      "2018-04-24 07:41:10.196665: I tensorflow/core/common_runtime/gpu/gpu_device.cc:930] 0:   N \n",
      "2018-04-24 07:41:10.197039: I tensorflow/core/common_runtime/gpu/gpu_device.cc:1041] Created TensorFlow device (/job:localhost/replica:0/task:0/device:GPU:0 with 10765 MB memory) -> physical GPU (device: 0, name: Tesla K80, pci bus id: 0000:00:04.0, compute capability: 3.7)\n",
      "INFO:tensorflow:Restoring parameters from /tmp/cifar10_restore/model-263000\n",
      "INFO:tensorflow:Restoring parameters from /tmp/cifar10_restore/model-263000\n",
      "DEBUG:root:step 264000, train loss 1.9389307498931885, train accuracy 0.3203125, test accuracy 0.3744, best 0\n",
      "WARNING:google.auth._default:No project ID could be determined. Consider running `gcloud config set project` or setting the GOOGLE_CLOUD_PROJECT environment variable\n",
      "DEBUG:urllib3.util.retry:Converted retries value: 3 -> Retry(total=3, connect=None, read=None, redirect=None, status=None)\n",
      "DEBUG:google.auth.transport.requests:Making request: POST https://accounts.google.com/o/oauth2/token\n",
      "DEBUG:urllib3.connectionpool:Starting new HTTPS connection (1): accounts.google.com\n"
     ]
    },
    {
     "name": "stdout",
     "output_type": "stream",
     "text": [
      "DEBUG:urllib3.connectionpool:https://accounts.google.com:443 \"POST /o/oauth2/token HTTP/1.1\" 200 None\r\n",
      "DEBUG:urllib3.connectionpool:Starting new HTTPS connection (1): www.googleapis.com\n",
      "DEBUG:urllib3.connectionpool:https://www.googleapis.com:443 \"GET /storage/v1/b/ai-model-test-ml?projection=noAcl HTTP/1.1\" 200 376\n",
      "DEBUG:urllib3.connectionpool:https://www.googleapis.com:443 \"GET /storage/v1/b/ai-model-test-ml/o?projection=noAcl HTTP/1.1\" 200 14333\n",
      "model-264000.meta\n",
      "model-264000.data-00000-of-00001\n",
      "model-264000.index\n",
      "uploading tar archive to bucket=gs://ai-model-test-ml/cifar10_train.264000.tar.gz ...\n",
      "WARNING:google.auth._default:No project ID could be determined. Consider running `gcloud config set project` or setting the GOOGLE_CLOUD_PROJECT environment variable\n",
      "WARNING:google.auth._default:No project ID could be determined. Consider running `gcloud config set project` or setting the GOOGLE_CLOUD_PROJECT environment variable\n",
      "DEBUG:urllib3.util.retry:Converted retries value: 3 -> Retry(total=3, connect=None, read=None, redirect=None, status=None)\n",
      "DEBUG:google.auth.transport.requests:Making request: POST https://accounts.google.com/o/oauth2/token\n",
      "DEBUG:urllib3.connectionpool:Starting new HTTPS connection (1): accounts.google.com\n",
      "DEBUG:urllib3.connectionpool:https://accounts.google.com:443 \"POST /o/oauth2/token HTTP/1.1\" 200 None\n",
      "DEBUG:urllib3.connectionpool:Starting new HTTPS connection (1): www.googleapis.com\n",
      "DEBUG:urllib3.connectionpool:https://www.googleapis.com:443 \"GET /storage/v1/b/ai-model-test-ml?projection=noAcl HTTP/1.1\" 200 376\n",
      "DEBUG:urllib3.connectionpool:https://www.googleapis.com:443 \"GET /storage/v1/b/ai-model-test-ml/o?projection=noAcl HTTP/1.1\" 200 14333\n",
      "WARNING: gcs file already exists, use force=True. bucket=ai-model-test-ml\n",
      "saved: tar=cifar10_train.264000.tar.gz \n",
      "> bucket=gs://ai-model-test-ml/cifar10_train.264000.tar.gz \n",
      ">\n",
      "DEBUG:root:step 265000, train loss 1.8558546304702759, train accuracy 0.3515625, test accuracy 0.3839, best 0.3744\n",
      "WARNING:google.auth._default:No project ID could be determined. Consider running `gcloud config set project` or setting the GOOGLE_CLOUD_PROJECT environment variable\n",
      "DEBUG:urllib3.util.retry:Converted retries value: 3 -> Retry(total=3, connect=None, read=None, redirect=None, status=None)\n",
      "DEBUG:google.auth.transport.requests:Making request: POST https://accounts.google.com/o/oauth2/token\n",
      "DEBUG:urllib3.connectionpool:Starting new HTTPS connection (1): accounts.google.com\n",
      "DEBUG:urllib3.connectionpool:https://accounts.google.com:443 \"POST /o/oauth2/token HTTP/1.1\" 200 None\n",
      "DEBUG:urllib3.connectionpool:Starting new HTTPS connection (1): www.googleapis.com\n",
      "DEBUG:urllib3.connectionpool:https://www.googleapis.com:443 \"GET /storage/v1/b/ai-model-test-ml?projection=noAcl HTTP/1.1\" 200 376\n",
      "DEBUG:urllib3.connectionpool:https://www.googleapis.com:443 \"GET /storage/v1/b/ai-model-test-ml/o?projection=noAcl HTTP/1.1\" 200 14333\n",
      "model-265000.meta\n",
      "model-265000.index\n",
      "model-265000.data-00000-of-00001\n",
      "uploading tar archive to bucket=gs://ai-model-test-ml/cifar10_train.265000.tar.gz ...\n",
      "WARNING:google.auth._default:No project ID could be determined. Consider running `gcloud config set project` or setting the GOOGLE_CLOUD_PROJECT environment variable\n",
      "WARNING:google.auth._default:No project ID could be determined. Consider running `gcloud config set project` or setting the GOOGLE_CLOUD_PROJECT environment variable\n",
      "DEBUG:urllib3.util.retry:Converted retries value: 3 -> Retry(total=3, connect=None, read=None, redirect=None, status=None)\n",
      "DEBUG:google.auth.transport.requests:Making request: POST https://accounts.google.com/o/oauth2/token\n",
      "DEBUG:urllib3.connectionpool:Starting new HTTPS connection (1): accounts.google.com\n",
      "DEBUG:urllib3.connectionpool:https://accounts.google.com:443 \"POST /o/oauth2/token HTTP/1.1\" 200 None\n",
      "DEBUG:urllib3.connectionpool:Starting new HTTPS connection (1): www.googleapis.com\n",
      "DEBUG:urllib3.connectionpool:https://www.googleapis.com:443 \"GET /storage/v1/b/ai-model-test-ml?projection=noAcl HTTP/1.1\" 200 376\n",
      "DEBUG:urllib3.connectionpool:https://www.googleapis.com:443 \"GET /storage/v1/b/ai-model-test-ml/o?projection=noAcl HTTP/1.1\" 200 14333\n",
      "WARNING: gcs file already exists, use force=True. bucket=ai-model-test-ml\n",
      "saved: tar=cifar10_train.265000.tar.gz \n",
      "> bucket=gs://ai-model-test-ml/cifar10_train.265000.tar.gz \n",
      ">\n",
      "DEBUG:root:step 266000, train loss 2.1165482997894287, train accuracy 0.296875, test accuracy 0.3805, best 0.3839\n",
      "DEBUG:root:step 267000, train loss 1.8796420097351074, train accuracy 0.3828125, test accuracy 0.3808, best 0.3839\n",
      "DEBUG:root:step 268000, train loss 1.7957748174667358, train accuracy 0.4140625, test accuracy 0.3782, best 0.3839\n",
      "DEBUG:root:step 269000, train loss 1.8991458415985107, train accuracy 0.3515625, test accuracy 0.382, best 0.3839\n",
      "DEBUG:root:step 270000, train loss 1.8357150554656982, train accuracy 0.390625, test accuracy 0.3813, best 0.3839\n",
      "DEBUG:root:step 271000, train loss 1.7936580181121826, train accuracy 0.390625, test accuracy 0.3616, best 0.3839\n",
      "DEBUG:root:step 272000, train loss 1.9183887243270874, train accuracy 0.359375, test accuracy 0.3704, best 0.3839\n",
      "DEBUG:root:step 273000, train loss 1.894717812538147, train accuracy 0.3359375, test accuracy 0.379, best 0.3839\n",
      "DEBUG:root:step 274000, train loss 1.8300670385360718, train accuracy 0.4375, test accuracy 0.3829, best 0.3839\n",
      "DEBUG:root:step 275000, train loss 2.0117688179016113, train accuracy 0.3359375, test accuracy 0.3693, best 0.3839\n",
      "DEBUG:root:step 276000, train loss 1.966381549835205, train accuracy 0.3671875, test accuracy 0.3777, best 0.3839\n",
      "DEBUG:root:step 277000, train loss 1.899742603302002, train accuracy 0.359375, test accuracy 0.3763, best 0.3839\n"
     ]
    },
    {
     "name": "stdout",
     "output_type": "stream",
     "text": [
      "DEBUG:root:step 278000, train loss 1.900397777557373, train accuracy 0.359375, test accuracy 0.3837, best 0.3839\n",
      "DEBUG:root:step 279000, train loss 1.8402565717697144, train accuracy 0.390625, test accuracy 0.3694, best 0.3839\n",
      "DEBUG:root:step 280000, train loss 1.7132266759872437, train accuracy 0.4921875, test accuracy 0.3822, best 0.3839\n",
      "DEBUG:root:step 281000, train loss 1.9348503351211548, train accuracy 0.359375, test accuracy 0.3755, best 0.3839\n",
      "DEBUG:root:step 282000, train loss 1.9660115242004395, train accuracy 0.359375, test accuracy 0.3837, best 0.3839\n",
      "DEBUG:root:step 283000, train loss 1.7520097494125366, train accuracy 0.4375, test accuracy 0.3773, best 0.3839\n",
      "DEBUG:root:step 284000, train loss 1.8396635055541992, train accuracy 0.34375, test accuracy 0.3768, best 0.3839\n",
      "DEBUG:root:step 285000, train loss 1.9147461652755737, train accuracy 0.359375, test accuracy 0.3827, best 0.3839\n",
      "DEBUG:root:step 286000, train loss 1.9747047424316406, train accuracy 0.3359375, test accuracy 0.3807, best 0.3839\n",
      "DEBUG:root:step 287000, train loss 1.8717046976089478, train accuracy 0.3671875, test accuracy 0.3817, best 0.3839\n",
      "DEBUG:root:step 288000, train loss 1.9081356525421143, train accuracy 0.3359375, test accuracy 0.3696, best 0.3839\n",
      "DEBUG:root:step 289000, train loss 1.901358962059021, train accuracy 0.3828125, test accuracy 0.3781, best 0.3839\n",
      "DEBUG:root:step 290000, train loss 1.7148314714431763, train accuracy 0.421875, test accuracy 0.3853, best 0.3839\n",
      "WARNING:google.auth._default:No project ID could be determined. Consider running `gcloud config set project` or setting the GOOGLE_CLOUD_PROJECT environment variable\n",
      "DEBUG:urllib3.util.retry:Converted retries value: 3 -> Retry(total=3, connect=None, read=None, redirect=None, status=None)\n",
      "DEBUG:google.auth.transport.requests:Making request: POST https://accounts.google.com/o/oauth2/token\n",
      "DEBUG:urllib3.connectionpool:Starting new HTTPS connection (1): accounts.google.com\n",
      "DEBUG:urllib3.connectionpool:https://accounts.google.com:443 \"POST /o/oauth2/token HTTP/1.1\" 200 None\n",
      "DEBUG:urllib3.connectionpool:Starting new HTTPS connection (1): www.googleapis.com\n",
      "DEBUG:urllib3.connectionpool:https://www.googleapis.com:443 \"GET /storage/v1/b/ai-model-test-ml?projection=noAcl HTTP/1.1\" 200 376\n",
      "DEBUG:urllib3.connectionpool:https://www.googleapis.com:443 \"GET /storage/v1/b/ai-model-test-ml/o?projection=noAcl HTTP/1.1\" 200 14333\n",
      "model-290000.index\n",
      "model-290000.meta\n",
      "model-290000.data-00000-of-00001\n",
      "uploading tar archive to bucket=gs://ai-model-test-ml/cifar10_train.290000.tar.gz ...\n",
      "WARNING:google.auth._default:No project ID could be determined. Consider running `gcloud config set project` or setting the GOOGLE_CLOUD_PROJECT environment variable\n",
      "WARNING:google.auth._default:No project ID could be determined. Consider running `gcloud config set project` or setting the GOOGLE_CLOUD_PROJECT environment variable\n",
      "DEBUG:urllib3.util.retry:Converted retries value: 3 -> Retry(total=3, connect=None, read=None, redirect=None, status=None)\n",
      "DEBUG:google.auth.transport.requests:Making request: POST https://accounts.google.com/o/oauth2/token\n",
      "DEBUG:urllib3.connectionpool:Starting new HTTPS connection (1): accounts.google.com\n",
      "DEBUG:urllib3.connectionpool:https://accounts.google.com:443 \"POST /o/oauth2/token HTTP/1.1\" 200 None\n",
      "DEBUG:urllib3.connectionpool:Starting new HTTPS connection (1): www.googleapis.com\n",
      "DEBUG:urllib3.connectionpool:https://www.googleapis.com:443 \"GET /storage/v1/b/ai-model-test-ml?projection=noAcl HTTP/1.1\" 200 376\n",
      "DEBUG:urllib3.connectionpool:https://www.googleapis.com:443 \"GET /storage/v1/b/ai-model-test-ml/o?projection=noAcl HTTP/1.1\" 200 14333\n",
      "DEBUG:urllib3.util.retry:Converted retries value: 3 -> Retry(total=3, connect=None, read=None, redirect=None, status=None)\n",
      "DEBUG:google.auth.transport.requests:Making request: POST https://accounts.google.com/o/oauth2/token\n",
      "DEBUG:urllib3.connectionpool:Starting new HTTPS connection (1): accounts.google.com\n",
      "DEBUG:urllib3.connectionpool:https://accounts.google.com:443 \"POST /o/oauth2/token HTTP/1.1\" 200 None\n",
      "DEBUG:urllib3.connectionpool:Starting new HTTPS connection (1): www.googleapis.com\n",
      "DEBUG:urllib3.connectionpool:https://www.googleapis.com:443 \"GET /storage/v1/b/ai-model-test-ml?projection=noAcl HTTP/1.1\" 200 376\n",
      "uploading file=gs://ai-model-test-ml/cifar10_train.290000.tar.gz ...\n",
      "DEBUG:urllib3.connectionpool:https://www.googleapis.com:443 \"POST /upload/storage/v1/b/ai-model-test-ml/o?uploadType=multipart HTTP/1.1\" 200 804\n",
      "saved: tar=cifar10_train.290000.tar.gz \n",
      "> bucket=gs://ai-model-test-ml/cifar10_train.290000.tar.gz \n",
      ">\n",
      "DEBUG:root:step 291000, train loss 1.814350962638855, train accuracy 0.4296875, test accuracy 0.3809, best 0.3853\n",
      "DEBUG:root:step 292000, train loss 1.8036445379257202, train accuracy 0.3671875, test accuracy 0.3843, best 0.3853\n",
      "DEBUG:root:step 293000, train loss 1.8151775598526, train accuracy 0.390625, test accuracy 0.3771, best 0.3853\n",
      "DEBUG:root:step 294000, train loss 1.9443514347076416, train accuracy 0.359375, test accuracy 0.3638, best 0.3853\n",
      "DEBUG:root:step 295000, train loss 1.8212510347366333, train accuracy 0.4140625, test accuracy 0.3831, best 0.3853\n",
      "DEBUG:root:step 296000, train loss 1.865054965019226, train accuracy 0.3359375, test accuracy 0.3714, best 0.3853\n",
      "DEBUG:root:step 297000, train loss 1.8116986751556396, train accuracy 0.3671875, test accuracy 0.3796, best 0.3853\n",
      "DEBUG:root:step 298000, train loss 1.9236805438995361, train accuracy 0.375, test accuracy 0.3747, best 0.3853\n",
      "DEBUG:root:step 299000, train loss 1.9461593627929688, train accuracy 0.3671875, test accuracy 0.386, best 0.3853\n"
     ]
    },
    {
     "name": "stdout",
     "output_type": "stream",
     "text": [
      "WARNING:google.auth._default:No project ID could be determined. Consider running `gcloud config set project` or setting the GOOGLE_CLOUD_PROJECT environment variable\r\n",
      "DEBUG:urllib3.util.retry:Converted retries value: 3 -> Retry(total=3, connect=None, read=None, redirect=None, status=None)\r\n",
      "DEBUG:google.auth.transport.requests:Making request: POST https://accounts.google.com/o/oauth2/token\r\n",
      "DEBUG:urllib3.connectionpool:Starting new HTTPS connection (1): accounts.google.com\n",
      "DEBUG:urllib3.connectionpool:https://accounts.google.com:443 \"POST /o/oauth2/token HTTP/1.1\" 200 None\n",
      "DEBUG:urllib3.connectionpool:Starting new HTTPS connection (1): www.googleapis.com\n",
      "DEBUG:urllib3.connectionpool:https://www.googleapis.com:443 \"GET /storage/v1/b/ai-model-test-ml?projection=noAcl HTTP/1.1\" 200 376\n",
      "DEBUG:urllib3.connectionpool:https://www.googleapis.com:443 \"GET /storage/v1/b/ai-model-test-ml/o?projection=noAcl HTTP/1.1\" 200 15176\n",
      "model-299000.data-00000-of-00001\n",
      "model-299000.index\n",
      "model-299000.meta\n",
      "uploading tar archive to bucket=gs://ai-model-test-ml/cifar10_train.299000.tar.gz ...\n",
      "WARNING:google.auth._default:No project ID could be determined. Consider running `gcloud config set project` or setting the GOOGLE_CLOUD_PROJECT environment variable\n",
      "WARNING:google.auth._default:No project ID could be determined. Consider running `gcloud config set project` or setting the GOOGLE_CLOUD_PROJECT environment variable\n",
      "DEBUG:urllib3.util.retry:Converted retries value: 3 -> Retry(total=3, connect=None, read=None, redirect=None, status=None)\n",
      "DEBUG:google.auth.transport.requests:Making request: POST https://accounts.google.com/o/oauth2/token\n",
      "DEBUG:urllib3.connectionpool:Starting new HTTPS connection (1): accounts.google.com\n",
      "DEBUG:urllib3.connectionpool:https://accounts.google.com:443 \"POST /o/oauth2/token HTTP/1.1\" 200 None\n",
      "DEBUG:urllib3.connectionpool:Starting new HTTPS connection (1): www.googleapis.com\n",
      "DEBUG:urllib3.connectionpool:https://www.googleapis.com:443 \"GET /storage/v1/b/ai-model-test-ml?projection=noAcl HTTP/1.1\" 200 376\n",
      "DEBUG:urllib3.connectionpool:https://www.googleapis.com:443 \"GET /storage/v1/b/ai-model-test-ml/o?projection=noAcl HTTP/1.1\" 200 15176\n",
      "DEBUG:urllib3.util.retry:Converted retries value: 3 -> Retry(total=3, connect=None, read=None, redirect=None, status=None)\n",
      "DEBUG:google.auth.transport.requests:Making request: POST https://accounts.google.com/o/oauth2/token\n",
      "DEBUG:urllib3.connectionpool:Starting new HTTPS connection (1): accounts.google.com\n",
      "DEBUG:urllib3.connectionpool:https://accounts.google.com:443 \"POST /o/oauth2/token HTTP/1.1\" 200 None\n",
      "DEBUG:urllib3.connectionpool:Starting new HTTPS connection (1): www.googleapis.com\n",
      "DEBUG:urllib3.connectionpool:https://www.googleapis.com:443 \"GET /storage/v1/b/ai-model-test-ml?projection=noAcl HTTP/1.1\" 200 376\n",
      "uploading file=gs://ai-model-test-ml/cifar10_train.299000.tar.gz ...\n",
      "DEBUG:urllib3.connectionpool:https://www.googleapis.com:443 \"POST /upload/storage/v1/b/ai-model-test-ml/o?uploadType=multipart HTTP/1.1\" 200 804\n",
      "saved: tar=cifar10_train.299000.tar.gz \n",
      "> bucket=gs://ai-model-test-ml/cifar10_train.299000.tar.gz \n",
      ">\n",
      "DEBUG:root:step 299999, train loss 1.7896348237991333, train accuracy 0.390625, test accuracy 0.3796, best 0.386\n",
      "DEBUG:root:step 300000, train loss 1.7171494960784912, train accuracy 0.4296875, test accuracy 0.3794, best 0.386\n",
      "DEBUG:root:step 301000, train loss 1.843590259552002, train accuracy 0.40625, test accuracy 0.377, best 0.386\n",
      "DEBUG:root:step 302000, train loss 1.93352210521698, train accuracy 0.3515625, test accuracy 0.3691, best 0.386\n",
      "DEBUG:root:step 303000, train loss 1.8124769926071167, train accuracy 0.40625, test accuracy 0.3762, best 0.386\n",
      "DEBUG:root:step 304000, train loss 1.8710427284240723, train accuracy 0.359375, test accuracy 0.3867, best 0.386\n",
      "WARNING:google.auth._default:No project ID could be determined. Consider running `gcloud config set project` or setting the GOOGLE_CLOUD_PROJECT environment variable\n",
      "DEBUG:urllib3.util.retry:Converted retries value: 3 -> Retry(total=3, connect=None, read=None, redirect=None, status=None)\n",
      "DEBUG:google.auth.transport.requests:Making request: POST https://accounts.google.com/o/oauth2/token\n",
      "DEBUG:urllib3.connectionpool:Starting new HTTPS connection (1): accounts.google.com\n",
      "DEBUG:urllib3.connectionpool:https://accounts.google.com:443 \"POST /o/oauth2/token HTTP/1.1\" 200 None\n",
      "DEBUG:urllib3.connectionpool:Starting new HTTPS connection (1): www.googleapis.com\n",
      "DEBUG:urllib3.connectionpool:https://www.googleapis.com:443 \"GET /storage/v1/b/ai-model-test-ml?projection=noAcl HTTP/1.1\" 200 376\n",
      "DEBUG:urllib3.connectionpool:https://www.googleapis.com:443 \"GET /storage/v1/b/ai-model-test-ml/o?projection=noAcl HTTP/1.1\" 200 16019\n",
      "model-304000.meta\n",
      "model-304000.data-00000-of-00001\n",
      "model-304000.index\n",
      "uploading tar archive to bucket=gs://ai-model-test-ml/cifar10_train.304000.tar.gz ...\n",
      "WARNING:google.auth._default:No project ID could be determined. Consider running `gcloud config set project` or setting the GOOGLE_CLOUD_PROJECT environment variable\n",
      "WARNING:google.auth._default:No project ID could be determined. Consider running `gcloud config set project` or setting the GOOGLE_CLOUD_PROJECT environment variable\n",
      "DEBUG:urllib3.util.retry:Converted retries value: 3 -> Retry(total=3, connect=None, read=None, redirect=None, status=None)\n",
      "DEBUG:google.auth.transport.requests:Making request: POST https://accounts.google.com/o/oauth2/token\n",
      "DEBUG:urllib3.connectionpool:Starting new HTTPS connection (1): accounts.google.com\n",
      "DEBUG:urllib3.connectionpool:https://accounts.google.com:443 \"POST /o/oauth2/token HTTP/1.1\" 200 None\n",
      "DEBUG:urllib3.connectionpool:Starting new HTTPS connection (1): www.googleapis.com\n",
      "DEBUG:urllib3.connectionpool:https://www.googleapis.com:443 \"GET /storage/v1/b/ai-model-test-ml?projection=noAcl HTTP/1.1\" 200 376\n",
      "DEBUG:urllib3.connectionpool:https://www.googleapis.com:443 \"GET /storage/v1/b/ai-model-test-ml/o?projection=noAcl HTTP/1.1\" 200 16019\n",
      "DEBUG:urllib3.util.retry:Converted retries value: 3 -> Retry(total=3, connect=None, read=None, redirect=None, status=None)\n",
      "DEBUG:google.auth.transport.requests:Making request: POST https://accounts.google.com/o/oauth2/token\n",
      "DEBUG:urllib3.connectionpool:Starting new HTTPS connection (1): accounts.google.com\n"
     ]
    },
    {
     "name": "stdout",
     "output_type": "stream",
     "text": [
      "DEBUG:urllib3.connectionpool:https://accounts.google.com:443 \"POST /o/oauth2/token HTTP/1.1\" 200 None\n",
      "DEBUG:urllib3.connectionpool:Starting new HTTPS connection (1): www.googleapis.com\n",
      "DEBUG:urllib3.connectionpool:https://www.googleapis.com:443 \"GET /storage/v1/b/ai-model-test-ml?projection=noAcl HTTP/1.1\" 200 376\n",
      "uploading file=gs://ai-model-test-ml/cifar10_train.304000.tar.gz ...\n",
      "DEBUG:urllib3.connectionpool:https://www.googleapis.com:443 \"POST /upload/storage/v1/b/ai-model-test-ml/o?uploadType=multipart HTTP/1.1\" 200 804\n",
      "saved: tar=cifar10_train.304000.tar.gz \n",
      "> bucket=gs://ai-model-test-ml/cifar10_train.304000.tar.gz \n",
      ">\n",
      "DEBUG:root:step 305000, train loss 1.8578612804412842, train accuracy 0.375, test accuracy 0.3828, best 0.3867\n",
      "DEBUG:root:step 306000, train loss 1.992168664932251, train accuracy 0.34375, test accuracy 0.3761, best 0.3867\n",
      "DEBUG:root:step 307000, train loss 1.7581263780593872, train accuracy 0.4375, test accuracy 0.3745, best 0.3867\n",
      "DEBUG:root:step 308000, train loss 1.799025058746338, train accuracy 0.40625, test accuracy 0.3836, best 0.3867\n",
      "DEBUG:root:step 309000, train loss 1.6744928359985352, train accuracy 0.4765625, test accuracy 0.3807, best 0.3867\n",
      "DEBUG:root:step 310000, train loss 1.8388547897338867, train accuracy 0.421875, test accuracy 0.3693, best 0.3867\n",
      "DEBUG:root:step 311000, train loss 1.7504581212997437, train accuracy 0.4140625, test accuracy 0.385, best 0.3867\n",
      "DEBUG:root:step 312000, train loss 1.828494668006897, train accuracy 0.375, test accuracy 0.3834, best 0.3867\n",
      "DEBUG:root:step 313000, train loss 2.007570743560791, train accuracy 0.328125, test accuracy 0.3834, best 0.3867\n",
      "DEBUG:root:step 314000, train loss 1.83854079246521, train accuracy 0.3828125, test accuracy 0.3722, best 0.3867\n",
      "DEBUG:root:step 315000, train loss 1.9181163311004639, train accuracy 0.3203125, test accuracy 0.3814, best 0.3867\n",
      "DEBUG:root:step 316000, train loss 1.8825695514678955, train accuracy 0.390625, test accuracy 0.3712, best 0.3867\n",
      "DEBUG:root:step 317000, train loss 1.7745025157928467, train accuracy 0.4453125, test accuracy 0.3746, best 0.3867\n",
      "DEBUG:root:step 318000, train loss 1.763325572013855, train accuracy 0.421875, test accuracy 0.3778, best 0.3867\n",
      "DEBUG:root:step 319000, train loss 1.804429292678833, train accuracy 0.359375, test accuracy 0.3793, best 0.3867\n",
      "DEBUG:root:step 320000, train loss 1.8187240362167358, train accuracy 0.4375, test accuracy 0.3769, best 0.3867\n",
      "DEBUG:root:step 321000, train loss 1.8849036693572998, train accuracy 0.390625, test accuracy 0.3804, best 0.3867\n",
      "DEBUG:root:step 322000, train loss 1.7948614358901978, train accuracy 0.4296875, test accuracy 0.3732, best 0.3867\n",
      "DEBUG:root:step 323000, train loss 1.7944151163101196, train accuracy 0.4296875, test accuracy 0.3796, best 0.3867\n",
      "DEBUG:root:step 324000, train loss 1.8765804767608643, train accuracy 0.375, test accuracy 0.3776, best 0.3867\n",
      "DEBUG:root:step 325000, train loss 2.0565683841705322, train accuracy 0.3046875, test accuracy 0.3725, best 0.3867\n",
      "DEBUG:root:step 326000, train loss 1.7980231046676636, train accuracy 0.453125, test accuracy 0.3825, best 0.3867\n",
      "DEBUG:root:step 327000, train loss 1.8143186569213867, train accuracy 0.375, test accuracy 0.3845, best 0.3867\n",
      "DEBUG:root:step 328000, train loss 1.7495006322860718, train accuracy 0.453125, test accuracy 0.3809, best 0.3867\n",
      "DEBUG:root:step 329000, train loss 2.0829737186431885, train accuracy 0.265625, test accuracy 0.3749, best 0.3867\n",
      "DEBUG:root:step 330000, train loss 2.0062918663024902, train accuracy 0.3203125, test accuracy 0.3882, best 0.3867\n",
      "WARNING:google.auth._default:No project ID could be determined. Consider running `gcloud config set project` or setting the GOOGLE_CLOUD_PROJECT environment variable\n",
      "DEBUG:urllib3.util.retry:Converted retries value: 3 -> Retry(total=3, connect=None, read=None, redirect=None, status=None)\n",
      "DEBUG:google.auth.transport.requests:Making request: POST https://accounts.google.com/o/oauth2/token\n",
      "DEBUG:urllib3.connectionpool:Starting new HTTPS connection (1): accounts.google.com\n",
      "DEBUG:urllib3.connectionpool:https://accounts.google.com:443 \"POST /o/oauth2/token HTTP/1.1\" 200 None\n",
      "DEBUG:urllib3.connectionpool:Starting new HTTPS connection (1): www.googleapis.com\n",
      "DEBUG:urllib3.connectionpool:https://www.googleapis.com:443 \"GET /storage/v1/b/ai-model-test-ml?projection=noAcl HTTP/1.1\" 200 376\n",
      "DEBUG:urllib3.connectionpool:https://www.googleapis.com:443 \"GET /storage/v1/b/ai-model-test-ml/o?projection=noAcl HTTP/1.1\" 200 16862\n",
      "model-330000.meta\n",
      "model-330000.index\n",
      "model-330000.data-00000-of-00001\n",
      "uploading tar archive to bucket=gs://ai-model-test-ml/cifar10_train.330000.tar.gz ...\n",
      "WARNING:google.auth._default:No project ID could be determined. Consider running `gcloud config set project` or setting the GOOGLE_CLOUD_PROJECT environment variable\n",
      "WARNING:google.auth._default:No project ID could be determined. Consider running `gcloud config set project` or setting the GOOGLE_CLOUD_PROJECT environment variable\n",
      "DEBUG:urllib3.util.retry:Converted retries value: 3 -> Retry(total=3, connect=None, read=None, redirect=None, status=None)\n",
      "DEBUG:google.auth.transport.requests:Making request: POST https://accounts.google.com/o/oauth2/token\n",
      "DEBUG:urllib3.connectionpool:Starting new HTTPS connection (1): accounts.google.com\n",
      "DEBUG:urllib3.connectionpool:https://accounts.google.com:443 \"POST /o/oauth2/token HTTP/1.1\" 200 None\n",
      "DEBUG:urllib3.connectionpool:Starting new HTTPS connection (1): www.googleapis.com\n"
     ]
    },
    {
     "name": "stdout",
     "output_type": "stream",
     "text": [
      "DEBUG:urllib3.connectionpool:https://www.googleapis.com:443 \"GET /storage/v1/b/ai-model-test-ml?projection=noAcl HTTP/1.1\" 200 376\n",
      "DEBUG:urllib3.connectionpool:https://www.googleapis.com:443 \"GET /storage/v1/b/ai-model-test-ml/o?projection=noAcl HTTP/1.1\" 200 16862\n",
      "DEBUG:urllib3.util.retry:Converted retries value: 3 -> Retry(total=3, connect=None, read=None, redirect=None, status=None)\n",
      "DEBUG:google.auth.transport.requests:Making request: POST https://accounts.google.com/o/oauth2/token\n",
      "DEBUG:urllib3.connectionpool:Starting new HTTPS connection (1): accounts.google.com\n",
      "DEBUG:urllib3.connectionpool:https://accounts.google.com:443 \"POST /o/oauth2/token HTTP/1.1\" 200 None\n",
      "DEBUG:urllib3.connectionpool:Starting new HTTPS connection (1): www.googleapis.com\n",
      "DEBUG:urllib3.connectionpool:https://www.googleapis.com:443 \"GET /storage/v1/b/ai-model-test-ml?projection=noAcl HTTP/1.1\" 200 376\n",
      "uploading file=gs://ai-model-test-ml/cifar10_train.330000.tar.gz ...\n",
      "DEBUG:urllib3.connectionpool:https://www.googleapis.com:443 \"POST /upload/storage/v1/b/ai-model-test-ml/o?uploadType=multipart HTTP/1.1\" 200 804\n",
      "saved: tar=cifar10_train.330000.tar.gz \n",
      "> bucket=gs://ai-model-test-ml/cifar10_train.330000.tar.gz \n",
      ">\n",
      "DEBUG:root:step 331000, train loss 1.8249412775039673, train accuracy 0.390625, test accuracy 0.3771, best 0.3882\n",
      "DEBUG:root:step 332000, train loss 1.8350938558578491, train accuracy 0.3515625, test accuracy 0.3787, best 0.3882\n",
      "DEBUG:root:step 333000, train loss 1.7757649421691895, train accuracy 0.4140625, test accuracy 0.3873, best 0.3882\n",
      "DEBUG:root:step 334000, train loss 1.857953429222107, train accuracy 0.34375, test accuracy 0.3763, best 0.3882\n",
      "DEBUG:root:step 335000, train loss 1.8937255144119263, train accuracy 0.390625, test accuracy 0.3888, best 0.3882\n",
      "WARNING:google.auth._default:No project ID could be determined. Consider running `gcloud config set project` or setting the GOOGLE_CLOUD_PROJECT environment variable\n",
      "DEBUG:urllib3.util.retry:Converted retries value: 3 -> Retry(total=3, connect=None, read=None, redirect=None, status=None)\n",
      "DEBUG:google.auth.transport.requests:Making request: POST https://accounts.google.com/o/oauth2/token\n",
      "DEBUG:urllib3.connectionpool:Starting new HTTPS connection (1): accounts.google.com\n",
      "DEBUG:urllib3.connectionpool:https://accounts.google.com:443 \"POST /o/oauth2/token HTTP/1.1\" 200 None\n",
      "DEBUG:urllib3.connectionpool:Starting new HTTPS connection (1): www.googleapis.com\n",
      "DEBUG:urllib3.connectionpool:https://www.googleapis.com:443 \"GET /storage/v1/b/ai-model-test-ml?projection=noAcl HTTP/1.1\" 200 376\n",
      "DEBUG:urllib3.connectionpool:https://www.googleapis.com:443 \"GET /storage/v1/b/ai-model-test-ml/o?projection=noAcl HTTP/1.1\" 200 17705\n",
      "model-335000.index\n",
      "model-335000.data-00000-of-00001\n",
      "model-335000.meta\n",
      "uploading tar archive to bucket=gs://ai-model-test-ml/cifar10_train.335000.tar.gz ...\n",
      "WARNING:google.auth._default:No project ID could be determined. Consider running `gcloud config set project` or setting the GOOGLE_CLOUD_PROJECT environment variable\n",
      "WARNING:google.auth._default:No project ID could be determined. Consider running `gcloud config set project` or setting the GOOGLE_CLOUD_PROJECT environment variable\n",
      "DEBUG:urllib3.util.retry:Converted retries value: 3 -> Retry(total=3, connect=None, read=None, redirect=None, status=None)\n",
      "DEBUG:google.auth.transport.requests:Making request: POST https://accounts.google.com/o/oauth2/token\n",
      "DEBUG:urllib3.connectionpool:Starting new HTTPS connection (1): accounts.google.com\n",
      "DEBUG:urllib3.connectionpool:https://accounts.google.com:443 \"POST /o/oauth2/token HTTP/1.1\" 200 None\n",
      "DEBUG:urllib3.connectionpool:Starting new HTTPS connection (1): www.googleapis.com\n",
      "DEBUG:urllib3.connectionpool:https://www.googleapis.com:443 \"GET /storage/v1/b/ai-model-test-ml?projection=noAcl HTTP/1.1\" 200 376\n",
      "DEBUG:urllib3.connectionpool:https://www.googleapis.com:443 \"GET /storage/v1/b/ai-model-test-ml/o?projection=noAcl HTTP/1.1\" 200 17705\n",
      "DEBUG:urllib3.util.retry:Converted retries value: 3 -> Retry(total=3, connect=None, read=None, redirect=None, status=None)\n",
      "DEBUG:google.auth.transport.requests:Making request: POST https://accounts.google.com/o/oauth2/token\n",
      "DEBUG:urllib3.connectionpool:Starting new HTTPS connection (1): accounts.google.com\n",
      "DEBUG:urllib3.connectionpool:https://accounts.google.com:443 \"POST /o/oauth2/token HTTP/1.1\" 200 None\n",
      "DEBUG:urllib3.connectionpool:Starting new HTTPS connection (1): www.googleapis.com\n",
      "DEBUG:urllib3.connectionpool:https://www.googleapis.com:443 \"GET /storage/v1/b/ai-model-test-ml?projection=noAcl HTTP/1.1\" 200 376\n",
      "uploading file=gs://ai-model-test-ml/cifar10_train.335000.tar.gz ...\n",
      "DEBUG:urllib3.connectionpool:https://www.googleapis.com:443 \"POST /upload/storage/v1/b/ai-model-test-ml/o?uploadType=multipart HTTP/1.1\" 200 804\n",
      "saved: tar=cifar10_train.335000.tar.gz \n",
      "> bucket=gs://ai-model-test-ml/cifar10_train.335000.tar.gz \n",
      ">\n",
      "DEBUG:root:step 336000, train loss 1.9672942161560059, train accuracy 0.3203125, test accuracy 0.3706, best 0.3888\n",
      "DEBUG:root:step 337000, train loss 1.726210355758667, train accuracy 0.40625, test accuracy 0.3775, best 0.3888\n",
      "DEBUG:root:step 338000, train loss 1.9073445796966553, train accuracy 0.3828125, test accuracy 0.3772, best 0.3888\n",
      "DEBUG:root:step 339000, train loss 1.7894617319107056, train accuracy 0.4140625, test accuracy 0.3767, best 0.3888\n",
      "DEBUG:root:step 340000, train loss 1.959429144859314, train accuracy 0.3671875, test accuracy 0.3779, best 0.3888\n",
      "DEBUG:root:step 341000, train loss 1.9464659690856934, train accuracy 0.359375, test accuracy 0.3753, best 0.3888\n",
      "DEBUG:root:step 342000, train loss 1.861048936843872, train accuracy 0.375, test accuracy 0.3807, best 0.3888\n",
      "DEBUG:root:step 343000, train loss 2.035367965698242, train accuracy 0.265625, test accuracy 0.3719, best 0.3888\n"
     ]
    },
    {
     "name": "stdout",
     "output_type": "stream",
     "text": [
      "DEBUG:root:step 344000, train loss 1.757811188697815, train accuracy 0.40625, test accuracy 0.3824, best 0.3888\n",
      "DEBUG:root:step 345000, train loss 2.0457816123962402, train accuracy 0.3359375, test accuracy 0.3784, best 0.3888\n",
      "DEBUG:root:step 346000, train loss 2.0582711696624756, train accuracy 0.2578125, test accuracy 0.3688, best 0.3888\n",
      "DEBUG:root:step 347000, train loss 1.7566498517990112, train accuracy 0.4453125, test accuracy 0.3705, best 0.3888\n",
      "DEBUG:root:step 348000, train loss 1.91310715675354, train accuracy 0.359375, test accuracy 0.3635, best 0.3888\n",
      "DEBUG:root:step 349000, train loss 1.793470025062561, train accuracy 0.359375, test accuracy 0.3757, best 0.3888\n",
      "DEBUG:root:step 350000, train loss 1.8726403713226318, train accuracy 0.40625, test accuracy 0.378, best 0.3888\n",
      "DEBUG:root:step 351000, train loss 1.8506661653518677, train accuracy 0.3984375, test accuracy 0.381, best 0.3888\n",
      "DEBUG:root:step 352000, train loss 1.9282822608947754, train accuracy 0.3359375, test accuracy 0.3782, best 0.3888\n",
      "DEBUG:root:step 353000, train loss 1.8040771484375, train accuracy 0.4140625, test accuracy 0.3769, best 0.3888\n",
      "DEBUG:root:step 354000, train loss 1.824783205986023, train accuracy 0.3515625, test accuracy 0.3771, best 0.3888\n",
      "DEBUG:root:step 355000, train loss 1.79987370967865, train accuracy 0.3984375, test accuracy 0.3774, best 0.3888\n",
      "DEBUG:root:step 356000, train loss 1.8019262552261353, train accuracy 0.3515625, test accuracy 0.3889, best 0.3888\n",
      "WARNING:google.auth._default:No project ID could be determined. Consider running `gcloud config set project` or setting the GOOGLE_CLOUD_PROJECT environment variable\n",
      "DEBUG:urllib3.util.retry:Converted retries value: 3 -> Retry(total=3, connect=None, read=None, redirect=None, status=None)\n",
      "DEBUG:google.auth.transport.requests:Making request: POST https://accounts.google.com/o/oauth2/token\n",
      "DEBUG:urllib3.connectionpool:Starting new HTTPS connection (1): accounts.google.com\n",
      "DEBUG:urllib3.connectionpool:https://accounts.google.com:443 \"POST /o/oauth2/token HTTP/1.1\" 200 None\n",
      "DEBUG:urllib3.connectionpool:Starting new HTTPS connection (1): www.googleapis.com\n",
      "DEBUG:urllib3.connectionpool:https://www.googleapis.com:443 \"GET /storage/v1/b/ai-model-test-ml?projection=noAcl HTTP/1.1\" 200 376\n",
      "DEBUG:urllib3.connectionpool:https://www.googleapis.com:443 \"GET /storage/v1/b/ai-model-test-ml/o?projection=noAcl HTTP/1.1\" 200 18548\n",
      "model-356000.data-00000-of-00001\n",
      "model-356000.index\n",
      "model-356000.meta\n",
      "uploading tar archive to bucket=gs://ai-model-test-ml/cifar10_train.356000.tar.gz ...\n",
      "WARNING:google.auth._default:No project ID could be determined. Consider running `gcloud config set project` or setting the GOOGLE_CLOUD_PROJECT environment variable\n",
      "WARNING:google.auth._default:No project ID could be determined. Consider running `gcloud config set project` or setting the GOOGLE_CLOUD_PROJECT environment variable\n",
      "DEBUG:urllib3.util.retry:Converted retries value: 3 -> Retry(total=3, connect=None, read=None, redirect=None, status=None)\n",
      "DEBUG:google.auth.transport.requests:Making request: POST https://accounts.google.com/o/oauth2/token\n",
      "DEBUG:urllib3.connectionpool:Starting new HTTPS connection (1): accounts.google.com\n",
      "DEBUG:urllib3.connectionpool:https://accounts.google.com:443 \"POST /o/oauth2/token HTTP/1.1\" 200 None\n",
      "DEBUG:urllib3.connectionpool:Starting new HTTPS connection (1): www.googleapis.com\n",
      "DEBUG:urllib3.connectionpool:https://www.googleapis.com:443 \"GET /storage/v1/b/ai-model-test-ml?projection=noAcl HTTP/1.1\" 200 376\n",
      "DEBUG:urllib3.connectionpool:https://www.googleapis.com:443 \"GET /storage/v1/b/ai-model-test-ml/o?projection=noAcl HTTP/1.1\" 200 18548\n",
      "DEBUG:urllib3.util.retry:Converted retries value: 3 -> Retry(total=3, connect=None, read=None, redirect=None, status=None)\n",
      "DEBUG:google.auth.transport.requests:Making request: POST https://accounts.google.com/o/oauth2/token\n",
      "DEBUG:urllib3.connectionpool:Starting new HTTPS connection (1): accounts.google.com\n",
      "DEBUG:urllib3.connectionpool:https://accounts.google.com:443 \"POST /o/oauth2/token HTTP/1.1\" 200 None\n",
      "DEBUG:urllib3.connectionpool:Starting new HTTPS connection (1): www.googleapis.com\n",
      "DEBUG:urllib3.connectionpool:https://www.googleapis.com:443 \"GET /storage/v1/b/ai-model-test-ml?projection=noAcl HTTP/1.1\" 200 376\n",
      "uploading file=gs://ai-model-test-ml/cifar10_train.356000.tar.gz ...\n",
      "DEBUG:urllib3.connectionpool:https://www.googleapis.com:443 \"POST /upload/storage/v1/b/ai-model-test-ml/o?uploadType=multipart HTTP/1.1\" 200 804\n",
      "saved: tar=cifar10_train.356000.tar.gz \n",
      "> bucket=gs://ai-model-test-ml/cifar10_train.356000.tar.gz \n",
      ">\n",
      "DEBUG:root:step 357000, train loss 1.7405120134353638, train accuracy 0.4140625, test accuracy 0.3802, best 0.3889\n",
      "DEBUG:root:step 358000, train loss 1.8436355590820312, train accuracy 0.3984375, test accuracy 0.3815, best 0.3889\n",
      "DEBUG:root:step 359000, train loss 1.7253079414367676, train accuracy 0.453125, test accuracy 0.375, best 0.3889\n",
      "DEBUG:root:step 360000, train loss 1.8099098205566406, train accuracy 0.40625, test accuracy 0.3841, best 0.3889\n",
      "DEBUG:root:step 361000, train loss 1.7564849853515625, train accuracy 0.3984375, test accuracy 0.3695, best 0.3889\n",
      "DEBUG:root:step 362000, train loss 1.7398484945297241, train accuracy 0.4453125, test accuracy 0.3757, best 0.3889\n",
      "DEBUG:root:step 363000, train loss 1.7372478246688843, train accuracy 0.40625, test accuracy 0.3711, best 0.3889\n",
      "DEBUG:root:step 364000, train loss 1.9062806367874146, train accuracy 0.40625, test accuracy 0.3796, best 0.3889\n",
      "DEBUG:root:step 365000, train loss 1.8696261644363403, train accuracy 0.421875, test accuracy 0.3757, best 0.3889\n"
     ]
    },
    {
     "name": "stdout",
     "output_type": "stream",
     "text": [
      "DEBUG:root:step 366000, train loss 1.6460598707199097, train accuracy 0.453125, test accuracy 0.3748, best 0.3889\n",
      "DEBUG:root:step 367000, train loss 1.810532808303833, train accuracy 0.40625, test accuracy 0.3809, best 0.3889\n",
      "DEBUG:root:step 368000, train loss 2.0227415561676025, train accuracy 0.2734375, test accuracy 0.3592, best 0.3889\n",
      "DEBUG:root:step 369000, train loss 1.751160740852356, train accuracy 0.4375, test accuracy 0.3896, best 0.3889\n",
      "WARNING:google.auth._default:No project ID could be determined. Consider running `gcloud config set project` or setting the GOOGLE_CLOUD_PROJECT environment variable\n",
      "DEBUG:urllib3.util.retry:Converted retries value: 3 -> Retry(total=3, connect=None, read=None, redirect=None, status=None)\n",
      "DEBUG:google.auth.transport.requests:Making request: POST https://accounts.google.com/o/oauth2/token\n",
      "DEBUG:urllib3.connectionpool:Starting new HTTPS connection (1): accounts.google.com\n",
      "DEBUG:urllib3.connectionpool:https://accounts.google.com:443 \"POST /o/oauth2/token HTTP/1.1\" 200 None\n",
      "DEBUG:urllib3.connectionpool:Starting new HTTPS connection (1): www.googleapis.com\n",
      "DEBUG:urllib3.connectionpool:https://www.googleapis.com:443 \"GET /storage/v1/b/ai-model-test-ml?projection=noAcl HTTP/1.1\" 200 376\n",
      "DEBUG:urllib3.connectionpool:https://www.googleapis.com:443 \"GET /storage/v1/b/ai-model-test-ml/o?projection=noAcl HTTP/1.1\" 200 19391\n",
      "model-369000.index\n",
      "model-369000.meta\n",
      "model-369000.data-00000-of-00001\n",
      "uploading tar archive to bucket=gs://ai-model-test-ml/cifar10_train.369000.tar.gz ...\n",
      "WARNING:google.auth._default:No project ID could be determined. Consider running `gcloud config set project` or setting the GOOGLE_CLOUD_PROJECT environment variable\n",
      "WARNING:google.auth._default:No project ID could be determined. Consider running `gcloud config set project` or setting the GOOGLE_CLOUD_PROJECT environment variable\n",
      "DEBUG:urllib3.util.retry:Converted retries value: 3 -> Retry(total=3, connect=None, read=None, redirect=None, status=None)\n",
      "DEBUG:google.auth.transport.requests:Making request: POST https://accounts.google.com/o/oauth2/token\n",
      "DEBUG:urllib3.connectionpool:Starting new HTTPS connection (1): accounts.google.com\n",
      "DEBUG:urllib3.connectionpool:https://accounts.google.com:443 \"POST /o/oauth2/token HTTP/1.1\" 200 None\n",
      "DEBUG:urllib3.connectionpool:Starting new HTTPS connection (1): www.googleapis.com\n",
      "DEBUG:urllib3.connectionpool:https://www.googleapis.com:443 \"GET /storage/v1/b/ai-model-test-ml?projection=noAcl HTTP/1.1\" 200 376\n",
      "DEBUG:urllib3.connectionpool:https://www.googleapis.com:443 \"GET /storage/v1/b/ai-model-test-ml/o?projection=noAcl HTTP/1.1\" 200 19391\n",
      "DEBUG:urllib3.util.retry:Converted retries value: 3 -> Retry(total=3, connect=None, read=None, redirect=None, status=None)\n",
      "DEBUG:google.auth.transport.requests:Making request: POST https://accounts.google.com/o/oauth2/token\n",
      "DEBUG:urllib3.connectionpool:Starting new HTTPS connection (1): accounts.google.com\n",
      "DEBUG:urllib3.connectionpool:https://accounts.google.com:443 \"POST /o/oauth2/token HTTP/1.1\" 200 None\n",
      "DEBUG:urllib3.connectionpool:Starting new HTTPS connection (1): www.googleapis.com\n",
      "DEBUG:urllib3.connectionpool:https://www.googleapis.com:443 \"GET /storage/v1/b/ai-model-test-ml?projection=noAcl HTTP/1.1\" 200 376\n",
      "uploading file=gs://ai-model-test-ml/cifar10_train.369000.tar.gz ...\n",
      "DEBUG:urllib3.connectionpool:https://www.googleapis.com:443 \"POST /upload/storage/v1/b/ai-model-test-ml/o?uploadType=multipart HTTP/1.1\" 200 804\n",
      "saved: tar=cifar10_train.369000.tar.gz \n",
      "> bucket=gs://ai-model-test-ml/cifar10_train.369000.tar.gz \n",
      ">\n",
      "DEBUG:root:step 370000, train loss 1.9284154176712036, train accuracy 0.3828125, test accuracy 0.3783, best 0.3896\n",
      "DEBUG:root:step 371000, train loss 1.794945478439331, train accuracy 0.4140625, test accuracy 0.3726, best 0.3896\n",
      "DEBUG:root:step 372000, train loss 1.9239599704742432, train accuracy 0.3125, test accuracy 0.381, best 0.3896\n",
      "DEBUG:root:step 373000, train loss 1.7997856140136719, train accuracy 0.375, test accuracy 0.3752, best 0.3896\n",
      "DEBUG:root:step 374000, train loss 1.8572325706481934, train accuracy 0.3671875, test accuracy 0.3827, best 0.3896\n",
      "DEBUG:root:step 375000, train loss 1.852208137512207, train accuracy 0.34375, test accuracy 0.3772, best 0.3896\n",
      "DEBUG:root:step 376000, train loss 1.9745451211929321, train accuracy 0.3046875, test accuracy 0.3815, best 0.3896\n",
      "DEBUG:root:step 377000, train loss 1.857110857963562, train accuracy 0.375, test accuracy 0.3795, best 0.3896\n",
      "DEBUG:root:step 378000, train loss 1.891321063041687, train accuracy 0.3984375, test accuracy 0.3866, best 0.3896\n",
      "DEBUG:root:step 379000, train loss 1.7660627365112305, train accuracy 0.40625, test accuracy 0.3836, best 0.3896\n",
      "DEBUG:root:step 380000, train loss 1.7616119384765625, train accuracy 0.390625, test accuracy 0.3793, best 0.3896\n",
      "DEBUG:root:step 381000, train loss 1.8493866920471191, train accuracy 0.375, test accuracy 0.3786, best 0.3896\n",
      "DEBUG:root:step 382000, train loss 1.9463444948196411, train accuracy 0.34375, test accuracy 0.3835, best 0.3896\n",
      "DEBUG:root:step 383000, train loss 1.9945734739303589, train accuracy 0.359375, test accuracy 0.3775, best 0.3896\n",
      "DEBUG:root:step 384000, train loss 1.8619972467422485, train accuracy 0.3203125, test accuracy 0.3615, best 0.3896\n"
     ]
    },
    {
     "name": "stdout",
     "output_type": "stream",
     "text": [
      "DEBUG:root:step 385000, train loss 1.6777218580245972, train accuracy 0.4765625, test accuracy 0.3802, best 0.3896\n",
      "DEBUG:root:step 386000, train loss 1.8582502603530884, train accuracy 0.3515625, test accuracy 0.3834, best 0.3896\n",
      "DEBUG:root:step 387000, train loss 1.799638032913208, train accuracy 0.40625, test accuracy 0.3828, best 0.3896\n",
      "DEBUG:root:step 388000, train loss 1.847791314125061, train accuracy 0.375, test accuracy 0.3661, best 0.3896\n",
      "DEBUG:root:step 389000, train loss 1.7548868656158447, train accuracy 0.421875, test accuracy 0.3779, best 0.3896\n",
      "DEBUG:root:step 390000, train loss 1.87272310256958, train accuracy 0.3984375, test accuracy 0.3771, best 0.3896\n",
      "DEBUG:root:step 391000, train loss 1.8916022777557373, train accuracy 0.3828125, test accuracy 0.3761, best 0.3896\n",
      "DEBUG:root:step 392000, train loss 1.7524363994598389, train accuracy 0.3984375, test accuracy 0.3631, best 0.3896\n",
      "DEBUG:root:step 393000, train loss 1.8390969038009644, train accuracy 0.390625, test accuracy 0.38, best 0.3896\n",
      "DEBUG:root:step 394000, train loss 1.64346444606781, train accuracy 0.5078125, test accuracy 0.3756, best 0.3896\n",
      "DEBUG:root:step 395000, train loss 1.8781049251556396, train accuracy 0.328125, test accuracy 0.3831, best 0.3896\n",
      "DEBUG:root:step 396000, train loss 1.8262680768966675, train accuracy 0.40625, test accuracy 0.373, best 0.3896\n",
      "DEBUG:root:step 397000, train loss 1.8652113676071167, train accuracy 0.3828125, test accuracy 0.3786, best 0.3896\n",
      "DEBUG:root:step 398000, train loss 1.9421484470367432, train accuracy 0.359375, test accuracy 0.3772, best 0.3896\n",
      "DEBUG:root:step 399000, train loss 1.8283535242080688, train accuracy 0.3671875, test accuracy 0.3816, best 0.3896\n",
      "DEBUG:root:step 400000, train loss 1.7382409572601318, train accuracy 0.453125, test accuracy 0.3705, best 0.3896\n",
      "DEBUG:root:step 401000, train loss 1.9347939491271973, train accuracy 0.3515625, test accuracy 0.3733, best 0.3896\n",
      "DEBUG:root:step 402000, train loss 1.7644213438034058, train accuracy 0.4296875, test accuracy 0.3762, best 0.3896\n",
      "DEBUG:root:step 403000, train loss 1.9852977991104126, train accuracy 0.2890625, test accuracy 0.3828, best 0.3896\n",
      "DEBUG:root:step 404000, train loss 1.8847399950027466, train accuracy 0.2890625, test accuracy 0.377, best 0.3896\n",
      "DEBUG:root:step 405000, train loss 1.9404637813568115, train accuracy 0.359375, test accuracy 0.3797, best 0.3896\n",
      "DEBUG:root:step 406000, train loss 1.8682682514190674, train accuracy 0.4140625, test accuracy 0.3782, best 0.3896\n",
      "DEBUG:root:step 407000, train loss 1.9365993738174438, train accuracy 0.3671875, test accuracy 0.3632, best 0.3896\n",
      "DEBUG:root:step 408000, train loss 2.0261142253875732, train accuracy 0.359375, test accuracy 0.3865, best 0.3896\n",
      "DEBUG:root:step 409000, train loss 1.8744837045669556, train accuracy 0.390625, test accuracy 0.3804, best 0.3896\n",
      "DEBUG:root:step 410000, train loss 1.800546407699585, train accuracy 0.4296875, test accuracy 0.379, best 0.3896\n",
      "DEBUG:root:step 411000, train loss 1.5338222980499268, train accuracy 0.5703125, test accuracy 0.3772, best 0.3896\n",
      "DEBUG:root:step 412000, train loss 1.8431494235992432, train accuracy 0.3828125, test accuracy 0.3848, best 0.3896\n",
      "DEBUG:root:step 413000, train loss 1.8163903951644897, train accuracy 0.4140625, test accuracy 0.3682, best 0.3896\n",
      "DEBUG:root:step 414000, train loss 1.8101977109909058, train accuracy 0.390625, test accuracy 0.3749, best 0.3896\n",
      "DEBUG:root:step 415000, train loss 1.9701440334320068, train accuracy 0.328125, test accuracy 0.3734, best 0.3896\n",
      "DEBUG:root:step 416000, train loss 1.9463807344436646, train accuracy 0.328125, test accuracy 0.3769, best 0.3896\n",
      "DEBUG:root:step 417000, train loss 1.805943250656128, train accuracy 0.3828125, test accuracy 0.3881, best 0.3896\n",
      "DEBUG:root:step 418000, train loss 1.602956771850586, train accuracy 0.4765625, test accuracy 0.3816, best 0.3896\n",
      "DEBUG:root:step 419000, train loss 1.702165126800537, train accuracy 0.4453125, test accuracy 0.3742, best 0.3896\n",
      "DEBUG:root:step 420000, train loss 1.8227201700210571, train accuracy 0.375, test accuracy 0.3712, best 0.3896\n",
      "DEBUG:root:step 421000, train loss 1.9891493320465088, train accuracy 0.3203125, test accuracy 0.3832, best 0.3896\n",
      "DEBUG:root:step 422000, train loss 1.7896379232406616, train accuracy 0.3984375, test accuracy 0.3741, best 0.3896\n",
      "DEBUG:root:step 423000, train loss 1.7211813926696777, train accuracy 0.4453125, test accuracy 0.3728, best 0.3896\n",
      "DEBUG:root:step 424000, train loss 1.671423316001892, train accuracy 0.4453125, test accuracy 0.3805, best 0.3896\n",
      "DEBUG:root:step 425000, train loss 1.7680310010910034, train accuracy 0.453125, test accuracy 0.3764, best 0.3896\n"
     ]
    },
    {
     "name": "stdout",
     "output_type": "stream",
     "text": [
      "DEBUG:root:step 426000, train loss 1.7791389226913452, train accuracy 0.453125, test accuracy 0.3745, best 0.3896\n",
      "DEBUG:root:step 427000, train loss 1.838537573814392, train accuracy 0.359375, test accuracy 0.3772, best 0.3896\n",
      "DEBUG:root:step 428000, train loss 1.8673934936523438, train accuracy 0.390625, test accuracy 0.3747, best 0.3896\n",
      "DEBUG:root:step 429000, train loss 1.8276835680007935, train accuracy 0.3984375, test accuracy 0.3698, best 0.3896\n",
      "DEBUG:root:step 430000, train loss 1.8344602584838867, train accuracy 0.4140625, test accuracy 0.3816, best 0.3896\n",
      "DEBUG:root:step 431000, train loss 1.9817531108856201, train accuracy 0.28125, test accuracy 0.3831, best 0.3896\n",
      "DEBUG:root:step 432000, train loss 1.9790908098220825, train accuracy 0.390625, test accuracy 0.3812, best 0.3896\n",
      "DEBUG:root:step 433000, train loss 1.8377944231033325, train accuracy 0.390625, test accuracy 0.3841, best 0.3896\n",
      "DEBUG:root:step 434000, train loss 1.8706316947937012, train accuracy 0.359375, test accuracy 0.3759, best 0.3896\n",
      "DEBUG:root:step 435000, train loss 1.8889836072921753, train accuracy 0.390625, test accuracy 0.3694, best 0.3896\n",
      "DEBUG:root:step 436000, train loss 1.8033519983291626, train accuracy 0.4140625, test accuracy 0.3767, best 0.3896\n",
      "DEBUG:root:step 437000, train loss 1.6786466836929321, train accuracy 0.421875, test accuracy 0.3788, best 0.3896\n",
      "DEBUG:root:step 438000, train loss 1.9546551704406738, train accuracy 0.3515625, test accuracy 0.3716, best 0.3896\n",
      "DEBUG:root:step 439000, train loss 1.7613253593444824, train accuracy 0.4296875, test accuracy 0.3844, best 0.3896\n",
      "DEBUG:root:step 440000, train loss 1.8568278551101685, train accuracy 0.3515625, test accuracy 0.3758, best 0.3896\n",
      "DEBUG:root:step 441000, train loss 1.9118692874908447, train accuracy 0.3671875, test accuracy 0.3804, best 0.3896\n",
      "DEBUG:root:step 442000, train loss 1.8444318771362305, train accuracy 0.40625, test accuracy 0.3729, best 0.3896\n",
      "DEBUG:root:step 443000, train loss 2.0176515579223633, train accuracy 0.3125, test accuracy 0.381, best 0.3896\n",
      "DEBUG:root:step 444000, train loss 1.705162525177002, train accuracy 0.40625, test accuracy 0.3734, best 0.3896\n",
      "DEBUG:root:step 445000, train loss 1.8784531354904175, train accuracy 0.3671875, test accuracy 0.3779, best 0.3896\n",
      "DEBUG:root:step 446000, train loss 1.848999261856079, train accuracy 0.4375, test accuracy 0.38, best 0.3896\n",
      "DEBUG:root:step 447000, train loss 1.6862343549728394, train accuracy 0.4140625, test accuracy 0.3772, best 0.3896\n",
      "DEBUG:root:step 448000, train loss 1.725192904472351, train accuracy 0.4375, test accuracy 0.3843, best 0.3896\n",
      "DEBUG:root:step 449000, train loss 1.910801887512207, train accuracy 0.40625, test accuracy 0.369, best 0.3896\n",
      "DEBUG:root:step 450000, train loss 1.8963587284088135, train accuracy 0.34375, test accuracy 0.3818, best 0.3896\n",
      "DEBUG:root:step 451000, train loss 1.864803671836853, train accuracy 0.3515625, test accuracy 0.3755, best 0.3896\n",
      "DEBUG:root:step 452000, train loss 1.8562241792678833, train accuracy 0.3671875, test accuracy 0.3673, best 0.3896\n",
      "DEBUG:root:step 453000, train loss 1.9268320798873901, train accuracy 0.359375, test accuracy 0.3755, best 0.3896\n",
      "DEBUG:root:step 454000, train loss 1.8926405906677246, train accuracy 0.359375, test accuracy 0.3744, best 0.3896\n",
      "DEBUG:root:step 455000, train loss 1.7270910739898682, train accuracy 0.4140625, test accuracy 0.383, best 0.3896\n",
      "DEBUG:root:step 456000, train loss 1.8929575681686401, train accuracy 0.359375, test accuracy 0.3762, best 0.3896\n",
      "DEBUG:root:step 457000, train loss 1.8860962390899658, train accuracy 0.375, test accuracy 0.3802, best 0.3896\n",
      "DEBUG:root:step 458000, train loss 1.9634966850280762, train accuracy 0.3515625, test accuracy 0.3786, best 0.3896\n",
      "DEBUG:root:step 459000, train loss 1.808243751525879, train accuracy 0.40625, test accuracy 0.3801, best 0.3896\n",
      "DEBUG:root:step 460000, train loss 1.6025681495666504, train accuracy 0.4453125, test accuracy 0.3773, best 0.3896\n",
      "DEBUG:root:step 461000, train loss 2.0223045349121094, train accuracy 0.3359375, test accuracy 0.3655, best 0.3896\n",
      "DEBUG:root:step 462000, train loss 1.9009875059127808, train accuracy 0.390625, test accuracy 0.3742, best 0.3896\n",
      "DEBUG:root:step 463000, train loss 1.7968709468841553, train accuracy 0.40625, test accuracy 0.3753, best 0.3896\n",
      "DEBUG:root:step 464000, train loss 1.8971580266952515, train accuracy 0.3671875, test accuracy 0.3853, best 0.3896\n",
      "DEBUG:root:step 465000, train loss 1.9545994997024536, train accuracy 0.359375, test accuracy 0.3753, best 0.3896\n",
      "DEBUG:root:step 466000, train loss 1.920193076133728, train accuracy 0.390625, test accuracy 0.3724, best 0.3896\n"
     ]
    },
    {
     "name": "stdout",
     "output_type": "stream",
     "text": [
      "DEBUG:root:step 467000, train loss 1.8194470405578613, train accuracy 0.3671875, test accuracy 0.3742, best 0.3896\n",
      "DEBUG:root:step 468000, train loss 1.815250039100647, train accuracy 0.375, test accuracy 0.3637, best 0.3896\n",
      "DEBUG:root:step 469000, train loss 1.8833911418914795, train accuracy 0.3984375, test accuracy 0.3885, best 0.3896\n",
      "DEBUG:root:step 470000, train loss 1.8675990104675293, train accuracy 0.390625, test accuracy 0.3796, best 0.3896\n",
      "DEBUG:root:step 471000, train loss 1.8101072311401367, train accuracy 0.3984375, test accuracy 0.3745, best 0.3896\n",
      "DEBUG:root:step 472000, train loss 1.9041122198104858, train accuracy 0.359375, test accuracy 0.3661, best 0.3896\n",
      "DEBUG:root:step 473000, train loss 1.840742588043213, train accuracy 0.3828125, test accuracy 0.3793, best 0.3896\n",
      "DEBUG:root:step 474000, train loss 1.8673781156539917, train accuracy 0.3828125, test accuracy 0.3689, best 0.3896\n",
      "DEBUG:root:step 475000, train loss 1.9041846990585327, train accuracy 0.40625, test accuracy 0.3672, best 0.3896\n",
      "DEBUG:root:step 476000, train loss 1.724443793296814, train accuracy 0.4609375, test accuracy 0.376, best 0.3896\n",
      "DEBUG:root:step 477000, train loss 1.8441905975341797, train accuracy 0.40625, test accuracy 0.3765, best 0.3896\n",
      "DEBUG:root:step 478000, train loss 1.9560803174972534, train accuracy 0.359375, test accuracy 0.3712, best 0.3896\n",
      "DEBUG:root:step 479000, train loss 1.9164363145828247, train accuracy 0.375, test accuracy 0.3686, best 0.3896\n",
      "DEBUG:root:step 480000, train loss 1.8088898658752441, train accuracy 0.3984375, test accuracy 0.3813, best 0.3896\n",
      "DEBUG:root:step 481000, train loss 1.7879040241241455, train accuracy 0.3984375, test accuracy 0.3578, best 0.3896\n",
      "DEBUG:root:step 482000, train loss 1.8062043190002441, train accuracy 0.4140625, test accuracy 0.3854, best 0.3896\n",
      "DEBUG:root:step 483000, train loss 1.8360117673873901, train accuracy 0.359375, test accuracy 0.3808, best 0.3896\n",
      "DEBUG:root:step 484000, train loss 1.718490481376648, train accuracy 0.46875, test accuracy 0.3677, best 0.3896\n",
      "DEBUG:root:step 485000, train loss 1.6916273832321167, train accuracy 0.4453125, test accuracy 0.3811, best 0.3896\n",
      "DEBUG:root:step 486000, train loss 1.971601128578186, train accuracy 0.359375, test accuracy 0.3753, best 0.3896\n",
      "DEBUG:root:step 487000, train loss 1.921864628791809, train accuracy 0.3515625, test accuracy 0.3818, best 0.3896\n",
      "DEBUG:root:step 488000, train loss 1.8740601539611816, train accuracy 0.3984375, test accuracy 0.376, best 0.3896\n",
      "DEBUG:root:step 489000, train loss 1.7281882762908936, train accuracy 0.3984375, test accuracy 0.3791, best 0.3896\n",
      "DEBUG:root:step 490000, train loss 1.8728199005126953, train accuracy 0.34375, test accuracy 0.3792, best 0.3896\n",
      "DEBUG:root:step 491000, train loss 1.6498500108718872, train accuracy 0.4375, test accuracy 0.3841, best 0.3896\n",
      "DEBUG:root:step 492000, train loss 2.039098024368286, train accuracy 0.328125, test accuracy 0.3819, best 0.3896\n",
      "DEBUG:root:step 493000, train loss 1.90273118019104, train accuracy 0.3671875, test accuracy 0.3782, best 0.3896\n",
      "DEBUG:root:step 494000, train loss 2.0237512588500977, train accuracy 0.328125, test accuracy 0.3782, best 0.3896\n",
      "DEBUG:root:step 495000, train loss 1.653080701828003, train accuracy 0.4453125, test accuracy 0.3828, best 0.3896\n",
      "DEBUG:root:step 496000, train loss 1.8546702861785889, train accuracy 0.3671875, test accuracy 0.3745, best 0.3896\n",
      "DEBUG:root:step 497000, train loss 1.7746835947036743, train accuracy 0.3828125, test accuracy 0.3689, best 0.3896\n",
      "DEBUG:root:step 498000, train loss 1.9993715286254883, train accuracy 0.34375, test accuracy 0.3803, best 0.3896\n",
      "DEBUG:root:step 499000, train loss 1.9369124174118042, train accuracy 0.3828125, test accuracy 0.3776, best 0.3896\n",
      "DEBUG:root:step 500000, train loss 1.907741904258728, train accuracy 0.3984375, test accuracy 0.3822, best 0.3896\n",
      "DEBUG:root:step 501000, train loss 1.8765392303466797, train accuracy 0.3515625, test accuracy 0.3646, best 0.3896\n",
      "DEBUG:root:step 502000, train loss 1.8763313293457031, train accuracy 0.3359375, test accuracy 0.3838, best 0.3896\n",
      "DEBUG:root:step 503000, train loss 1.8572702407836914, train accuracy 0.4140625, test accuracy 0.376, best 0.3896\n",
      "DEBUG:root:step 504000, train loss 1.7628744840621948, train accuracy 0.4453125, test accuracy 0.3782, best 0.3896\n",
      "DEBUG:root:step 505000, train loss 1.9888644218444824, train accuracy 0.3203125, test accuracy 0.3619, best 0.3896\n",
      "DEBUG:root:step 506000, train loss 1.814033031463623, train accuracy 0.3671875, test accuracy 0.3761, best 0.3896\n",
      "DEBUG:root:step 507000, train loss 2.01134991645813, train accuracy 0.3671875, test accuracy 0.3803, best 0.3896\n"
     ]
    },
    {
     "name": "stdout",
     "output_type": "stream",
     "text": [
      "DEBUG:root:step 508000, train loss 1.6981101036071777, train accuracy 0.4453125, test accuracy 0.3745, best 0.3896\n",
      "DEBUG:root:step 509000, train loss 2.042931079864502, train accuracy 0.3046875, test accuracy 0.376, best 0.3896\n",
      "DEBUG:root:step 510000, train loss 1.8760604858398438, train accuracy 0.3359375, test accuracy 0.377, best 0.3896\n",
      "DEBUG:root:step 511000, train loss 1.8381160497665405, train accuracy 0.390625, test accuracy 0.3777, best 0.3896\n",
      "DEBUG:root:step 512000, train loss 1.8442927598953247, train accuracy 0.40625, test accuracy 0.3821, best 0.3896\n",
      "DEBUG:root:step 513000, train loss 1.945955514907837, train accuracy 0.3125, test accuracy 0.3751, best 0.3896\n",
      "DEBUG:root:step 514000, train loss 1.9168015718460083, train accuracy 0.3671875, test accuracy 0.381, best 0.3896\n",
      "DEBUG:root:step 515000, train loss 1.762890100479126, train accuracy 0.390625, test accuracy 0.3755, best 0.3896\n",
      "DEBUG:root:step 516000, train loss 1.7308217287063599, train accuracy 0.40625, test accuracy 0.3815, best 0.3896\n",
      "DEBUG:root:step 517000, train loss 2.005250930786133, train accuracy 0.328125, test accuracy 0.3757, best 0.3896\n",
      "DEBUG:root:step 518000, train loss 1.7260409593582153, train accuracy 0.4296875, test accuracy 0.3776, best 0.3896\n",
      "DEBUG:root:step 519000, train loss 1.8103007078170776, train accuracy 0.3671875, test accuracy 0.3762, best 0.3896\n",
      "DEBUG:root:step 520000, train loss 1.941017985343933, train accuracy 0.3671875, test accuracy 0.3775, best 0.3896\n",
      "DEBUG:root:step 521000, train loss 1.8088207244873047, train accuracy 0.3984375, test accuracy 0.3862, best 0.3896\n",
      "DEBUG:root:step 522000, train loss 1.745244026184082, train accuracy 0.4296875, test accuracy 0.3876, best 0.3896\n",
      "DEBUG:root:step 523000, train loss 2.0072946548461914, train accuracy 0.3203125, test accuracy 0.3798, best 0.3896\n",
      "DEBUG:root:step 524000, train loss 1.8002026081085205, train accuracy 0.390625, test accuracy 0.3821, best 0.3896\n",
      "DEBUG:root:step 525000, train loss 1.6191174983978271, train accuracy 0.4765625, test accuracy 0.3835, best 0.3896\n",
      "DEBUG:root:step 526000, train loss 1.880171537399292, train accuracy 0.3828125, test accuracy 0.3716, best 0.3896\n",
      "DEBUG:root:step 527000, train loss 1.8902925252914429, train accuracy 0.3671875, test accuracy 0.374, best 0.3896\n",
      "DEBUG:root:step 528000, train loss 1.9310870170593262, train accuracy 0.328125, test accuracy 0.3799, best 0.3896\n",
      "DEBUG:root:step 529000, train loss 1.7054460048675537, train accuracy 0.4765625, test accuracy 0.381, best 0.3896\n",
      "DEBUG:root:step 530000, train loss 1.938948154449463, train accuracy 0.3203125, test accuracy 0.3893, best 0.3896\n",
      "DEBUG:root:step 531000, train loss 1.8519574403762817, train accuracy 0.40625, test accuracy 0.3855, best 0.3896\n",
      "DEBUG:root:step 532000, train loss 1.680189609527588, train accuracy 0.453125, test accuracy 0.3822, best 0.3896\n",
      "DEBUG:root:step 533000, train loss 2.071521520614624, train accuracy 0.2890625, test accuracy 0.3709, best 0.3896\n",
      "DEBUG:root:step 534000, train loss 1.885990858078003, train accuracy 0.328125, test accuracy 0.389, best 0.3896\n",
      "DEBUG:root:step 535000, train loss 1.6896941661834717, train accuracy 0.4453125, test accuracy 0.3765, best 0.3896\n",
      "DEBUG:root:step 536000, train loss 1.962422490119934, train accuracy 0.328125, test accuracy 0.3757, best 0.3896\n",
      "DEBUG:root:step 537000, train loss 1.7156414985656738, train accuracy 0.421875, test accuracy 0.3747, best 0.3896\n",
      "DEBUG:root:step 538000, train loss 1.7856954336166382, train accuracy 0.3984375, test accuracy 0.3768, best 0.3896\n",
      "DEBUG:root:step 539000, train loss 1.7020314931869507, train accuracy 0.4140625, test accuracy 0.3752, best 0.3896\n",
      "DEBUG:root:step 540000, train loss 1.9393435716629028, train accuracy 0.375, test accuracy 0.3808, best 0.3896\n",
      "DEBUG:root:step 541000, train loss 1.725952386856079, train accuracy 0.40625, test accuracy 0.3807, best 0.3896\n",
      "DEBUG:root:step 542000, train loss 1.8873372077941895, train accuracy 0.375, test accuracy 0.3658, best 0.3896\n",
      "DEBUG:root:step 543000, train loss 1.8767828941345215, train accuracy 0.375, test accuracy 0.3844, best 0.3896\n",
      "DEBUG:root:step 544000, train loss 2.0388636589050293, train accuracy 0.328125, test accuracy 0.3807, best 0.3896\n",
      "DEBUG:root:step 545000, train loss 1.7946696281433105, train accuracy 0.4140625, test accuracy 0.3814, best 0.3896\n",
      "DEBUG:root:step 546000, train loss 1.7132444381713867, train accuracy 0.4296875, test accuracy 0.3812, best 0.3896\n",
      "DEBUG:root:step 547000, train loss 1.8089277744293213, train accuracy 0.3984375, test accuracy 0.3784, best 0.3896\n",
      "DEBUG:root:step 548000, train loss 1.8760186433792114, train accuracy 0.3515625, test accuracy 0.3774, best 0.3896\n"
     ]
    },
    {
     "name": "stdout",
     "output_type": "stream",
     "text": [
      "DEBUG:root:step 549000, train loss 1.885005235671997, train accuracy 0.3359375, test accuracy 0.3786, best 0.3896\n",
      "DEBUG:root:step 550000, train loss 1.841658592224121, train accuracy 0.3359375, test accuracy 0.3808, best 0.3896\n",
      "DEBUG:root:step 551000, train loss 2.019411563873291, train accuracy 0.328125, test accuracy 0.3814, best 0.3896\n",
      "DEBUG:root:step 552000, train loss 1.7643039226531982, train accuracy 0.4140625, test accuracy 0.3894, best 0.3896\n",
      "DEBUG:root:step 553000, train loss 1.9503177404403687, train accuracy 0.328125, test accuracy 0.3709, best 0.3896\n",
      "DEBUG:root:step 554000, train loss 1.8342713117599487, train accuracy 0.375, test accuracy 0.3801, best 0.3896\n",
      "DEBUG:root:step 555000, train loss 1.9350614547729492, train accuracy 0.34375, test accuracy 0.3732, best 0.3896\n",
      "DEBUG:root:step 556000, train loss 1.7990912199020386, train accuracy 0.390625, test accuracy 0.3783, best 0.3896\n",
      "DEBUG:root:step 557000, train loss 1.809459924697876, train accuracy 0.390625, test accuracy 0.3841, best 0.3896\n",
      "DEBUG:root:step 558000, train loss 1.7320910692214966, train accuracy 0.453125, test accuracy 0.3781, best 0.3896\n",
      "DEBUG:root:step 559000, train loss 1.853900671005249, train accuracy 0.3828125, test accuracy 0.3765, best 0.3896\n",
      "DEBUG:root:step 560000, train loss 1.9117400646209717, train accuracy 0.375, test accuracy 0.3792, best 0.3896\n",
      "DEBUG:root:step 561000, train loss 1.8405574560165405, train accuracy 0.390625, test accuracy 0.3832, best 0.3896\n",
      "DEBUG:root:step 562000, train loss 1.8129675388336182, train accuracy 0.40625, test accuracy 0.3678, best 0.3896\n",
      "DEBUG:root:step 563000, train loss 1.969286561012268, train accuracy 0.3046875, test accuracy 0.3828, best 0.3896\n"
     ]
    }
   ],
   "source": [
    "#@title Default title text\n",
    "os.chdir('/content/nerdnerdML/CIFAR10')\n",
    "!python cifar10.py --log_frequency=1000 --max_steps=300000 --train_dir='/tmp/cifar10_train' --learning_rate=0.001 --use_google_cloud=True --overwrite_google_cloud_if_filename_conflicts=True --restore_model_prefix='/tmp/cifar10_restore/model-263000'"
   ]
  },
  {
   "cell_type": "markdown",
   "metadata": {
    "id": "BOJqPFU5t8cI",
    "colab_type": "text"
   },
   "source": [
    "### Save summary to google cloud storage"
   ]
  },
  {
   "cell_type": "code",
   "execution_count": 1,
   "metadata": {
    "id": "wqUohlF9oilB",
    "colab_type": "code",
    "colab": {
     "autoexec": {
      "startup": false,
      "wait_interval": 0.0
     },
     "base_uri": "https://localhost:8080/",
     "height": 34.0
    },
    "outputId": "2d5aa4a5-bc30-49ec-cabe-e3b34f14a893",
    "executionInfo": {
     "status": "ok",
     "timestamp": 1.524541246194E12,
     "user_tz": -480.0,
     "elapsed": 1636.0,
     "user": {
      "displayName": "Chien-Shen Lai",
      "photoUrl": "https://lh3.googleusercontent.com/a/default-user=s128",
      "userId": "109306018282352275139"
     }
    }
   },
   "outputs": [
    {
     "name": "stdout",
     "output_type": "stream",
     "text": [
      "ls: cannot access '/tmp/cifar10_summary': No such file or directory\r\n"
     ]
    }
   ],
   "source": [
    "!ls /tmp/cifar10_summary\n"
   ]
  },
  {
   "cell_type": "code",
   "execution_count": 35,
   "metadata": {
    "id": "773WzzT2pAC7",
    "colab_type": "code",
    "colab": {
     "autoexec": {
      "startup": false,
      "wait_interval": 0.0
     },
     "base_uri": "https://localhost:8080/",
     "height": 68.0
    },
    "outputId": "d5c804da-ac20-45fb-fb9a-749d199e5432",
    "executionInfo": {
     "status": "ok",
     "timestamp": 1.524481731427E12,
     "user_tz": -480.0,
     "elapsed": 4600.0,
     "user": {
      "displayName": "Chien-Shen Lai",
      "photoUrl": "https://lh3.googleusercontent.com/a/default-user=s128",
      "userId": "109306018282352275139"
     }
    }
   },
   "outputs": [
    {
     "name": "stdout",
     "output_type": "stream",
     "text": [
      "Copying file:///tmp/cifar10_summary/events.out.tfevents.1524465519.e5763ba2f3a8 [Content-Type=application/octet-stream]...\n",
      "-\n",
      "Operation completed over 1 objects/18.4 MiB.                                     \n"
     ]
    }
   ],
   "source": [
    "!gsutil cp /tmp/cifar10_summary/events.out.tfevents.1524465519.e5763ba2f3a8 gs://ai-model-test-ml/events.out.tfevents.191000-391000"
   ]
  },
  {
   "cell_type": "markdown",
   "metadata": {
    "id": "G-343djpt3Vl",
    "colab_type": "text"
   },
   "source": [
    "\n",
    "\n",
    "---\n",
    "\n",
    "# Unused *code*\n",
    "\n",
    "---\n",
    "\n"
   ]
  },
  {
   "cell_type": "code",
   "execution_count": 60,
   "metadata": {
    "id": "G166myZapZna",
    "colab_type": "code",
    "colab": {
     "autoexec": {
      "startup": false,
      "wait_interval": 0.0
     },
     "base_uri": "https://localhost:8080/",
     "height": 34.0
    },
    "outputId": "c1ffdb4e-7662-4240-f9cf-c5ae5856a614",
    "executionInfo": {
     "status": "ok",
     "timestamp": 1.524400402272E12,
     "user_tz": -480.0,
     "elapsed": 671.0,
     "user": {
      "displayName": "Chien-Shen Lai",
      "photoUrl": "https://lh3.googleusercontent.com/a/default-user=s128",
      "userId": "109306018282352275139"
     }
    }
   },
   "outputs": [
    {
     "name": "stdout",
     "output_type": "stream",
     "text": [
      "['/tmp/cifar10_train/model-2.meta', '/tmp/cifar10_train/model-2.index', '/tmp/cifar10_train/model-2.data-00000-of-00001']\n"
     ]
    }
   ],
   "source": [
    "import re\n",
    "import tensorflow as tf\n",
    "train_dir = '/tmp/cifar10_train/'\n",
    "checkpoint = tf.train.latest_checkpoint(os.path.dirname(train_dir))\n",
    "checkpoint_pattern = os.path.basename(checkpoint)\n",
    "\n",
    "files = [os.path.join(train_dir, f) for f in os.listdir(train_dir) if os.path.isfile(os.path.join(train_dir, f)) and f.startswith(os.path.basename(checkpoint))]\n",
    "print(files)\n",
    "\n",
    "result = os.system(\"tar -czvf {} {}\".format('test123.tar.gz', \" \".join(files)))"
   ]
  },
  {
   "cell_type": "code",
   "execution_count": 0,
   "metadata": {
    "id": "4AK_Hv8F4Kll",
    "colab_type": "code",
    "colab": {
     "autoexec": {
      "startup": false,
      "wait_interval": 0.0
     }
    }
   },
   "outputs": [],
   "source": [
    "import nerdcolab.tboard"
   ]
  },
  {
   "cell_type": "code",
   "execution_count": 139,
   "metadata": {
    "id": "emxWsu5uuPQ3",
    "colab_type": "code",
    "colab": {
     "autoexec": {
      "startup": false,
      "wait_interval": 0.0
     },
     "base_uri": "https://localhost:8080/",
     "height": 119.0
    },
    "outputId": "1c95bbda-6b68-4dd2-e560-d6a5c749b099",
    "executionInfo": {
     "status": "ok",
     "timestamp": 1.524405720687E12,
     "user_tz": -480.0,
     "elapsed": 4279.0,
     "user": {
      "displayName": "Chien-Shen Lai",
      "photoUrl": "https://lh3.googleusercontent.com/a/default-user=s128",
      "userId": "109306018282352275139"
     }
    }
   },
   "outputs": [
    {
     "name": "stdout",
     "output_type": "stream",
     "text": [
      "calling wget https://bin.equinox.io/c/4VmDzA7iaHb/ngrok-stable-linux-amd64.zip ...\n",
      "calling unzip ngrok-stable-linux-amd64.zip ...\n",
      "ngrok installed. path=/tmp/cifar10_summary/ngrok\n",
      "status: tensorboard=False, ngrok=False\n",
      "tensorboard url= http://07325440.ngrok.io\n"
     ]
    },
    {
     "data": {
      "text/plain": [
       "'http://07325440.ngrok.io'"
      ]
     },
     "execution_count": 139,
     "metadata": {
      "tags": []
     },
     "output_type": "execute_result"
    }
   ],
   "source": [
    "train_path = '/tmp/cifar10_summary'\n",
    "train_log_path = os.path.join(train_path, 'log')\n",
    "nerdcolab.tboard.launch_tensorboard(bin_dir=train_path, log_dir=train_path)"
   ]
  },
  {
   "cell_type": "code",
   "execution_count": 88,
   "metadata": {
    "id": "TEnE4ROzKJjT",
    "colab_type": "code",
    "colab": {
     "autoexec": {
      "startup": false,
      "wait_interval": 0.0
     },
     "base_uri": "https://localhost:8080/",
     "height": 34.0
    },
    "outputId": "a78dfe54-d8d6-443e-aa3c-cbcb514590f0",
    "executionInfo": {
     "status": "ok",
     "timestamp": 1.524330241196E12,
     "user_tz": -480.0,
     "elapsed": 625.0,
     "user": {
      "displayName": "Chien-Shen Lai",
      "photoUrl": "https://lh3.googleusercontent.com/a/default-user=s128",
      "userId": "109306018282352275139"
     }
    }
   },
   "outputs": [
    {
     "name": "stdout",
     "output_type": "stream",
     "text": [
      "1.7.0\n"
     ]
    }
   ],
   "source": [
    "import tensorflow as tf\n",
    "print(tf.__version__)"
   ]
  },
  {
   "cell_type": "code",
   "execution_count": 0,
   "metadata": {
    "id": "QqHDko91Cj5I",
    "colab_type": "code",
    "colab": {
     "autoexec": {
      "startup": false,
      "wait_interval": 0.0
     }
    }
   },
   "outputs": [],
   "source": [
    "train_path = '/tmp/cifar10_summary'\n",
    "os.chdir(train_path)\n",
    "LOG_DIR = train_path\n",
    "get_ipython().system_raw(\n",
    "    'tensorboard --logdir {} --host 0.0.0.0 --port 6006 &'\n",
    "    .format(LOG_DIR)\n",
    ")"
   ]
  },
  {
   "cell_type": "code",
   "execution_count": 0,
   "metadata": {
    "id": "SZKoHZLAC-Rx",
    "colab_type": "code",
    "colab": {
     "autoexec": {
      "startup": false,
      "wait_interval": 0.0
     }
    }
   },
   "outputs": [],
   "source": [
    "!curl http://localhost:6006"
   ]
  },
  {
   "cell_type": "code",
   "execution_count": 0,
   "metadata": {
    "id": "MUSVy04EDMFI",
    "colab_type": "code",
    "colab": {
     "autoexec": {
      "startup": false,
      "wait_interval": 0.0
     }
    }
   },
   "outputs": [],
   "source": [
    "!wget https://bin.equinox.io/c/4VmDzA7iaHb/ngrok-stable-linux-amd64.zip > /dev/null 2>&1\n",
    "!unzip ngrok-stable-linux-amd64.zip > /dev/null 2>&1"
   ]
  },
  {
   "cell_type": "code",
   "execution_count": 0,
   "metadata": {
    "id": "ISWtt8xhCzqo",
    "colab_type": "code",
    "colab": {
     "autoexec": {
      "startup": false,
      "wait_interval": 0.0
     }
    }
   },
   "outputs": [],
   "source": [
    "get_ipython().system_raw('./ngrok http 6006 &')"
   ]
  },
  {
   "cell_type": "code",
   "execution_count": 81,
   "metadata": {
    "id": "AIb5gevdCv23",
    "colab_type": "code",
    "colab": {
     "autoexec": {
      "startup": false,
      "wait_interval": 0.0
     },
     "base_uri": "https://localhost:8080/",
     "height": 34.0
    },
    "outputId": "7cede4cc-51f5-4e10-d185-944fb3efab37",
    "executionInfo": {
     "status": "ok",
     "timestamp": 1.524329824735E12,
     "user_tz": -480.0,
     "elapsed": 1765.0,
     "user": {
      "displayName": "Chien-Shen Lai",
      "photoUrl": "https://lh3.googleusercontent.com/a/default-user=s128",
      "userId": "109306018282352275139"
     }
    }
   },
   "outputs": [
    {
     "name": "stdout",
     "output_type": "stream",
     "text": [
      "http://83172be3.ngrok.io\r\n"
     ]
    }
   ],
   "source": [
    "\n",
    "!curl -s http://localhost:4040/api/tunnels | python3 -c \\\n",
    "    \"import sys, json; print(json.load(sys.stdin)['tunnels'][0]['public_url'])\""
   ]
  },
  {
   "cell_type": "code",
   "execution_count": 93,
   "metadata": {
    "id": "zN4scP80Imks",
    "colab_type": "code",
    "colab": {
     "autoexec": {
      "startup": false,
      "wait_interval": 0.0
     },
     "base_uri": "https://localhost:8080/",
     "height": 51.0
    },
    "outputId": "ab5d0823-b920-4705-f81f-7dfcabeeaf11",
    "executionInfo": {
     "status": "ok",
     "timestamp": 1.524330765329E12,
     "user_tz": -480.0,
     "elapsed": 1185.0,
     "user": {
      "displayName": "Chien-Shen Lai",
      "photoUrl": "https://lh3.googleusercontent.com/a/default-user=s128",
      "userId": "109306018282352275139"
     }
    }
   },
   "outputs": [
    {
     "name": "stdout",
     "output_type": "stream",
     "text": [
      "uploading file=gs://ai-model-test-ml/summary ...\n"
     ]
    },
    {
     "data": {
      "text/plain": [
       "'gs://ai-model-test-ml/summary'"
      ]
     },
     "execution_count": 93,
     "metadata": {
      "tags": []
     },
     "output_type": "execute_result"
    }
   ],
   "source": [
    "import nerdcolab.gcloud\n",
    "tar_filepath = \"/tmp/cifar10_summary/events.out.tfevents.1524330084.2b152f5a2fc2\"\n",
    "bucket_path = \"gs://{}/{}\".format(bucket_name, \"summary\")\n",
    "project_id = project_name\n",
    "nerdcolab.gcloud.gcs_upload(tar_filepath, bucket_path, project_id=project_id)\n"
   ]
  }
 ],
 "metadata": {
  "colab": {
   "name": "cifar10.ipynb",
   "version": "0.3.2",
   "views": {},
   "default_view": {},
   "provenance": [],
   "collapsed_sections": [],
   "toc_visible": true
  },
  "kernelspec": {
   "name": "python3",
   "display_name": "Python 3"
  },
  "accelerator": "GPU"
 },
 "nbformat": 4,
 "nbformat_minor": 0
}
