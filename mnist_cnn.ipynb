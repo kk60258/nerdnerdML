{
  "nbformat": 4,
  "nbformat_minor": 0,
  "metadata": {
    "colab": {
      "name": "mnist_cnn.ipynb",
      "version": "0.3.2",
      "views": {},
      "default_view": {},
      "provenance": [],
      "collapsed_sections": [],
      "toc_visible": true
    },
    "kernelspec": {
      "name": "python3",
      "display_name": "Python 3"
    },
    "accelerator": "GPU"
  },
  "cells": [
    {
      "metadata": {
        "id": "ZEVoy5LcVzXu",
        "colab_type": "text"
      },
      "cell_type": "markdown",
      "source": [
        "# MNIST + CNN + Keras"
      ]
    },
    {
      "metadata": {
        "id": "e2IlyEE3mhwX",
        "colab_type": "toc"
      },
      "cell_type": "markdown",
      "source": [
        ">[MNIST + CNN + Keras](#scrollTo=ZEVoy5LcVzXu)\n",
        "\n",
        ">>>[Define the model](#scrollTo=lPZ8UGKPVycX)\n",
        "\n",
        ">>>[Prepare the dataset](#scrollTo=b2TsLHHXWIvc)\n",
        "\n",
        ">>>[Train and score:](#scrollTo=6gsJ9sHtWbQC)\n",
        "\n",
        ">[To show the tensorboard](#scrollTo=cyp_Ga9UmRiQ)\n",
        "\n"
      ]
    },
    {
      "metadata": {
        "id": "fuNNqG34tFVh",
        "colab_type": "code",
        "colab": {
          "autoexec": {
            "startup": false,
            "wait_interval": 0
          }
        }
      },
      "cell_type": "code",
      "source": [
        ""
      ],
      "execution_count": 0,
      "outputs": []
    },
    {
      "metadata": {
        "id": "FCZUcLDTkC1Z",
        "colab_type": "code",
        "colab": {
          "autoexec": {
            "startup": false,
            "wait_interval": 0
          }
        }
      },
      "cell_type": "code",
      "source": [
        "from keras import backend as K\n",
        "from keras.layers import Input, Dense, Conv2D, MaxPooling2D, Flatten, Dropout\n",
        "from keras.models import Model\n",
        "from keras.datasets import mnist\n",
        "import keras\n",
        "\n"
      ],
      "execution_count": 0,
      "outputs": []
    },
    {
      "metadata": {
        "id": "RVrFTg_WtKN5",
        "colab_type": "code",
        "colab": {
          "autoexec": {
            "startup": false,
            "wait_interval": 0
          }
        }
      },
      "cell_type": "code",
      "source": [
        ""
      ],
      "execution_count": 0,
      "outputs": []
    },
    {
      "metadata": {
        "id": "lPZ8UGKPVycX",
        "colab_type": "text"
      },
      "cell_type": "markdown",
      "source": [
        "---\n",
        "### Define the model"
      ]
    },
    {
      "metadata": {
        "id": "hZRBd-2LVwx-",
        "colab_type": "code",
        "colab": {
          "autoexec": {
            "startup": false,
            "wait_interval": 0
          }
        }
      },
      "cell_type": "code",
      "source": [
        "def cnn_model_fn():\n",
        "\n",
        "    #input shape = [size, 28, 28, 1]\n",
        "    input_layer = Input(shape=[28, 28, 1], name='input')\n",
        "\n",
        "    # Convolutional Layer #1 . out size*32*28*28\n",
        "    conv1 = Conv2D(filters=32, kernel_size=[5, 5], padding=\"same\", activation=tf.nn.relu)(input_layer)\n",
        "        # tf.layers.conv2d(inputs=input_layer, filters=32, kernel_size=[5, 5], padding=\"same\", activation=tf.nn.relu)\n",
        "    # Pooling Layer #1 . out size*32*14*14\n",
        "    pool1 = MaxPooling2D(pool_size=[2, 2], strides=2)(conv1)\n",
        "        # tf.layers.max_pooling2d(inputs=conv1, pool_size=[2, 2], strides=2)\n",
        "\n",
        "    # Convolutional Layer #2 . out size*64*14*14\n",
        "    conv2 = Conv2D(filters=64, kernel_size=[5, 5], padding=\"same\", activation=tf.nn.relu)(pool1)\n",
        "        # tf.layers.conv2d(inputs=pool1, filters=64, kernel_size=[5, 5], padding=\"same\", activation=tf.nn.relu)\n",
        "    # Pooling Layer #2 . out size*64*7*7\n",
        "    pool2 = MaxPooling2D(pool_size=[2, 2], strides=2)(conv2)\n",
        "        # tf.layers.max_pooling2d(inputs=conv2, pool_size=[2, 2], strides=2)\n",
        "\n",
        "    # Dense Layer\n",
        "    pool2_flat = Flatten()(pool2)\n",
        "        # tf.reshape(pool2, [-1, 7 * 7 * 64])\n",
        "    dense = Dense(units=1024, activation=tf.nn.relu)(pool2_flat)\n",
        "        # tf.layers.dense(inputs=pool2_flat, units=1024, activation=tf.nn.relu)\n",
        "\n",
        "    # dropout\n",
        "    dropout = Dropout(rate=0.4)(dense)\n",
        "        # tf.layers.dropout(inputs=dense, rate=0.4, training=mode == tf.estimator.ModeKeys.TRAIN)\n",
        "\n",
        "    # Logits Layer\n",
        "    logits = Dense(units=10, activation='softmax')(dropout)\n",
        "        # tf.layers.dense(inputs=dropout, units=10)\n",
        "    model = Model(inputs=input_layer, outputs=logits)\n",
        "    model.summary()\n",
        "    \n",
        "    return model\n",
        "  "
      ],
      "execution_count": 0,
      "outputs": []
    },
    {
      "metadata": {
        "id": "b2TsLHHXWIvc",
        "colab_type": "text"
      },
      "cell_type": "markdown",
      "source": [
        "---\n",
        "###Prepare the dataset \n",
        "\n",
        "from **keras.datasets.mnist**\n",
        "\n",
        "\n",
        "\n"
      ]
    },
    {
      "metadata": {
        "id": "3WU8csXRSREo",
        "colab_type": "code",
        "colab": {
          "autoexec": {
            "startup": false,
            "wait_interval": 0
          },
          "base_uri": "https://localhost:8080/",
          "height": 68
        },
        "outputId": "a07c7525-880f-4502-8008-1662a1c43b26",
        "executionInfo": {
          "status": "ok",
          "timestamp": 1523091616709,
          "user_tz": -480,
          "elapsed": 1165,
          "user": {
            "displayName": "Chien-Shen Lai",
            "photoUrl": "https://lh3.googleusercontent.com/a/default-user=s128",
            "userId": "109306018282352275139"
          }
        }
      },
      "cell_type": "code",
      "source": [
        "# prepare data\n",
        "# mnist_images = input_data.read_data_sets(\"MNIST_data/\", one_hot=True)\n",
        "\n",
        "#shape of x_train is [60000, 28, 28]\n",
        "(x_train, y_train), (x_test, y_test) = mnist.load_data()\n",
        "\n",
        "if K.image_data_format() == 'channels_first':\n",
        "    x_train = x_train.reshape(x_train.shape[0], 1, 28, 28)\n",
        "    x_test = x_test.reshape(x_test.shape[0], 1, 28, 28)\n",
        "    input_shape = (1, 28, 28)\n",
        "else:\n",
        "    x_train = x_train.reshape(x_train.shape[0], 28, 28, 1)\n",
        "    x_test = x_test.reshape(x_test.shape[0], 28, 28, 1)\n",
        "    input_shape = (28, 28, 1)\n",
        "\n",
        "x_train = x_train.astype('float32')\n",
        "x_test = x_test.astype('float32')\n",
        "x_train /= 255\n",
        "x_test /= 255\n",
        "print('x_train shape:', x_train.shape)\n",
        "print(x_train.shape[0], 'train samples')\n",
        "print(x_test.shape[0], 'test samples')\n",
        "\n",
        "# convert class vectors to binary class matrices\n",
        "y_train = keras.utils.to_categorical(y_train, 10)\n",
        "y_test = keras.utils.to_categorical(y_test, 10)\n",
        "\n"
      ],
      "execution_count": 2,
      "outputs": [
        {
          "output_type": "stream",
          "text": [
            "x_train shape: (60000, 28, 28, 1)\n",
            "60000 train samples\n",
            "10000 test samples\n"
          ],
          "name": "stdout"
        }
      ]
    },
    {
      "metadata": {
        "id": "6gsJ9sHtWbQC",
        "colab_type": "text"
      },
      "cell_type": "markdown",
      "source": [
        "---\n",
        "###Train and score\n",
        "1.   Compile the model\n",
        "2.   Fit the data (train)\n",
        "3.   Get score (accuracy) between 0.0~1.0\n",
        "\n"
      ]
    },
    {
      "metadata": {
        "id": "E51kzD-GSVtv",
        "colab_type": "code",
        "colab": {
          "autoexec": {
            "startup": false,
            "wait_interval": 0
          },
          "base_uri": "https://localhost:8080/",
          "height": 547
        },
        "outputId": "ba17a72b-588c-40bd-e697-6e4a4816a86c",
        "executionInfo": {
          "status": "ok",
          "timestamp": 1523097113001,
          "user_tz": -480,
          "elapsed": 18316,
          "user": {
            "displayName": "Chien-Shen Lai",
            "photoUrl": "https://lh3.googleusercontent.com/a/default-user=s128",
            "userId": "109306018282352275139"
          }
        }
      },
      "cell_type": "code",
      "source": [
        "model = cnn_model_fn()\n",
        "\n",
        "model.compile(optimizer='rmsprop',\n",
        "              loss='categorical_crossentropy',\n",
        "              metrics=['accuracy'])\n",
        "tbcallback = keras.callbacks.TensorBoard(log_dir='./logs', histogram_freq=0, batch_size=32, write_graph=True, write_grads=False, write_images=False, embeddings_freq=0, embeddings_layer_names=None, embeddings_metadata=None)\n",
        "\n",
        "model.fit(x_train, y_train,\n",
        "          batch_size=64,\n",
        "          epochs=1,\n",
        "          verbose=1,\n",
        "          validation_data=(x_test, y_test),\n",
        "          callbacks=[tbcallback])\n",
        "score = model.evaluate(x_test, y_test, verbose=0)\n",
        "model.save_weights('mnist_cnn.h5')\n",
        "print('Test loss:', score[0])\n",
        "print('Test accuracy:', score[1])"
      ],
      "execution_count": 35,
      "outputs": [
        {
          "output_type": "stream",
          "text": [
            "_________________________________________________________________\n",
            "Layer (type)                 Output Shape              Param #   \n",
            "=================================================================\n",
            "input (InputLayer)           (None, 28, 28, 1)         0         \n",
            "_________________________________________________________________\n",
            "conv2d_9 (Conv2D)            (None, 28, 28, 32)        832       \n",
            "_________________________________________________________________\n",
            "max_pooling2d_9 (MaxPooling2 (None, 14, 14, 32)        0         \n",
            "_________________________________________________________________\n",
            "conv2d_10 (Conv2D)           (None, 14, 14, 64)        51264     \n",
            "_________________________________________________________________\n",
            "max_pooling2d_10 (MaxPooling (None, 7, 7, 64)          0         \n",
            "_________________________________________________________________\n",
            "flatten_5 (Flatten)          (None, 3136)              0         \n",
            "_________________________________________________________________\n",
            "dense_9 (Dense)              (None, 1024)              3212288   \n",
            "_________________________________________________________________\n",
            "dropout_5 (Dropout)          (None, 1024)              0         \n",
            "_________________________________________________________________\n",
            "dense_10 (Dense)             (None, 10)                10250     \n",
            "=================================================================\n",
            "Total params: 3,274,634\n",
            "Trainable params: 3,274,634\n",
            "Non-trainable params: 0\n",
            "_________________________________________________________________\n",
            "Train on 60000 samples, validate on 10000 samples\n",
            "Epoch 1/1\n",
            "13376/60000 [=====>........................] - ETA: 11s - loss: 0.2954 - acc: 0.9067"
          ],
          "name": "stdout"
        },
        {
          "output_type": "stream",
          "text": [
            "60000/60000 [==============================] - 16s 260us/step - loss: 0.1179 - acc: 0.9632 - val_loss: 0.0331 - val_acc: 0.9897\n",
            "Test loss: 0.033088591791741784\n",
            "Test accuracy: 0.9897\n"
          ],
          "name": "stdout"
        }
      ]
    },
    {
      "metadata": {
        "id": "cyp_Ga9UmRiQ",
        "colab_type": "text"
      },
      "cell_type": "markdown",
      "source": [
        "# To show the tensorboard"
      ]
    },
    {
      "metadata": {
        "id": "0uFvBoYoe4iP",
        "colab_type": "code",
        "colab": {
          "autoexec": {
            "startup": false,
            "wait_interval": 0
          },
          "base_uri": "https://localhost:8080/",
          "height": 51
        },
        "outputId": "1e8a7bf3-cc7e-4a21-f453-4896be5784e9",
        "executionInfo": {
          "status": "ok",
          "timestamp": 1523551094816,
          "user_tz": -480,
          "elapsed": 3114,
          "user": {
            "displayName": "Chien-Shen Lai",
            "photoUrl": "https://lh3.googleusercontent.com/a/default-user=s128",
            "userId": "109306018282352275139"
          }
        }
      },
      "cell_type": "code",
      "source": [
        "!ls\n",
        "!pwd"
      ],
      "execution_count": 1,
      "outputs": [
        {
          "output_type": "stream",
          "text": [
            "datalab\n",
            "/content\n"
          ],
          "name": "stdout"
        }
      ]
    },
    {
      "metadata": {
        "id": "_Vckj31ye7Oo",
        "colab_type": "code",
        "colab": {
          "autoexec": {
            "startup": false,
            "wait_interval": 0
          }
        }
      },
      "cell_type": "code",
      "source": [
        "LOG_DIR = '/content/logs'\n",
        "get_ipython().system_raw(\n",
        "    'tensorboard --logdir {} --host 0.0.0.0 --port 6006 &'\n",
        "    .format(LOG_DIR)\n",
        ")"
      ],
      "execution_count": 0,
      "outputs": []
    },
    {
      "metadata": {
        "id": "GIUbIDJIe_8Y",
        "colab_type": "code",
        "colab": {
          "autoexec": {
            "startup": false,
            "wait_interval": 0
          },
          "base_uri": "https://localhost:8080/",
          "height": 34
        },
        "outputId": "1c53f833-6a17-4d03-bae8-01f10b2b5a6f",
        "executionInfo": {
          "status": "ok",
          "timestamp": 1523551099345,
          "user_tz": -480,
          "elapsed": 2128,
          "user": {
            "displayName": "Chien-Shen Lai",
            "photoUrl": "https://lh3.googleusercontent.com/a/default-user=s128",
            "userId": "109306018282352275139"
          }
        }
      },
      "cell_type": "code",
      "source": [
        "! curl http://localhost:6006"
      ],
      "execution_count": 3,
      "outputs": [
        {
          "output_type": "stream",
          "text": [
            "curl: (7) Failed to connect to localhost port 6006: Connection refused\r\n"
          ],
          "name": "stdout"
        }
      ]
    },
    {
      "metadata": {
        "id": "gprrqRBllho1",
        "colab_type": "code",
        "colab": {
          "autoexec": {
            "startup": false,
            "wait_interval": 0
          }
        }
      },
      "cell_type": "code",
      "source": [
        "! wget https://bin.equinox.io/c/4VmDzA7iaHb/ngrok-stable-linux-amd64.zip > /dev/null 2>&1\n",
        "! unzip ngrok-stable-linux-amd64.zip > /dev/null 2>&1"
      ],
      "execution_count": 0,
      "outputs": []
    },
    {
      "metadata": {
        "id": "pqkeYeCNljwU",
        "colab_type": "code",
        "colab": {
          "autoexec": {
            "startup": false,
            "wait_interval": 0
          }
        }
      },
      "cell_type": "code",
      "source": [
        "get_ipython().system_raw('./ngrok http 6006 &')"
      ],
      "execution_count": 0,
      "outputs": []
    },
    {
      "metadata": {
        "id": "Qop0vU_dlwPz",
        "colab_type": "code",
        "colab": {
          "autoexec": {
            "startup": false,
            "wait_interval": 0
          },
          "base_uri": "https://localhost:8080/",
          "height": 34
        },
        "cellView": "code",
        "outputId": "c109bd44-db9c-4851-83a2-32aa3f12a7c1",
        "executionInfo": {
          "status": "ok",
          "timestamp": 1523551110651,
          "user_tz": -480,
          "elapsed": 1727,
          "user": {
            "displayName": "Chien-Shen Lai",
            "photoUrl": "https://lh3.googleusercontent.com/a/default-user=s128",
            "userId": "109306018282352275139"
          }
        }
      },
      "cell_type": "code",
      "source": [
        "#@title Default title text\n",
        "! curl -s http://localhost:4040/api/tunnels | python3 -c \\\n",
        "    \"import sys, json; print(json.load(sys.stdin)['tunnels'][0]['public_url'])\""
      ],
      "execution_count": 6,
      "outputs": [
        {
          "output_type": "stream",
          "text": [
            "http://e85faccd.ngrok.io\r\n"
          ],
          "name": "stdout"
        }
      ]
    },
    {
      "metadata": {
        "id": "GCdSljlFm0qO",
        "colab_type": "text"
      },
      "cell_type": "markdown",
      "source": [
        "# Save file to google drive"
      ]
    },
    {
      "metadata": {
        "id": "js663gZQvsXb",
        "colab_type": "text"
      },
      "cell_type": "markdown",
      "source": [
        "Get python lib from github"
      ]
    },
    {
      "metadata": {
        "id": "x1RaWfopnO-_",
        "colab_type": "code",
        "colab": {
          "autoexec": {
            "startup": false,
            "wait_interval": 0
          },
          "base_uri": "https://localhost:8080/",
          "height": 119
        },
        "outputId": "a51841ad-4e67-4b14-e5aa-993cb85b50d2",
        "executionInfo": {
          "status": "ok",
          "timestamp": 1523096585699,
          "user_tz": -480,
          "elapsed": 3658,
          "user": {
            "displayName": "Chien-Shen Lai",
            "photoUrl": "https://lh3.googleusercontent.com/a/default-user=s128",
            "userId": "109306018282352275139"
          }
        }
      },
      "cell_type": "code",
      "source": [
        "!git clone https://github.com/kk60258/colab_utils.git\n"
      ],
      "execution_count": 29,
      "outputs": [
        {
          "output_type": "stream",
          "text": [
            "Cloning into 'colab_utils'...\n",
            "remote: Counting objects: 216, done.\u001b[K\n",
            "remote: Compressing objects: 100% (33/33), done.\u001b[K\n",
            "remote: Total 216 (delta 15), reused 40 (delta 12), pack-reused 171\u001b[K\n",
            "Receiving objects: 100% (216/216), 60.19 KiB | 7.52 MiB/s, done.\n",
            "Resolving deltas: 100% (83/83), done.\n"
          ],
          "name": "stdout"
        }
      ]
    },
    {
      "metadata": {
        "id": "A4-dMz1CvX4j",
        "colab_type": "text"
      },
      "cell_type": "markdown",
      "source": [
        "###Upload to google cloud bucket gs://ai-model-test-ml/"
      ]
    },
    {
      "metadata": {
        "id": "ICw39iIUoeV6",
        "colab_type": "code",
        "colab": {
          "autoexec": {
            "startup": false,
            "wait_interval": 0
          },
          "base_uri": "https://localhost:8080/",
          "height": 71
        },
        "outputId": "70a778be-57c7-4ddc-e11b-9993ca118da0",
        "executionInfo": {
          "status": "ok",
          "timestamp": 1523098277745,
          "user_tz": -480,
          "elapsed": 2378,
          "user": {
            "displayName": "Chien-Shen Lai",
            "photoUrl": "https://lh3.googleusercontent.com/a/default-user=s128",
            "userId": "109306018282352275139"
          }
        }
      },
      "cell_type": "code",
      "source": [
        "import os\n",
        "import colab_utils.gcloud\n",
        "\n",
        "# authorize access to Google Cloud SDK from `colaboratory` VM\n",
        "project_name = \"ai-model-test\"\n",
        "bucket_name = \"ai-model-test-ml\"\n",
        "\n",
        "colab_utils.gcloud.gcloud_auth(project_name)\n",
        "# colab_utils.gcloud.config_project(project_name)\n",
        "\n",
        "tar_filepath = \"/content/mnist_cnn.h5\"\n",
        "bucket_path = \"gs://{}/{}\".format(bucket_name, \"mnist_cnn.h5\")\n",
        "project_id = project_name\n",
        "colab_utils.gcloud.gcs_upload(tar_filepath, bucket_path, project_id=project_id)\n",
        "\n",
        "# set paths\n",
        "#ROOT = %pwd\n",
        "#LOG_DIR = os.path.join(ROOT, 'log')\n",
        "\n",
        "#TRAIN_LOG = os.path.join(LOG_DIR, 'training-run-1')\n",
        "\n",
        "# save latest checkpoint as a zipfile to a GCS bucket `gs://my-checkpoints/`\n",
        "#     zipfile name = \"{}.{}.zip\".format() os.path.basename(TRAIN_LOG), global_step)\n",
        "#                     e.g. gs://my-checkpoints/training-run-1.1000.zip\"\n",
        "#bucket_name = \"my-checkpoints\"\n",
        "#colab_utils.gcloud.save_to_bucket(TRAIN_LOG, bucket_name, project_name, save_events=True, force=False)\n",
        "\n",
        "\n",
        "\"\"\"\n",
        "# restore a zipfile from GCS bucket to a local directory, usually in  \n",
        "#     tensorboard `log_dir`\n",
        "CHECKPOINTS = os.path.join(LOG_DIR, 'training-run-2')\n",
        "zipfile = os.path.basename(TRAIN_LOG)   # training-run-1\n",
        "colab_utils.gcloud.load_from_bucket(\"training-run-1.1000.zip\", bucket_name, CHECKPOINTS )\n",
        "\n",
        "\n",
        "# mount gcs bucket to local fs using the `gcsfuse` package, installs automatically\n",
        "bucket = \"my-bucket\"\n",
        "local_path = colab_utils.gcloud.gcsfuse(bucket=bucket)  \n",
        "# gcsfuse(): Using mount point: /tmp/gcs-bucket/my-bucket\n",
        "\n",
        "!ls -l local_path\n",
        "!umount local_path\n",
        "\"\"\""
      ],
      "execution_count": 39,
      "outputs": [
        {
          "output_type": "stream",
          "text": [
            "uploading file=gs://ai-model-test-ml/mnist_cnn.h5 ...\n"
          ],
          "name": "stdout"
        },
        {
          "output_type": "execute_result",
          "data": {
            "text/plain": [
              "'\\n# restore a zipfile from GCS bucket to a local directory, usually in  \\n#     tensorboard `log_dir`\\nCHECKPOINTS = os.path.join(LOG_DIR, \\'training-run-2\\')\\nzipfile = os.path.basename(TRAIN_LOG)   # training-run-1\\ncolab_utils.gcloud.load_from_bucket(\"training-run-1.1000.zip\", bucket_name, CHECKPOINTS )\\n\\n\\n# mount gcs bucket to local fs using the `gcsfuse` package, installs automatically\\nbucket = \"my-bucket\"\\nlocal_path = colab_utils.gcloud.gcsfuse(bucket=bucket)  \\n# gcsfuse(): Using mount point: /tmp/gcs-bucket/my-bucket\\n\\n!ls -l local_path\\n!umount local_path\\n'"
            ]
          },
          "metadata": {
            "tags": []
          },
          "execution_count": 39
        }
      ]
    }
  ]
}