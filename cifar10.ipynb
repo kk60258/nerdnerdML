{
  "nbformat": 4,
  "nbformat_minor": 0,
  "metadata": {
    "colab": {
      "name": "cifar10.ipynb",
      "version": "0.3.2",
      "provenance": [],
      "collapsed_sections": [],
      "toc_visible": true
    },
    "kernelspec": {
      "name": "python3",
      "display_name": "Python 3"
    },
    "accelerator": "GPU"
  },
  "cells": [
    {
      "cell_type": "markdown",
      "metadata": {
        "id": "view-in-github",
        "colab_type": "text"
      },
      "source": [
        "[View in Colaboratory](https://colab.research.google.com/github/kk60258/nerdnerdML/blob/nineg/cifar10.ipynb)"
      ]
    },
    {
      "metadata": {
        "id": "r8UlHZRFosHx",
        "colab_type": "code",
        "colab": {}
      },
      "cell_type": "code",
      "source": [
        "import os\n",
        "os.chdir('/content')"
      ],
      "execution_count": 0,
      "outputs": []
    },
    {
      "metadata": {
        "id": "kcy7rxLwr5av",
        "colab_type": "text"
      },
      "cell_type": "markdown",
      "source": [
        ""
      ]
    },
    {
      "metadata": {
        "id": "WN6oCjK8uwRd",
        "colab_type": "text"
      },
      "cell_type": "markdown",
      "source": [
        "### Install colab util"
      ]
    },
    {
      "metadata": {
        "id": "yrxZF0cDUzGM",
        "colab_type": "code",
        "colab": {
          "base_uri": "https://localhost:8080/",
          "height": 153
        },
        "outputId": "f035d4a5-740e-4b60-9c12-068ae39edb8b"
      },
      "cell_type": "code",
      "source": [
        "!pip install --upgrade git+https://github.com/kk60258/colab_utils.git"
      ],
      "execution_count": 2,
      "outputs": [
        {
          "output_type": "stream",
          "text": [
            "Collecting git+https://github.com/kk60258/colab_utils.git\r\n",
            "  Cloning https://github.com/kk60258/colab_utils.git to /tmp/pip-req-build-v3h4jr3w\n",
            "Building wheels for collected packages: nerdcolab\n",
            "  Running setup.py bdist_wheel for nerdcolab ... \u001b[?25l-\b \bdone\n",
            "\u001b[?25h  Stored in directory: /tmp/pip-ephem-wheel-cache-g4um1jl5/wheels/ac/8b/05/e46bb3e3ebff29b5b7c51d2e3c48bb9574d3c94ccb76269d56\n",
            "Successfully built nerdcolab\n",
            "Installing collected packages: nerdcolab\n",
            "Successfully installed nerdcolab-0.0.2\n"
          ],
          "name": "stdout"
        }
      ]
    },
    {
      "metadata": {
        "id": "kCd1j4ScZXX1",
        "colab_type": "code",
        "colab": {
          "base_uri": "https://localhost:8080/",
          "height": 119
        },
        "outputId": "399d5140-cf30-4bd3-eaa1-55ce92a00a23"
      },
      "cell_type": "code",
      "source": [
        "!git clone https://github.com/kk60258/nerdnerdML.git"
      ],
      "execution_count": 3,
      "outputs": [
        {
          "output_type": "stream",
          "text": [
            "Cloning into 'nerdnerdML'...\n",
            "remote: Counting objects: 280, done.\u001b[K\n",
            "remote: Compressing objects: 100% (179/179), done.\u001b[K\n",
            "remote: Total 280 (delta 113), reused 238 (delta 91), pack-reused 0\u001b[K\n",
            "Receiving objects: 100% (280/280), 14.73 MiB | 5.60 MiB/s, done.\n",
            "Resolving deltas: 100% (113/113), done.\n"
          ],
          "name": "stdout"
        }
      ]
    },
    {
      "metadata": {
        "id": "ne4poUuOuz4s",
        "colab_type": "text"
      },
      "cell_type": "markdown",
      "source": [
        "### Clone source code"
      ]
    },
    {
      "metadata": {
        "id": "0zcPRyseFuc0",
        "colab_type": "code",
        "colab": {
          "base_uri": "https://localhost:8080/",
          "height": 51
        },
        "outputId": "af085d8a-9159-4287-a137-643dcaa00f27"
      },
      "cell_type": "code",
      "source": [
        "\n",
        "os.chdir('/content/nerdnerdML')\n",
        "!git checkout nineg"
      ],
      "execution_count": 16,
      "outputs": [
        {
          "output_type": "stream",
          "text": [
            "Already on 'nineg'\r\n",
            "Your branch is up-to-date with 'origin/nineg'.\r\n"
          ],
          "name": "stdout"
        }
      ]
    },
    {
      "metadata": {
        "id": "RMpu0SUdGNvl",
        "colab_type": "code",
        "colab": {}
      },
      "cell_type": "code",
      "source": [
        "#!git reset --hard 28bfd8253b7235934f52dffc44877342162f1298"
      ],
      "execution_count": 0,
      "outputs": []
    },
    {
      "metadata": {
        "id": "Qr7yxNHdGQZX",
        "colab_type": "code",
        "colab": {}
      },
      "cell_type": "code",
      "source": [
        "os.chdir('/content/nerdnerdML/CIFAR10')"
      ],
      "execution_count": 0,
      "outputs": []
    },
    {
      "metadata": {
        "id": "SolwJ_KOGZDe",
        "colab_type": "code",
        "colab": {}
      },
      "cell_type": "code",
      "source": [
        "#with open(\"cifar10.py\") as f:\n",
        "#    code = compile(f.read(), \"cifar10.py\", 'exec')\n",
        "#    exec(code)"
      ],
      "execution_count": 0,
      "outputs": []
    },
    {
      "metadata": {
        "id": "UHWURWm1J_nQ",
        "colab_type": "code",
        "colab": {}
      },
      "cell_type": "code",
      "source": [
        "#%run -i cifar10.py"
      ],
      "execution_count": 0,
      "outputs": []
    },
    {
      "metadata": {
        "id": "9-KWHg5cuhg9",
        "colab_type": "text"
      },
      "cell_type": "markdown",
      "source": [
        "### Authenticate Google Cloud"
      ]
    },
    {
      "metadata": {
        "id": "oZNbiTjxo3i3",
        "colab_type": "code",
        "colab": {
          "base_uri": "https://localhost:8080/",
          "height": 34
        },
        "outputId": "14ea31a3-95ad-408a-bc53-85094100f9e1"
      },
      "cell_type": "code",
      "source": [
        "import os\n",
        "import nerdcolab.gcloud\n",
        "\n",
        "## authorize access to Google Cloud SDK from `colaboratory` VM\n",
        "project_name = \"ai-model-test\"\n",
        "bucket_name = \"ai-model-test-ml\"\n",
        "\n",
        "nerdcolab.gcloud.gcloud_auth(project_name)"
      ],
      "execution_count": 9,
      "outputs": [
        {
          "output_type": "execute_result",
          "data": {
            "text/plain": [
              "'ai-model-test'"
            ]
          },
          "metadata": {
            "tags": []
          },
          "execution_count": 9
        }
      ]
    },
    {
      "metadata": {
        "id": "ahke--a0urbt",
        "colab_type": "text"
      },
      "cell_type": "markdown",
      "source": [
        "Update source code if needed"
      ]
    },
    {
      "metadata": {
        "id": "LdzvG5qx3S52",
        "colab_type": "code",
        "colab": {
          "base_uri": "https://localhost:8080/",
          "height": 34
        },
        "outputId": "2dc1fda2-d2a5-4ada-8851-320780d952fb"
      },
      "cell_type": "code",
      "source": [
        "os.chdir('/content/nerdnerdML/CIFAR10')\n",
        "!git pull"
      ],
      "execution_count": 19,
      "outputs": [
        {
          "output_type": "stream",
          "text": [
            "fatal: Not a git repository (or any of the parent directories): .git\r\n"
          ],
          "name": "stdout"
        }
      ]
    },
    {
      "metadata": {
        "id": "5_Bapx7VlIyk",
        "colab_type": "text"
      },
      "cell_type": "markdown",
      "source": [
        "### Download trainned checkpoint\n",
        "1. mkdir\n",
        "2. download ckpt from gcs\n",
        "3. unzip\n",
        "4. ls\n",
        "5. use the commentted restore_model_prefix as parameter to run cifar10.py"
      ]
    },
    {
      "metadata": {
        "id": "EoJQyS5Deq_-",
        "colab_type": "code",
        "colab": {
          "base_uri": "https://localhost:8080/",
          "height": 153
        },
        "outputId": "aa4054fe-eaf1-4fd3-b47f-9cb65150b814"
      },
      "cell_type": "code",
      "source": [
        "#@title Default title text\n",
        "!mkdir -p /tmp/cifar10_restore\n",
        "!gsutil cp gs://ai-model-test-ml/cifar10_train.401000.tar.gz /tmp/cifar10_restore\n",
        "!tar -xzvf '/tmp/cifar10_restore/cifar10_train.401000.tar.gz' -C /tmp/cifar10_restore\n",
        "!ls /tmp/cifar10_restore/\n",
        " #--restore_model_prefix='/tmp/cifar10_restore/model-381000'"
      ],
      "execution_count": 14,
      "outputs": [
        {
          "output_type": "stream",
          "text": [
            "Copying gs://ai-model-test-ml/cifar10_train.401000.tar.gz...\n",
            "/ [1 files][  1.9 MiB/  1.9 MiB]                                                \n",
            "Operation completed over 1 objects/1.9 MiB.                                      \n",
            "model-401000.index\n",
            "model-401000.data-00000-of-00001\n",
            "model-401000.meta\n",
            "cifar10_train.401000.tar.gz\t  model-401000.index\n",
            "model-401000.data-00000-of-00001  model-401000.meta\n"
          ],
          "name": "stdout"
        }
      ]
    },
    {
      "metadata": {
        "id": "8dRmWNqPnX9W",
        "colab_type": "code",
        "colab": {}
      },
      "cell_type": "code",
      "source": [
        "!rm -rf /tmp/cifar10_summary"
      ],
      "execution_count": 0,
      "outputs": []
    },
    {
      "metadata": {
        "id": "Ee9HGaIFtv4g",
        "colab_type": "code",
        "colab": {}
      },
      "cell_type": "code",
      "source": [
        "#!mkdir -p /tmp/cifar10_train"
      ],
      "execution_count": 0,
      "outputs": []
    },
    {
      "metadata": {
        "id": "JVYM3-d2qvIU",
        "colab_type": "code",
        "colab": {}
      },
      "cell_type": "code",
      "source": [
        "#!rm -rf /tmp/cifar10_restore"
      ],
      "execution_count": 0,
      "outputs": []
    },
    {
      "metadata": {
        "id": "nwpyLVguAWk2",
        "colab_type": "code",
        "colab": {
          "base_uri": "https://localhost:8080/",
          "height": 34
        },
        "outputId": "0935318b-a7fb-4c15-bf14-ad0c06a75a1a"
      },
      "cell_type": "code",
      "source": [
        "os.chdir('/tmp')\n",
        "!ls\n",
        "!rm -rf cifar10_data"
      ],
      "execution_count": 21,
      "outputs": [
        {
          "output_type": "stream",
          "text": [
            "cifar10_data  cifar10_restore  cifar10_train\r\n"
          ],
          "name": "stdout"
        }
      ]
    },
    {
      "metadata": {
        "id": "xzrr8VIwuUEm",
        "colab_type": "text"
      },
      "cell_type": "markdown",
      "source": [
        "# Train\n",
        "Rememeber to change the checkpoint file name if doing restore."
      ]
    },
    {
      "metadata": {
        "id": "Vuyo8Pi__RwN",
        "colab_type": "code",
        "colab": {
          "base_uri": "https://localhost:8080/",
          "height": 11597
        },
        "outputId": "a9374eb9-2193-46fc-e0a4-39abfbb28980"
      },
      "cell_type": "code",
      "source": [
        "#@title Default title text\n",
        "os.chdir('/content/nerdnerdML/CIFAR10')\n",
        "!python cifar10.py --log_frequency=1000 --max_steps=500000 --train_dir='/tmp/cifar10_train' --learning_rate=0.001 --use_google_cloud=True --overwrite_google_cloud_if_filename_conflicts=True --restore_model_prefix='/tmp/cifar10_restore/model-401000'"
      ],
      "execution_count": 0,
      "outputs": [
        {
          "output_type": "stream",
          "text": [
            "/usr/local/lib/python3.6/dist-packages/h5py/__init__.py:36: FutureWarning: Conversion of the second argument of issubdtype from `float` to `np.floating` is deprecated. In future, it will be treated as `np.float64 == np.dtype(float).type`.\r\n",
            "  from ._conv import register_converters as _register_converters\n",
            ">> Downloading cifar-10-binary.tar.gz 43.9%"
          ],
          "name": "stdout"
        },
        {
          "output_type": "stream",
          "text": [
            ">> Downloading cifar-10-binary.tar.gz 100.0%\n",
            "Successfully downloaded cifar-10-binary.tar.gz 170052171 bytes.\n",
            "WARNING:tensorflow:From /content/nerdnerdML/CIFAR10/cifar10_model.py:62: softmax_cross_entropy_with_logits (from tensorflow.python.ops.nn_ops) is deprecated and will be removed in a future version.\n",
            "Instructions for updating:\n",
            "\n",
            "Future major versions of TensorFlow will allow gradients to flow\n",
            "into the labels input on backprop by default.\n",
            "\n",
            "See tf.nn.softmax_cross_entropy_with_logits_v2.\n",
            "\n",
            "WARNING:tensorflow:From /content/nerdnerdML/CIFAR10/cifar10_model.py:62: softmax_cross_entropy_with_logits (from tensorflow.python.ops.nn_ops) is deprecated and will be removed in a future version.\n",
            "Instructions for updating:\n",
            "\n",
            "Future major versions of TensorFlow will allow gradients to flow\n",
            "into the labels input on backprop by default.\n",
            "\n",
            "See tf.nn.softmax_cross_entropy_with_logits_v2.\n",
            "\n",
            "INFO:tensorflow:Summary name train accuracy is illegal; using train_accuracy instead.\n",
            "INFO:tensorflow:Summary name train accuracy is illegal; using train_accuracy instead.\n",
            "INFO:tensorflow:Summary name test accuracy is illegal; using test_accuracy instead.\n",
            "INFO:tensorflow:Summary name test accuracy is illegal; using test_accuracy instead.\n",
            "INFO:tensorflow:Summary name total loss is illegal; using total_loss instead.\n",
            "INFO:tensorflow:Summary name total loss is illegal; using total_loss instead.\n",
            "INFO:tensorflow:Summary name total test loss is illegal; using total_test_loss instead.\n",
            "INFO:tensorflow:Summary name total test loss is illegal; using total_test_loss instead.\n",
            "INFO:tensorflow:Summary name learning rate is illegal; using learning_rate instead.\n",
            "INFO:tensorflow:Summary name learning rate is illegal; using learning_rate instead.\n",
            "2018-05-03 03:19:02.669792: I tensorflow/stream_executor/cuda/cuda_gpu_executor.cc:898] successful NUMA node read from SysFS had negative value (-1), but there must be at least one NUMA node, so returning NUMA node zero\n",
            "2018-05-03 03:19:02.670223: I tensorflow/core/common_runtime/gpu/gpu_device.cc:1344] Found device 0 with properties: \n",
            "name: Tesla K80 major: 3 minor: 7 memoryClockRate(GHz): 0.8235\n",
            "pciBusID: 0000:00:04.0\n",
            "totalMemory: 11.17GiB freeMemory: 11.10GiB\n",
            "2018-05-03 03:19:02.670281: I tensorflow/core/common_runtime/gpu/gpu_device.cc:1423] Adding visible gpu devices: 0\n",
            "2018-05-03 03:19:03.016370: I tensorflow/core/common_runtime/gpu/gpu_device.cc:911] Device interconnect StreamExecutor with strength 1 edge matrix:\n",
            "2018-05-03 03:19:03.016429: I tensorflow/core/common_runtime/gpu/gpu_device.cc:917]      0 \n",
            "2018-05-03 03:19:03.016452: I tensorflow/core/common_runtime/gpu/gpu_device.cc:930] 0:   N \n",
            "2018-05-03 03:19:03.016804: I tensorflow/core/common_runtime/gpu/gpu_device.cc:1041] Created TensorFlow device (/job:localhost/replica:0/task:0/device:GPU:0 with 10765 MB memory) -> physical GPU (device: 0, name: Tesla K80, pci bus id: 0000:00:04.0, compute capability: 3.7)\n",
            "INFO:tensorflow:Restoring parameters from /tmp/cifar10_restore/model-401000\n",
            "INFO:tensorflow:Restoring parameters from /tmp/cifar10_restore/model-401000\n",
            "DEBUG:root:step 402000, train loss 1.1500892639160156, train accuracy 0.6328125, test accuracy 0.6928, best 0\n",
            "WARNING:google.auth._default:No project ID could be determined. Consider running `gcloud config set project` or setting the GOOGLE_CLOUD_PROJECT environment variable\n",
            "DEBUG:urllib3.util.retry:Converted retries value: 3 -> Retry(total=3, connect=None, read=None, redirect=None, status=None)\n",
            "DEBUG:google.auth.transport.requests:Making request: POST https://accounts.google.com/o/oauth2/token\n",
            "DEBUG:urllib3.connectionpool:Starting new HTTPS connection (1): accounts.google.com\n",
            "DEBUG:urllib3.connectionpool:https://accounts.google.com:443 \"POST /o/oauth2/token HTTP/1.1\" 200 None\n",
            "DEBUG:urllib3.connectionpool:Starting new HTTPS connection (1): www.googleapis.com\n",
            "DEBUG:urllib3.connectionpool:https://www.googleapis.com:443 \"GET /storage/v1/b/ai-model-test-ml?projection=noAcl HTTP/1.1\" 200 376\n",
            "DEBUG:urllib3.connectionpool:https://www.googleapis.com:443 \"GET /storage/v1/b/ai-model-test-ml/o?projection=noAcl HTTP/1.1\" 200 11756\n",
            "model-402000.meta\n",
            "model-402000.index\n",
            "model-402000.data-00000-of-00001\n",
            "uploading tar archive to bucket=gs://ai-model-test-ml/cifar10_train.402000.tar.gz ...\n",
            "WARNING:google.auth._default:No project ID could be determined. Consider running `gcloud config set project` or setting the GOOGLE_CLOUD_PROJECT environment variable\n",
            "WARNING:google.auth._default:No project ID could be determined. Consider running `gcloud config set project` or setting the GOOGLE_CLOUD_PROJECT environment variable\n",
            "DEBUG:urllib3.util.retry:Converted retries value: 3 -> Retry(total=3, connect=None, read=None, redirect=None, status=None)\n",
            "DEBUG:google.auth.transport.requests:Making request: POST https://accounts.google.com/o/oauth2/token\n",
            "DEBUG:urllib3.connectionpool:Starting new HTTPS connection (1): accounts.google.com\n",
            "DEBUG:urllib3.connectionpool:https://accounts.google.com:443 \"POST /o/oauth2/token HTTP/1.1\" 200 None\n",
            "DEBUG:urllib3.connectionpool:Starting new HTTPS connection (1): www.googleapis.com\n",
            "DEBUG:urllib3.connectionpool:https://www.googleapis.com:443 \"GET /storage/v1/b/ai-model-test-ml?projection=noAcl HTTP/1.1\" 200 376\n",
            "DEBUG:urllib3.connectionpool:https://www.googleapis.com:443 \"GET /storage/v1/b/ai-model-test-ml/o?projection=noAcl HTTP/1.1\" 200 11756\n",
            "DEBUG:urllib3.util.retry:Converted retries value: 3 -> Retry(total=3, connect=None, read=None, redirect=None, status=None)\n",
            "DEBUG:google.auth.transport.requests:Making request: POST https://accounts.google.com/o/oauth2/token\n",
            "DEBUG:urllib3.connectionpool:Starting new HTTPS connection (1): accounts.google.com\n",
            "DEBUG:urllib3.connectionpool:https://accounts.google.com:443 \"POST /o/oauth2/token HTTP/1.1\" 200 None\n",
            "DEBUG:urllib3.connectionpool:Starting new HTTPS connection (1): www.googleapis.com\n",
            "DEBUG:urllib3.connectionpool:https://www.googleapis.com:443 \"GET /storage/v1/b/ai-model-test-ml?projection=noAcl HTTP/1.1\" 200 376\n",
            "uploading file=gs://ai-model-test-ml/cifar10_train.402000.tar.gz ...\n",
            "DEBUG:urllib3.connectionpool:https://www.googleapis.com:443 \"POST /upload/storage/v1/b/ai-model-test-ml/o?uploadType=multipart HTTP/1.1\" 200 804\n",
            "saved: tar=cifar10_train.402000.tar.gz \n",
            "> bucket=gs://ai-model-test-ml/cifar10_train.402000.tar.gz \n",
            ">\n"
          ],
          "name": "stdout"
        },
        {
          "output_type": "stream",
          "text": [
            "DEBUG:root:step 403000, train loss 1.073978304862976, train accuracy 0.671875, test accuracy 0.6866, best 0.6928\n",
            "DEBUG:root:step 404000, train loss 1.2043108940124512, train accuracy 0.6328125, test accuracy 0.6999, best 0.6928\n",
            "WARNING:google.auth._default:No project ID could be determined. Consider running `gcloud config set project` or setting the GOOGLE_CLOUD_PROJECT environment variable\n",
            "DEBUG:urllib3.util.retry:Converted retries value: 3 -> Retry(total=3, connect=None, read=None, redirect=None, status=None)\n",
            "DEBUG:google.auth.transport.requests:Making request: POST https://accounts.google.com/o/oauth2/token\n",
            "DEBUG:urllib3.connectionpool:Starting new HTTPS connection (1): accounts.google.com\n",
            "DEBUG:urllib3.connectionpool:https://accounts.google.com:443 \"POST /o/oauth2/token HTTP/1.1\" 200 None\n",
            "DEBUG:urllib3.connectionpool:Starting new HTTPS connection (1): www.googleapis.com\n",
            "DEBUG:urllib3.connectionpool:https://www.googleapis.com:443 \"GET /storage/v1/b/ai-model-test-ml?projection=noAcl HTTP/1.1\" 200 376\n",
            "DEBUG:urllib3.connectionpool:https://www.googleapis.com:443 \"GET /storage/v1/b/ai-model-test-ml/o?projection=noAcl HTTP/1.1\" 200 12599\n",
            "model-404000.data-00000-of-00001\n",
            "model-404000.index\n",
            "model-404000.meta\n",
            "uploading tar archive to bucket=gs://ai-model-test-ml/cifar10_train.404000.tar.gz ...\n",
            "WARNING:google.auth._default:No project ID could be determined. Consider running `gcloud config set project` or setting the GOOGLE_CLOUD_PROJECT environment variable\n",
            "WARNING:google.auth._default:No project ID could be determined. Consider running `gcloud config set project` or setting the GOOGLE_CLOUD_PROJECT environment variable\n",
            "DEBUG:urllib3.util.retry:Converted retries value: 3 -> Retry(total=3, connect=None, read=None, redirect=None, status=None)\n",
            "DEBUG:google.auth.transport.requests:Making request: POST https://accounts.google.com/o/oauth2/token\n",
            "DEBUG:urllib3.connectionpool:Starting new HTTPS connection (1): accounts.google.com\n",
            "DEBUG:urllib3.connectionpool:https://accounts.google.com:443 \"POST /o/oauth2/token HTTP/1.1\" 200 None\n",
            "DEBUG:urllib3.connectionpool:Starting new HTTPS connection (1): www.googleapis.com\n",
            "DEBUG:urllib3.connectionpool:https://www.googleapis.com:443 \"GET /storage/v1/b/ai-model-test-ml?projection=noAcl HTTP/1.1\" 200 376\n",
            "DEBUG:urllib3.connectionpool:https://www.googleapis.com:443 \"GET /storage/v1/b/ai-model-test-ml/o?projection=noAcl HTTP/1.1\" 200 12599\n",
            "DEBUG:urllib3.util.retry:Converted retries value: 3 -> Retry(total=3, connect=None, read=None, redirect=None, status=None)\n",
            "DEBUG:google.auth.transport.requests:Making request: POST https://accounts.google.com/o/oauth2/token\n",
            "DEBUG:urllib3.connectionpool:Starting new HTTPS connection (1): accounts.google.com\n",
            "DEBUG:urllib3.connectionpool:https://accounts.google.com:443 \"POST /o/oauth2/token HTTP/1.1\" 200 None\n",
            "DEBUG:urllib3.connectionpool:Starting new HTTPS connection (1): www.googleapis.com\n",
            "DEBUG:urllib3.connectionpool:https://www.googleapis.com:443 \"GET /storage/v1/b/ai-model-test-ml?projection=noAcl HTTP/1.1\" 200 376\n",
            "uploading file=gs://ai-model-test-ml/cifar10_train.404000.tar.gz ...\n",
            "DEBUG:urllib3.connectionpool:https://www.googleapis.com:443 \"POST /upload/storage/v1/b/ai-model-test-ml/o?uploadType=multipart HTTP/1.1\" 200 804\n",
            "saved: tar=cifar10_train.404000.tar.gz \n",
            "> bucket=gs://ai-model-test-ml/cifar10_train.404000.tar.gz \n",
            ">\n",
            "DEBUG:root:step 405000, train loss 0.9756289720535278, train accuracy 0.734375, test accuracy 0.6994, best 0.6999\n",
            "DEBUG:root:step 406000, train loss 1.0959352254867554, train accuracy 0.6796875, test accuracy 0.6963, best 0.6999\n",
            "DEBUG:root:step 407000, train loss 0.9580899477005005, train accuracy 0.6953125, test accuracy 0.6952, best 0.6999\n",
            "DEBUG:root:step 408000, train loss 1.0427136421203613, train accuracy 0.734375, test accuracy 0.705, best 0.6999\n",
            "WARNING:google.auth._default:No project ID could be determined. Consider running `gcloud config set project` or setting the GOOGLE_CLOUD_PROJECT environment variable\n",
            "DEBUG:urllib3.util.retry:Converted retries value: 3 -> Retry(total=3, connect=None, read=None, redirect=None, status=None)\n",
            "DEBUG:google.auth.transport.requests:Making request: POST https://accounts.google.com/o/oauth2/token\n",
            "DEBUG:urllib3.connectionpool:Starting new HTTPS connection (1): accounts.google.com\n",
            "DEBUG:urllib3.connectionpool:https://accounts.google.com:443 \"POST /o/oauth2/token HTTP/1.1\" 200 None\n",
            "DEBUG:urllib3.connectionpool:Starting new HTTPS connection (1): www.googleapis.com\n",
            "DEBUG:urllib3.connectionpool:https://www.googleapis.com:443 \"GET /storage/v1/b/ai-model-test-ml?projection=noAcl HTTP/1.1\" 200 376\n",
            "DEBUG:urllib3.connectionpool:https://www.googleapis.com:443 \"GET /storage/v1/b/ai-model-test-ml/o?projection=noAcl HTTP/1.1\" 200 13442\n",
            "model-408000.meta\n",
            "model-408000.index\n",
            "model-408000.data-00000-of-00001\n",
            "uploading tar archive to bucket=gs://ai-model-test-ml/cifar10_train.408000.tar.gz ...\n",
            "WARNING:google.auth._default:No project ID could be determined. Consider running `gcloud config set project` or setting the GOOGLE_CLOUD_PROJECT environment variable\n",
            "WARNING:google.auth._default:No project ID could be determined. Consider running `gcloud config set project` or setting the GOOGLE_CLOUD_PROJECT environment variable\n",
            "DEBUG:urllib3.util.retry:Converted retries value: 3 -> Retry(total=3, connect=None, read=None, redirect=None, status=None)\n",
            "DEBUG:google.auth.transport.requests:Making request: POST https://accounts.google.com/o/oauth2/token\n",
            "DEBUG:urllib3.connectionpool:Starting new HTTPS connection (1): accounts.google.com\n",
            "DEBUG:urllib3.connectionpool:https://accounts.google.com:443 \"POST /o/oauth2/token HTTP/1.1\" 200 None\n",
            "DEBUG:urllib3.connectionpool:Starting new HTTPS connection (1): www.googleapis.com\n",
            "DEBUG:urllib3.connectionpool:https://www.googleapis.com:443 \"GET /storage/v1/b/ai-model-test-ml?projection=noAcl HTTP/1.1\" 200 376\n",
            "DEBUG:urllib3.connectionpool:https://www.googleapis.com:443 \"GET /storage/v1/b/ai-model-test-ml/o?projection=noAcl HTTP/1.1\" 200 13442\n",
            "DEBUG:urllib3.util.retry:Converted retries value: 3 -> Retry(total=3, connect=None, read=None, redirect=None, status=None)\n",
            "DEBUG:google.auth.transport.requests:Making request: POST https://accounts.google.com/o/oauth2/token\n",
            "DEBUG:urllib3.connectionpool:Starting new HTTPS connection (1): accounts.google.com\n",
            "DEBUG:urllib3.connectionpool:https://accounts.google.com:443 \"POST /o/oauth2/token HTTP/1.1\" 200 None\n",
            "DEBUG:urllib3.connectionpool:Starting new HTTPS connection (1): www.googleapis.com\n"
          ],
          "name": "stdout"
        },
        {
          "output_type": "stream",
          "text": [
            "DEBUG:urllib3.connectionpool:https://www.googleapis.com:443 \"GET /storage/v1/b/ai-model-test-ml?projection=noAcl HTTP/1.1\" 200 376\r\n",
            "uploading file=gs://ai-model-test-ml/cifar10_train.408000.tar.gz ...\n",
            "DEBUG:urllib3.connectionpool:https://www.googleapis.com:443 \"POST /upload/storage/v1/b/ai-model-test-ml/o?uploadType=multipart HTTP/1.1\" 200 804\n",
            "saved: tar=cifar10_train.408000.tar.gz \n",
            "> bucket=gs://ai-model-test-ml/cifar10_train.408000.tar.gz \n",
            ">\n",
            "DEBUG:root:step 409000, train loss 1.0656459331512451, train accuracy 0.6953125, test accuracy 0.6924, best 0.705\n",
            "DEBUG:root:step 410000, train loss 1.141296148300171, train accuracy 0.671875, test accuracy 0.7011, best 0.705\n",
            "DEBUG:root:step 411000, train loss 1.1408909559249878, train accuracy 0.640625, test accuracy 0.6877, best 0.705\n",
            "DEBUG:root:step 412000, train loss 0.9746173620223999, train accuracy 0.7109375, test accuracy 0.6988, best 0.705\n",
            "DEBUG:root:step 413000, train loss 1.058346152305603, train accuracy 0.6953125, test accuracy 0.7001, best 0.705\n",
            "DEBUG:root:step 414000, train loss 0.9966010451316833, train accuracy 0.6796875, test accuracy 0.6917, best 0.705\n",
            "DEBUG:root:step 415000, train loss 1.0317686796188354, train accuracy 0.7109375, test accuracy 0.6803, best 0.705\n",
            "DEBUG:root:step 416000, train loss 0.9864484667778015, train accuracy 0.6953125, test accuracy 0.6943, best 0.705\n",
            "DEBUG:root:step 417000, train loss 1.0362635850906372, train accuracy 0.6953125, test accuracy 0.6743, best 0.705\n",
            "DEBUG:root:step 418000, train loss 1.0086603164672852, train accuracy 0.734375, test accuracy 0.6967, best 0.705\n",
            "DEBUG:root:step 419000, train loss 1.0956257581710815, train accuracy 0.6796875, test accuracy 0.7031, best 0.705\n",
            "DEBUG:root:step 420000, train loss 1.0373220443725586, train accuracy 0.71875, test accuracy 0.6923, best 0.705\n",
            "DEBUG:root:step 421000, train loss 0.9201611280441284, train accuracy 0.7109375, test accuracy 0.693, best 0.705\n",
            "DEBUG:root:step 422000, train loss 0.9257925748825073, train accuracy 0.7109375, test accuracy 0.6865, best 0.705\n",
            "DEBUG:root:step 423000, train loss 1.1751673221588135, train accuracy 0.640625, test accuracy 0.6788, best 0.705\n",
            "DEBUG:root:step 424000, train loss 0.9098861813545227, train accuracy 0.7109375, test accuracy 0.6978, best 0.705\n",
            "DEBUG:root:step 425000, train loss 1.0124340057373047, train accuracy 0.671875, test accuracy 0.6858, best 0.705\n",
            "DEBUG:root:step 426000, train loss 0.9735161066055298, train accuracy 0.7265625, test accuracy 0.6947, best 0.705\n",
            "DEBUG:root:step 427000, train loss 1.0666619539260864, train accuracy 0.6953125, test accuracy 0.699, best 0.705\n",
            "DEBUG:root:step 428000, train loss 0.7719416618347168, train accuracy 0.7734375, test accuracy 0.6915, best 0.705\n",
            "DEBUG:root:step 429000, train loss 0.9643679857254028, train accuracy 0.7890625, test accuracy 0.6869, best 0.705\n",
            "DEBUG:root:step 430000, train loss 0.8698515892028809, train accuracy 0.7265625, test accuracy 0.6821, best 0.705\n",
            "DEBUG:root:step 431000, train loss 0.931239664554596, train accuracy 0.75, test accuracy 0.6773, best 0.705\n",
            "DEBUG:root:step 432000, train loss 1.0763115882873535, train accuracy 0.6875, test accuracy 0.6708, best 0.705\n",
            "DEBUG:root:step 433000, train loss 1.0784671306610107, train accuracy 0.6640625, test accuracy 0.7008, best 0.705\n",
            "DEBUG:root:step 434000, train loss 0.9523531198501587, train accuracy 0.7578125, test accuracy 0.6978, best 0.705\n",
            "DEBUG:root:step 435000, train loss 1.1524523496627808, train accuracy 0.6171875, test accuracy 0.6948, best 0.705\n",
            "DEBUG:root:step 436000, train loss 1.0912082195281982, train accuracy 0.65625, test accuracy 0.6984, best 0.705\n",
            "DEBUG:root:step 437000, train loss 0.995538592338562, train accuracy 0.734375, test accuracy 0.7045, best 0.705\n",
            "DEBUG:root:step 438000, train loss 1.0718919038772583, train accuracy 0.671875, test accuracy 0.6922, best 0.705\n",
            "DEBUG:root:step 439000, train loss 0.9720124006271362, train accuracy 0.71875, test accuracy 0.7008, best 0.705\n",
            "DEBUG:root:step 440000, train loss 1.080507755279541, train accuracy 0.6875, test accuracy 0.6908, best 0.705\n",
            "DEBUG:root:step 441000, train loss 1.1241099834442139, train accuracy 0.71875, test accuracy 0.688, best 0.705\n",
            "DEBUG:root:step 442000, train loss 1.1768426895141602, train accuracy 0.65625, test accuracy 0.6932, best 0.705\n",
            "DEBUG:root:step 443000, train loss 1.0522412061691284, train accuracy 0.671875, test accuracy 0.6856, best 0.705\n",
            "DEBUG:root:step 444000, train loss 0.9696875810623169, train accuracy 0.7265625, test accuracy 0.6904, best 0.705\n",
            "DEBUG:root:step 445000, train loss 1.0574103593826294, train accuracy 0.734375, test accuracy 0.6884, best 0.705\n"
          ],
          "name": "stdout"
        },
        {
          "output_type": "stream",
          "text": [
            "DEBUG:root:step 446000, train loss 0.9040912389755249, train accuracy 0.734375, test accuracy 0.6951, best 0.705\n",
            "DEBUG:root:step 447000, train loss 1.0827010869979858, train accuracy 0.6953125, test accuracy 0.7056, best 0.705\n",
            "WARNING:google.auth._default:No project ID could be determined. Consider running `gcloud config set project` or setting the GOOGLE_CLOUD_PROJECT environment variable\n",
            "DEBUG:urllib3.util.retry:Converted retries value: 3 -> Retry(total=3, connect=None, read=None, redirect=None, status=None)\n",
            "DEBUG:google.auth.transport.requests:Making request: POST https://accounts.google.com/o/oauth2/token\n",
            "DEBUG:urllib3.connectionpool:Starting new HTTPS connection (1): accounts.google.com\n",
            "DEBUG:urllib3.connectionpool:https://accounts.google.com:443 \"POST /o/oauth2/token HTTP/1.1\" 200 None\n",
            "DEBUG:urllib3.connectionpool:Starting new HTTPS connection (1): www.googleapis.com\n",
            "DEBUG:urllib3.connectionpool:https://www.googleapis.com:443 \"GET /storage/v1/b/ai-model-test-ml?projection=noAcl HTTP/1.1\" 200 376\n",
            "DEBUG:urllib3.connectionpool:https://www.googleapis.com:443 \"GET /storage/v1/b/ai-model-test-ml/o?projection=noAcl HTTP/1.1\" 200 14285\n",
            "model-447000.data-00000-of-00001\n",
            "model-447000.index\n",
            "model-447000.meta\n",
            "uploading tar archive to bucket=gs://ai-model-test-ml/cifar10_train.447000.tar.gz ...\n",
            "WARNING:google.auth._default:No project ID could be determined. Consider running `gcloud config set project` or setting the GOOGLE_CLOUD_PROJECT environment variable\n",
            "WARNING:google.auth._default:No project ID could be determined. Consider running `gcloud config set project` or setting the GOOGLE_CLOUD_PROJECT environment variable\n",
            "DEBUG:urllib3.util.retry:Converted retries value: 3 -> Retry(total=3, connect=None, read=None, redirect=None, status=None)\n",
            "DEBUG:google.auth.transport.requests:Making request: POST https://accounts.google.com/o/oauth2/token\n",
            "DEBUG:urllib3.connectionpool:Starting new HTTPS connection (1): accounts.google.com\n",
            "DEBUG:urllib3.connectionpool:https://accounts.google.com:443 \"POST /o/oauth2/token HTTP/1.1\" 200 None\n",
            "DEBUG:urllib3.connectionpool:Starting new HTTPS connection (1): www.googleapis.com\n",
            "DEBUG:urllib3.connectionpool:https://www.googleapis.com:443 \"GET /storage/v1/b/ai-model-test-ml?projection=noAcl HTTP/1.1\" 200 376\n",
            "DEBUG:urllib3.connectionpool:https://www.googleapis.com:443 \"GET /storage/v1/b/ai-model-test-ml/o?projection=noAcl HTTP/1.1\" 200 14285\n",
            "DEBUG:urllib3.util.retry:Converted retries value: 3 -> Retry(total=3, connect=None, read=None, redirect=None, status=None)\n",
            "DEBUG:google.auth.transport.requests:Making request: POST https://accounts.google.com/o/oauth2/token\n",
            "DEBUG:urllib3.connectionpool:Starting new HTTPS connection (1): accounts.google.com\n",
            "DEBUG:urllib3.connectionpool:https://accounts.google.com:443 \"POST /o/oauth2/token HTTP/1.1\" 200 None\n",
            "DEBUG:urllib3.connectionpool:Starting new HTTPS connection (1): www.googleapis.com\n",
            "DEBUG:urllib3.connectionpool:https://www.googleapis.com:443 \"GET /storage/v1/b/ai-model-test-ml?projection=noAcl HTTP/1.1\" 200 376\n",
            "uploading file=gs://ai-model-test-ml/cifar10_train.447000.tar.gz ...\n",
            "DEBUG:urllib3.connectionpool:https://www.googleapis.com:443 \"POST /upload/storage/v1/b/ai-model-test-ml/o?uploadType=multipart HTTP/1.1\" 200 804\n",
            "saved: tar=cifar10_train.447000.tar.gz \n",
            "> bucket=gs://ai-model-test-ml/cifar10_train.447000.tar.gz \n",
            ">\n",
            "DEBUG:root:step 448000, train loss 1.1764031648635864, train accuracy 0.6796875, test accuracy 0.6989, best 0.7056\n",
            "DEBUG:root:step 449000, train loss 1.0993670225143433, train accuracy 0.65625, test accuracy 0.6935, best 0.7056\n",
            "DEBUG:root:step 450000, train loss 1.1706607341766357, train accuracy 0.6796875, test accuracy 0.7002, best 0.7056\n",
            "DEBUG:root:step 451000, train loss 1.1184722185134888, train accuracy 0.6640625, test accuracy 0.6944, best 0.7056\n",
            "DEBUG:root:step 452000, train loss 1.1027796268463135, train accuracy 0.65625, test accuracy 0.691, best 0.7056\n",
            "DEBUG:root:step 453000, train loss 1.056710124015808, train accuracy 0.671875, test accuracy 0.6979, best 0.7056\n",
            "DEBUG:root:step 454000, train loss 0.9460058808326721, train accuracy 0.703125, test accuracy 0.6951, best 0.7056\n",
            "DEBUG:root:step 455000, train loss 1.06611967086792, train accuracy 0.6953125, test accuracy 0.6951, best 0.7056\n",
            "DEBUG:root:step 456000, train loss 1.0371594429016113, train accuracy 0.6953125, test accuracy 0.702, best 0.7056\n",
            "DEBUG:root:step 457000, train loss 1.0724191665649414, train accuracy 0.6875, test accuracy 0.6904, best 0.7056\n",
            "DEBUG:root:step 458000, train loss 0.973223090171814, train accuracy 0.7109375, test accuracy 0.7072, best 0.7056\n",
            "WARNING:google.auth._default:No project ID could be determined. Consider running `gcloud config set project` or setting the GOOGLE_CLOUD_PROJECT environment variable\n",
            "DEBUG:urllib3.util.retry:Converted retries value: 3 -> Retry(total=3, connect=None, read=None, redirect=None, status=None)\n",
            "DEBUG:google.auth.transport.requests:Making request: POST https://accounts.google.com/o/oauth2/token\n",
            "DEBUG:urllib3.connectionpool:Starting new HTTPS connection (1): accounts.google.com\n",
            "DEBUG:urllib3.connectionpool:https://accounts.google.com:443 \"POST /o/oauth2/token HTTP/1.1\" 200 None\n",
            "DEBUG:urllib3.connectionpool:Starting new HTTPS connection (1): www.googleapis.com\n",
            "DEBUG:urllib3.connectionpool:https://www.googleapis.com:443 \"GET /storage/v1/b/ai-model-test-ml?projection=noAcl HTTP/1.1\" 200 376\n",
            "DEBUG:urllib3.connectionpool:https://www.googleapis.com:443 \"GET /storage/v1/b/ai-model-test-ml/o?projection=noAcl HTTP/1.1\" 200 15128\n",
            "model-458000.meta\n",
            "model-458000.data-00000-of-00001\n",
            "model-458000.index\n",
            "uploading tar archive to bucket=gs://ai-model-test-ml/cifar10_train.458000.tar.gz ...\n",
            "WARNING:google.auth._default:No project ID could be determined. Consider running `gcloud config set project` or setting the GOOGLE_CLOUD_PROJECT environment variable\n",
            "WARNING:google.auth._default:No project ID could be determined. Consider running `gcloud config set project` or setting the GOOGLE_CLOUD_PROJECT environment variable\n",
            "DEBUG:urllib3.util.retry:Converted retries value: 3 -> Retry(total=3, connect=None, read=None, redirect=None, status=None)\n",
            "DEBUG:google.auth.transport.requests:Making request: POST https://accounts.google.com/o/oauth2/token\n",
            "DEBUG:urllib3.connectionpool:Starting new HTTPS connection (1): accounts.google.com\n"
          ],
          "name": "stdout"
        },
        {
          "output_type": "stream",
          "text": [
            "DEBUG:urllib3.connectionpool:https://accounts.google.com:443 \"POST /o/oauth2/token HTTP/1.1\" 200 None\r\n",
            "DEBUG:urllib3.connectionpool:Starting new HTTPS connection (1): www.googleapis.com\n",
            "DEBUG:urllib3.connectionpool:https://www.googleapis.com:443 \"GET /storage/v1/b/ai-model-test-ml?projection=noAcl HTTP/1.1\" 200 376\n",
            "DEBUG:urllib3.connectionpool:https://www.googleapis.com:443 \"GET /storage/v1/b/ai-model-test-ml/o?projection=noAcl HTTP/1.1\" 200 15128\n",
            "DEBUG:urllib3.util.retry:Converted retries value: 3 -> Retry(total=3, connect=None, read=None, redirect=None, status=None)\n",
            "DEBUG:google.auth.transport.requests:Making request: POST https://accounts.google.com/o/oauth2/token\n",
            "DEBUG:urllib3.connectionpool:Starting new HTTPS connection (1): accounts.google.com\n",
            "DEBUG:urllib3.connectionpool:https://accounts.google.com:443 \"POST /o/oauth2/token HTTP/1.1\" 200 None\n",
            "DEBUG:urllib3.connectionpool:Starting new HTTPS connection (1): www.googleapis.com\n",
            "DEBUG:urllib3.connectionpool:https://www.googleapis.com:443 \"GET /storage/v1/b/ai-model-test-ml?projection=noAcl HTTP/1.1\" 200 376\n",
            "uploading file=gs://ai-model-test-ml/cifar10_train.458000.tar.gz ...\n",
            "DEBUG:urllib3.connectionpool:https://www.googleapis.com:443 \"POST /upload/storage/v1/b/ai-model-test-ml/o?uploadType=multipart HTTP/1.1\" 200 804\n",
            "saved: tar=cifar10_train.458000.tar.gz \n",
            "> bucket=gs://ai-model-test-ml/cifar10_train.458000.tar.gz \n",
            ">\n",
            "DEBUG:root:step 459000, train loss 1.15647554397583, train accuracy 0.65625, test accuracy 0.6937, best 0.7072\n",
            "DEBUG:root:step 460000, train loss 1.0940366983413696, train accuracy 0.6796875, test accuracy 0.6928, best 0.7072\n",
            "DEBUG:root:step 461000, train loss 1.0540845394134521, train accuracy 0.6875, test accuracy 0.6925, best 0.7072\n",
            "DEBUG:root:step 462000, train loss 0.9873853921890259, train accuracy 0.734375, test accuracy 0.6991, best 0.7072\n",
            "DEBUG:root:step 463000, train loss 1.105279564857483, train accuracy 0.6640625, test accuracy 0.6838, best 0.7072\n",
            "DEBUG:root:step 464000, train loss 0.9591324329376221, train accuracy 0.6796875, test accuracy 0.6852, best 0.7072\n",
            "DEBUG:root:step 465000, train loss 0.909906804561615, train accuracy 0.7265625, test accuracy 0.6967, best 0.7072\n",
            "DEBUG:root:step 466000, train loss 1.0245108604431152, train accuracy 0.6875, test accuracy 0.6947, best 0.7072\n",
            "DEBUG:root:step 467000, train loss 1.101123332977295, train accuracy 0.65625, test accuracy 0.6863, best 0.7072\n",
            "DEBUG:root:step 468000, train loss 1.2305636405944824, train accuracy 0.6328125, test accuracy 0.6928, best 0.7072\n",
            "DEBUG:root:step 469000, train loss 0.894375741481781, train accuracy 0.75, test accuracy 0.699, best 0.7072\n",
            "DEBUG:root:step 470000, train loss 1.0261683464050293, train accuracy 0.703125, test accuracy 0.6904, best 0.7072\n",
            "DEBUG:root:step 471000, train loss 1.0247384309768677, train accuracy 0.65625, test accuracy 0.7026, best 0.7072\n",
            "DEBUG:root:step 472000, train loss 1.126159429550171, train accuracy 0.65625, test accuracy 0.698, best 0.7072\n",
            "DEBUG:root:step 473000, train loss 1.1623775959014893, train accuracy 0.671875, test accuracy 0.6935, best 0.7072\n",
            "DEBUG:root:step 474000, train loss 1.1433215141296387, train accuracy 0.6640625, test accuracy 0.6755, best 0.7072\n",
            "DEBUG:root:step 475000, train loss 0.9886658787727356, train accuracy 0.6953125, test accuracy 0.6842, best 0.7072\n",
            "DEBUG:root:step 476000, train loss 1.1991640329360962, train accuracy 0.65625, test accuracy 0.6874, best 0.7072\n",
            "DEBUG:root:step 477000, train loss 1.0211260318756104, train accuracy 0.71875, test accuracy 0.6942, best 0.7072\n",
            "DEBUG:root:step 478000, train loss 1.2157001495361328, train accuracy 0.609375, test accuracy 0.6938, best 0.7072\n",
            "DEBUG:root:step 479000, train loss 1.13459050655365, train accuracy 0.703125, test accuracy 0.6881, best 0.7072\n",
            "DEBUG:root:step 480000, train loss 0.9937425851821899, train accuracy 0.7265625, test accuracy 0.6945, best 0.7072\n",
            "DEBUG:root:step 481000, train loss 0.9733753800392151, train accuracy 0.6875, test accuracy 0.7011, best 0.7072\n",
            "DEBUG:root:step 482000, train loss 1.0292561054229736, train accuracy 0.6484375, test accuracy 0.6835, best 0.7072\n",
            "DEBUG:root:step 483000, train loss 0.9637830257415771, train accuracy 0.71875, test accuracy 0.6932, best 0.7072\n",
            "DEBUG:root:step 484000, train loss 1.3039841651916504, train accuracy 0.609375, test accuracy 0.6827, best 0.7072\n",
            "DEBUG:root:step 485000, train loss 0.9516777992248535, train accuracy 0.7265625, test accuracy 0.7078, best 0.7072\n",
            "WARNING:google.auth._default:No project ID could be determined. Consider running `gcloud config set project` or setting the GOOGLE_CLOUD_PROJECT environment variable\n",
            "DEBUG:urllib3.util.retry:Converted retries value: 3 -> Retry(total=3, connect=None, read=None, redirect=None, status=None)\n",
            "DEBUG:google.auth.transport.requests:Making request: POST https://accounts.google.com/o/oauth2/token\n",
            "DEBUG:urllib3.connectionpool:Starting new HTTPS connection (1): accounts.google.com\n",
            "DEBUG:urllib3.connectionpool:https://accounts.google.com:443 \"POST /o/oauth2/token HTTP/1.1\" 200 None\n",
            "DEBUG:urllib3.connectionpool:Starting new HTTPS connection (1): www.googleapis.com\n",
            "DEBUG:urllib3.connectionpool:https://www.googleapis.com:443 \"GET /storage/v1/b/ai-model-test-ml?projection=noAcl HTTP/1.1\" 200 376\n"
          ],
          "name": "stdout"
        },
        {
          "output_type": "stream",
          "text": [
            "DEBUG:urllib3.connectionpool:https://www.googleapis.com:443 \"GET /storage/v1/b/ai-model-test-ml/o?projection=noAcl HTTP/1.1\" 200 15971\r\n",
            "model-485000.index\r\n",
            "model-485000.data-00000-of-00001\n",
            "model-485000.meta\n",
            "uploading tar archive to bucket=gs://ai-model-test-ml/cifar10_train.485000.tar.gz ...\n",
            "WARNING:google.auth._default:No project ID could be determined. Consider running `gcloud config set project` or setting the GOOGLE_CLOUD_PROJECT environment variable\n",
            "WARNING:google.auth._default:No project ID could be determined. Consider running `gcloud config set project` or setting the GOOGLE_CLOUD_PROJECT environment variable\n",
            "DEBUG:urllib3.util.retry:Converted retries value: 3 -> Retry(total=3, connect=None, read=None, redirect=None, status=None)\n",
            "DEBUG:google.auth.transport.requests:Making request: POST https://accounts.google.com/o/oauth2/token\n",
            "DEBUG:urllib3.connectionpool:Starting new HTTPS connection (1): accounts.google.com\n",
            "DEBUG:urllib3.connectionpool:https://accounts.google.com:443 \"POST /o/oauth2/token HTTP/1.1\" 200 None\n",
            "DEBUG:urllib3.connectionpool:Starting new HTTPS connection (1): www.googleapis.com\n",
            "DEBUG:urllib3.connectionpool:https://www.googleapis.com:443 \"GET /storage/v1/b/ai-model-test-ml?projection=noAcl HTTP/1.1\" 200 376\n",
            "DEBUG:urllib3.connectionpool:https://www.googleapis.com:443 \"GET /storage/v1/b/ai-model-test-ml/o?projection=noAcl HTTP/1.1\" 200 15971\n",
            "DEBUG:urllib3.util.retry:Converted retries value: 3 -> Retry(total=3, connect=None, read=None, redirect=None, status=None)\n",
            "DEBUG:google.auth.transport.requests:Making request: POST https://accounts.google.com/o/oauth2/token\n",
            "DEBUG:urllib3.connectionpool:Starting new HTTPS connection (1): accounts.google.com\n",
            "DEBUG:urllib3.connectionpool:https://accounts.google.com:443 \"POST /o/oauth2/token HTTP/1.1\" 200 None\n",
            "DEBUG:urllib3.connectionpool:Starting new HTTPS connection (1): www.googleapis.com\n",
            "DEBUG:urllib3.connectionpool:https://www.googleapis.com:443 \"GET /storage/v1/b/ai-model-test-ml?projection=noAcl HTTP/1.1\" 200 376\n",
            "uploading file=gs://ai-model-test-ml/cifar10_train.485000.tar.gz ...\n",
            "DEBUG:urllib3.connectionpool:https://www.googleapis.com:443 \"POST /upload/storage/v1/b/ai-model-test-ml/o?uploadType=multipart HTTP/1.1\" 200 804\n",
            "saved: tar=cifar10_train.485000.tar.gz \n",
            "> bucket=gs://ai-model-test-ml/cifar10_train.485000.tar.gz \n",
            ">\n",
            "DEBUG:root:step 486000, train loss 1.120144009590149, train accuracy 0.671875, test accuracy 0.6919, best 0.7078\n",
            "DEBUG:root:step 487000, train loss 1.0109243392944336, train accuracy 0.6953125, test accuracy 0.6962, best 0.7078\n",
            "DEBUG:root:step 488000, train loss 1.1242045164108276, train accuracy 0.609375, test accuracy 0.6908, best 0.7078\n",
            "DEBUG:root:step 489000, train loss 0.9788954257965088, train accuracy 0.703125, test accuracy 0.6965, best 0.7078\n",
            "DEBUG:root:step 490000, train loss 0.9784336090087891, train accuracy 0.65625, test accuracy 0.6955, best 0.7078\n",
            "DEBUG:root:step 491000, train loss 1.0267565250396729, train accuracy 0.6796875, test accuracy 0.6945, best 0.7078\n",
            "DEBUG:root:step 492000, train loss 1.0478121042251587, train accuracy 0.7265625, test accuracy 0.69, best 0.7078\n",
            "DEBUG:root:step 493000, train loss 1.0435001850128174, train accuracy 0.7265625, test accuracy 0.6937, best 0.7078\n",
            "DEBUG:root:step 494000, train loss 1.0845849514007568, train accuracy 0.65625, test accuracy 0.6917, best 0.7078\n",
            "DEBUG:root:step 495000, train loss 1.1183347702026367, train accuracy 0.6953125, test accuracy 0.7006, best 0.7078\n",
            "DEBUG:root:step 496000, train loss 1.0360064506530762, train accuracy 0.703125, test accuracy 0.6972, best 0.7078\n",
            "DEBUG:root:step 497000, train loss 0.918785572052002, train accuracy 0.7265625, test accuracy 0.6948, best 0.7078\n",
            "DEBUG:root:step 498000, train loss 0.8986736536026001, train accuracy 0.75, test accuracy 0.6958, best 0.7078\n",
            "DEBUG:root:step 499000, train loss 1.048933744430542, train accuracy 0.703125, test accuracy 0.6967, best 0.7078\n",
            "DEBUG:root:step 499999, train loss 1.0117286443710327, train accuracy 0.71875, test accuracy 0.692, best 0.7078\n",
            "DEBUG:root:step 500000, train loss 1.133120059967041, train accuracy 0.671875, test accuracy 0.6959, best 0.7078\n",
            "DEBUG:root:step 501000, train loss 1.0812159776687622, train accuracy 0.6875, test accuracy 0.6773, best 0.7078\n",
            "DEBUG:root:step 502000, train loss 1.1624878644943237, train accuracy 0.65625, test accuracy 0.6694, best 0.7078\n",
            "DEBUG:root:step 503000, train loss 1.151768445968628, train accuracy 0.671875, test accuracy 0.6924, best 0.7078\n",
            "DEBUG:root:step 504000, train loss 1.0160772800445557, train accuracy 0.7109375, test accuracy 0.6824, best 0.7078\n",
            "DEBUG:root:step 505000, train loss 0.917491614818573, train accuracy 0.7578125, test accuracy 0.6945, best 0.7078\n",
            "DEBUG:root:step 506000, train loss 1.2035125494003296, train accuracy 0.6640625, test accuracy 0.6684, best 0.7078\n",
            "DEBUG:root:step 507000, train loss 1.1764425039291382, train accuracy 0.6640625, test accuracy 0.6921, best 0.7078\n"
          ],
          "name": "stdout"
        },
        {
          "output_type": "stream",
          "text": [
            "DEBUG:root:step 508000, train loss 1.1123640537261963, train accuracy 0.6953125, test accuracy 0.7012, best 0.7078\n",
            "DEBUG:root:step 509000, train loss 0.9029207825660706, train accuracy 0.7421875, test accuracy 0.6841, best 0.7078\n",
            "DEBUG:root:step 510000, train loss 1.1505376100540161, train accuracy 0.609375, test accuracy 0.6915, best 0.7078\n",
            "DEBUG:root:step 511000, train loss 1.120859146118164, train accuracy 0.6484375, test accuracy 0.6881, best 0.7078\n",
            "DEBUG:root:step 512000, train loss 1.0812909603118896, train accuracy 0.625, test accuracy 0.6957, best 0.7078\n",
            "DEBUG:root:step 513000, train loss 0.9057388305664062, train accuracy 0.71875, test accuracy 0.6915, best 0.7078\n",
            "DEBUG:root:step 514000, train loss 1.0092206001281738, train accuracy 0.7109375, test accuracy 0.6916, best 0.7078\n",
            "DEBUG:root:step 515000, train loss 0.958453893661499, train accuracy 0.703125, test accuracy 0.6954, best 0.7078\n",
            "DEBUG:root:step 516000, train loss 0.9810038208961487, train accuracy 0.6796875, test accuracy 0.6885, best 0.7078\n",
            "DEBUG:root:step 517000, train loss 0.958604633808136, train accuracy 0.734375, test accuracy 0.6963, best 0.7078\n",
            "DEBUG:root:step 518000, train loss 0.9034032821655273, train accuracy 0.7109375, test accuracy 0.6763, best 0.7078\n",
            "DEBUG:root:step 519000, train loss 0.9045295119285583, train accuracy 0.7265625, test accuracy 0.6924, best 0.7078\n",
            "DEBUG:root:step 520000, train loss 1.1102880239486694, train accuracy 0.6640625, test accuracy 0.6883, best 0.7078\n",
            "DEBUG:root:step 521000, train loss 1.0216395854949951, train accuracy 0.65625, test accuracy 0.6875, best 0.7078\n",
            "DEBUG:root:step 522000, train loss 0.964812159538269, train accuracy 0.6796875, test accuracy 0.6982, best 0.7078\n",
            "DEBUG:root:step 523000, train loss 0.8400909900665283, train accuracy 0.765625, test accuracy 0.6972, best 0.7078\n",
            "DEBUG:root:step 524000, train loss 0.9339461326599121, train accuracy 0.7109375, test accuracy 0.6921, best 0.7078\n",
            "DEBUG:root:step 525000, train loss 1.0561202764511108, train accuracy 0.65625, test accuracy 0.6971, best 0.7078\n",
            "DEBUG:root:step 526000, train loss 1.0145716667175293, train accuracy 0.6640625, test accuracy 0.6838, best 0.7078\n",
            "DEBUG:root:step 527000, train loss 1.1537739038467407, train accuracy 0.6640625, test accuracy 0.6822, best 0.7078\n",
            "DEBUG:root:step 528000, train loss 1.1576282978057861, train accuracy 0.6015625, test accuracy 0.6883, best 0.7078\n",
            "DEBUG:root:step 529000, train loss 1.2997562885284424, train accuracy 0.609375, test accuracy 0.6853, best 0.7078\n",
            "DEBUG:root:step 530000, train loss 0.8751769065856934, train accuracy 0.78125, test accuracy 0.6794, best 0.7078\n",
            "DEBUG:root:step 531000, train loss 0.8719149827957153, train accuracy 0.7421875, test accuracy 0.6959, best 0.7078\n",
            "DEBUG:root:step 532000, train loss 0.8872169256210327, train accuracy 0.7421875, test accuracy 0.6998, best 0.7078\n",
            "DEBUG:root:step 533000, train loss 1.0284850597381592, train accuracy 0.7109375, test accuracy 0.7051, best 0.7078\n",
            "DEBUG:root:step 534000, train loss 1.1300523281097412, train accuracy 0.640625, test accuracy 0.6773, best 0.7078\n",
            "DEBUG:root:step 535000, train loss 1.0706373453140259, train accuracy 0.6328125, test accuracy 0.6903, best 0.7078\n",
            "DEBUG:root:step 536000, train loss 1.1964666843414307, train accuracy 0.6328125, test accuracy 0.6836, best 0.7078\n",
            "DEBUG:root:step 537000, train loss 1.0083138942718506, train accuracy 0.671875, test accuracy 0.6908, best 0.7078\n",
            "DEBUG:root:step 538000, train loss 1.0465888977050781, train accuracy 0.703125, test accuracy 0.6869, best 0.7078\n",
            "DEBUG:root:step 539000, train loss 1.036028504371643, train accuracy 0.6484375, test accuracy 0.6892, best 0.7078\n",
            "DEBUG:root:step 540000, train loss 1.0636845827102661, train accuracy 0.6640625, test accuracy 0.6932, best 0.7078\n",
            "DEBUG:root:step 541000, train loss 1.0078791379928589, train accuracy 0.71875, test accuracy 0.6868, best 0.7078\n",
            "DEBUG:root:step 542000, train loss 1.080679178237915, train accuracy 0.671875, test accuracy 0.691, best 0.7078\n",
            "DEBUG:root:step 543000, train loss 1.0732216835021973, train accuracy 0.6953125, test accuracy 0.6875, best 0.7078\n",
            "DEBUG:root:step 544000, train loss 1.048890471458435, train accuracy 0.6875, test accuracy 0.6881, best 0.7078\n",
            "DEBUG:root:step 545000, train loss 1.1490278244018555, train accuracy 0.6640625, test accuracy 0.6691, best 0.7078\n",
            "DEBUG:root:step 546000, train loss 1.1449073553085327, train accuracy 0.6640625, test accuracy 0.6933, best 0.7078\n",
            "DEBUG:root:step 547000, train loss 1.079345703125, train accuracy 0.6875, test accuracy 0.7016, best 0.7078\n",
            "DEBUG:root:step 548000, train loss 1.0418792963027954, train accuracy 0.7265625, test accuracy 0.6762, best 0.7078\n"
          ],
          "name": "stdout"
        },
        {
          "output_type": "stream",
          "text": [
            "DEBUG:root:step 549000, train loss 0.8649783134460449, train accuracy 0.7578125, test accuracy 0.7011, best 0.7078\n",
            "DEBUG:root:step 550000, train loss 1.0381309986114502, train accuracy 0.734375, test accuracy 0.6865, best 0.7078\n",
            "DEBUG:root:step 551000, train loss 1.0716214179992676, train accuracy 0.6796875, test accuracy 0.6834, best 0.7078\n",
            "DEBUG:root:step 552000, train loss 1.0636783838272095, train accuracy 0.671875, test accuracy 0.7029, best 0.7078\n",
            "DEBUG:root:step 553000, train loss 1.2341722249984741, train accuracy 0.578125, test accuracy 0.6909, best 0.7078\n",
            "DEBUG:root:step 554000, train loss 0.9883908033370972, train accuracy 0.7265625, test accuracy 0.6951, best 0.7078\n",
            "DEBUG:root:step 555000, train loss 1.076766014099121, train accuracy 0.6796875, test accuracy 0.698, best 0.7078\n",
            "DEBUG:root:step 556000, train loss 0.9320825338363647, train accuracy 0.7421875, test accuracy 0.6876, best 0.7078\n",
            "DEBUG:root:step 557000, train loss 0.950584352016449, train accuracy 0.6875, test accuracy 0.6899, best 0.7078\n",
            "DEBUG:root:step 558000, train loss 0.9744763970375061, train accuracy 0.703125, test accuracy 0.6943, best 0.7078\n",
            "DEBUG:root:step 559000, train loss 1.0515141487121582, train accuracy 0.703125, test accuracy 0.6934, best 0.7078\n",
            "DEBUG:root:step 560000, train loss 1.0352973937988281, train accuracy 0.6640625, test accuracy 0.6985, best 0.7078\n",
            "DEBUG:root:step 561000, train loss 0.995976984500885, train accuracy 0.71875, test accuracy 0.6837, best 0.7078\n",
            "DEBUG:root:step 562000, train loss 0.8677786588668823, train accuracy 0.78125, test accuracy 0.6924, best 0.7078\n",
            "DEBUG:root:step 563000, train loss 1.1058415174484253, train accuracy 0.703125, test accuracy 0.6941, best 0.7078\n",
            "DEBUG:root:step 564000, train loss 0.9413617253303528, train accuracy 0.796875, test accuracy 0.6989, best 0.7078\n",
            "DEBUG:root:step 565000, train loss 1.1187951564788818, train accuracy 0.640625, test accuracy 0.6822, best 0.7078\n",
            "DEBUG:root:step 566000, train loss 0.9524242877960205, train accuracy 0.7109375, test accuracy 0.7034, best 0.7078\n",
            "DEBUG:root:step 567000, train loss 0.8968497514724731, train accuracy 0.7421875, test accuracy 0.6926, best 0.7078\n",
            "DEBUG:root:step 568000, train loss 1.151174783706665, train accuracy 0.65625, test accuracy 0.6944, best 0.7078\n",
            "DEBUG:root:step 569000, train loss 1.095237374305725, train accuracy 0.671875, test accuracy 0.6951, best 0.7078\n",
            "DEBUG:root:step 570000, train loss 1.0391457080841064, train accuracy 0.6484375, test accuracy 0.6979, best 0.7078\n",
            "DEBUG:root:step 571000, train loss 0.9961357116699219, train accuracy 0.71875, test accuracy 0.7017, best 0.7078\n",
            "DEBUG:root:step 572000, train loss 0.947517454624176, train accuracy 0.6953125, test accuracy 0.6923, best 0.7078\n",
            "DEBUG:root:step 573000, train loss 1.1427452564239502, train accuracy 0.6640625, test accuracy 0.6919, best 0.7078\n",
            "DEBUG:root:step 574000, train loss 1.0464155673980713, train accuracy 0.7265625, test accuracy 0.6841, best 0.7078\n",
            "DEBUG:root:step 575000, train loss 1.0309216976165771, train accuracy 0.703125, test accuracy 0.6958, best 0.7078\n",
            "DEBUG:root:step 576000, train loss 1.2547049522399902, train accuracy 0.6875, test accuracy 0.6826, best 0.7078\n",
            "DEBUG:root:step 577000, train loss 0.977222204208374, train accuracy 0.7265625, test accuracy 0.6858, best 0.7078\n",
            "DEBUG:root:step 578000, train loss 1.0178072452545166, train accuracy 0.6796875, test accuracy 0.6836, best 0.7078\n",
            "DEBUG:root:step 579000, train loss 1.1107022762298584, train accuracy 0.609375, test accuracy 0.7003, best 0.7078\n",
            "DEBUG:root:step 580000, train loss 0.9977724552154541, train accuracy 0.7265625, test accuracy 0.6816, best 0.7078\n",
            "DEBUG:root:step 581000, train loss 0.9409387111663818, train accuracy 0.7109375, test accuracy 0.6832, best 0.7078\n",
            "DEBUG:root:step 582000, train loss 0.9638462066650391, train accuracy 0.7265625, test accuracy 0.6958, best 0.7078\n",
            "DEBUG:root:step 583000, train loss 1.0425242185592651, train accuracy 0.6640625, test accuracy 0.6986, best 0.7078\n",
            "DEBUG:root:step 584000, train loss 1.04140305519104, train accuracy 0.6796875, test accuracy 0.6935, best 0.7078\n",
            "DEBUG:root:step 585000, train loss 0.8397886753082275, train accuracy 0.7578125, test accuracy 0.6939, best 0.7078\n",
            "DEBUG:root:step 586000, train loss 1.020684838294983, train accuracy 0.6640625, test accuracy 0.6839, best 0.7078\n",
            "DEBUG:root:step 587000, train loss 1.021720290184021, train accuracy 0.703125, test accuracy 0.6872, best 0.7078\n",
            "DEBUG:root:step 588000, train loss 1.0569864511489868, train accuracy 0.6953125, test accuracy 0.702, best 0.7078\n",
            "DEBUG:root:step 589000, train loss 1.0264041423797607, train accuracy 0.703125, test accuracy 0.6864, best 0.7078\n"
          ],
          "name": "stdout"
        },
        {
          "output_type": "stream",
          "text": [
            "DEBUG:root:step 590000, train loss 1.0024648904800415, train accuracy 0.7265625, test accuracy 0.6901, best 0.7078\n",
            "DEBUG:root:step 591000, train loss 0.9648454189300537, train accuracy 0.6953125, test accuracy 0.6928, best 0.7078\n",
            "DEBUG:root:step 592000, train loss 0.955089271068573, train accuracy 0.703125, test accuracy 0.6865, best 0.7078\n",
            "DEBUG:root:step 593000, train loss 0.9954100847244263, train accuracy 0.7265625, test accuracy 0.687, best 0.7078\n",
            "DEBUG:root:step 594000, train loss 0.8450294733047485, train accuracy 0.7421875, test accuracy 0.6945, best 0.7078\n",
            "DEBUG:root:step 595000, train loss 0.9546096324920654, train accuracy 0.734375, test accuracy 0.682, best 0.7078\n",
            "DEBUG:root:step 596000, train loss 1.1067345142364502, train accuracy 0.6796875, test accuracy 0.6934, best 0.7078\n",
            "DEBUG:root:step 597000, train loss 1.0895529985427856, train accuracy 0.71875, test accuracy 0.677, best 0.7078\n",
            "DEBUG:root:step 598000, train loss 0.902711033821106, train accuracy 0.734375, test accuracy 0.7048, best 0.7078\n",
            "DEBUG:root:step 599000, train loss 1.1011781692504883, train accuracy 0.6171875, test accuracy 0.6857, best 0.7078\n",
            "DEBUG:root:step 600000, train loss 0.9185081720352173, train accuracy 0.7109375, test accuracy 0.6991, best 0.7078\n",
            "DEBUG:root:step 601000, train loss 0.9267363548278809, train accuracy 0.6640625, test accuracy 0.6943, best 0.7078\n",
            "DEBUG:root:step 602000, train loss 1.1321583986282349, train accuracy 0.671875, test accuracy 0.6883, best 0.7078\n",
            "DEBUG:root:step 603000, train loss 1.2399805784225464, train accuracy 0.65625, test accuracy 0.6976, best 0.7078\n",
            "DEBUG:root:step 604000, train loss 1.0915414094924927, train accuracy 0.703125, test accuracy 0.6862, best 0.7078\n",
            "DEBUG:root:step 605000, train loss 1.2283507585525513, train accuracy 0.6875, test accuracy 0.7052, best 0.7078\n",
            "DEBUG:root:step 606000, train loss 1.046933650970459, train accuracy 0.671875, test accuracy 0.6936, best 0.7078\n",
            "DEBUG:root:step 607000, train loss 0.9782909154891968, train accuracy 0.6640625, test accuracy 0.6954, best 0.7078\n",
            "DEBUG:root:step 608000, train loss 1.0180522203445435, train accuracy 0.7109375, test accuracy 0.6819, best 0.7078\n",
            "DEBUG:root:step 609000, train loss 0.8962374329566956, train accuracy 0.7578125, test accuracy 0.6865, best 0.7078\n",
            "DEBUG:root:step 610000, train loss 1.0106251239776611, train accuracy 0.6953125, test accuracy 0.6899, best 0.7078\n",
            "DEBUG:root:step 611000, train loss 1.0213308334350586, train accuracy 0.7109375, test accuracy 0.6931, best 0.7078\n",
            "DEBUG:root:step 612000, train loss 1.1465061902999878, train accuracy 0.6484375, test accuracy 0.6945, best 0.7078\n",
            "DEBUG:root:step 613000, train loss 1.0302209854125977, train accuracy 0.7109375, test accuracy 0.695, best 0.7078\n",
            "DEBUG:root:step 614000, train loss 1.0360562801361084, train accuracy 0.7109375, test accuracy 0.6967, best 0.7078\n",
            "DEBUG:root:step 615000, train loss 1.0803508758544922, train accuracy 0.7109375, test accuracy 0.6985, best 0.7078\n",
            "DEBUG:root:step 616000, train loss 1.079996943473816, train accuracy 0.671875, test accuracy 0.6882, best 0.7078\n",
            "DEBUG:root:step 617000, train loss 1.2226324081420898, train accuracy 0.59375, test accuracy 0.6862, best 0.7078\n",
            "DEBUG:root:step 618000, train loss 1.2151412963867188, train accuracy 0.6328125, test accuracy 0.6949, best 0.7078\n",
            "DEBUG:root:step 619000, train loss 1.1275978088378906, train accuracy 0.6640625, test accuracy 0.6938, best 0.7078\n",
            "DEBUG:root:step 620000, train loss 1.1466466188430786, train accuracy 0.671875, test accuracy 0.6958, best 0.7078\n",
            "DEBUG:root:step 621000, train loss 1.1811798810958862, train accuracy 0.6328125, test accuracy 0.6986, best 0.7078\n",
            "DEBUG:root:step 622000, train loss 1.039293646812439, train accuracy 0.65625, test accuracy 0.6878, best 0.7078\n",
            "DEBUG:root:step 623000, train loss 0.8997676968574524, train accuracy 0.7734375, test accuracy 0.6951, best 0.7078\n",
            "DEBUG:root:step 624000, train loss 1.153593897819519, train accuracy 0.671875, test accuracy 0.6921, best 0.7078\n",
            "DEBUG:root:step 625000, train loss 0.9869970083236694, train accuracy 0.6640625, test accuracy 0.6919, best 0.7078\n",
            "DEBUG:root:step 626000, train loss 1.0083762407302856, train accuracy 0.6875, test accuracy 0.6894, best 0.7078\n",
            "DEBUG:root:step 627000, train loss 1.0215338468551636, train accuracy 0.7265625, test accuracy 0.6853, best 0.7078\n",
            "DEBUG:root:step 628000, train loss 1.0936442613601685, train accuracy 0.6796875, test accuracy 0.6876, best 0.7078\n",
            "DEBUG:root:step 629000, train loss 0.9414633512496948, train accuracy 0.7421875, test accuracy 0.6963, best 0.7078\n",
            "DEBUG:root:step 630000, train loss 1.0722004175186157, train accuracy 0.6796875, test accuracy 0.6818, best 0.7078\n"
          ],
          "name": "stdout"
        },
        {
          "output_type": "stream",
          "text": [
            "DEBUG:root:step 631000, train loss 1.1046664714813232, train accuracy 0.65625, test accuracy 0.676, best 0.7078\n",
            "DEBUG:root:step 632000, train loss 1.086820125579834, train accuracy 0.7109375, test accuracy 0.6891, best 0.7078\n",
            "DEBUG:root:step 633000, train loss 1.024420142173767, train accuracy 0.6796875, test accuracy 0.6908, best 0.7078\n",
            "DEBUG:root:step 634000, train loss 0.8503624200820923, train accuracy 0.7421875, test accuracy 0.6949, best 0.7078\n",
            "DEBUG:root:step 635000, train loss 0.9292227029800415, train accuracy 0.75, test accuracy 0.6955, best 0.7078\n",
            "DEBUG:root:step 636000, train loss 1.11931574344635, train accuracy 0.65625, test accuracy 0.6937, best 0.7078\n",
            "DEBUG:root:step 637000, train loss 0.9649769067764282, train accuracy 0.7421875, test accuracy 0.6993, best 0.7078\n",
            "DEBUG:root:step 638000, train loss 1.1036711931228638, train accuracy 0.6484375, test accuracy 0.687, best 0.7078\n",
            "DEBUG:root:step 639000, train loss 1.1094187498092651, train accuracy 0.6640625, test accuracy 0.6914, best 0.7078\n",
            "DEBUG:root:step 640000, train loss 1.116368293762207, train accuracy 0.6640625, test accuracy 0.6878, best 0.7078\n",
            "DEBUG:root:step 641000, train loss 1.1070826053619385, train accuracy 0.7109375, test accuracy 0.6974, best 0.7078\n",
            "DEBUG:root:step 642000, train loss 1.029051661491394, train accuracy 0.71875, test accuracy 0.6811, best 0.7078\n",
            "DEBUG:root:step 643000, train loss 1.1827512979507446, train accuracy 0.71875, test accuracy 0.6865, best 0.7078\n",
            "DEBUG:root:step 644000, train loss 0.9515299797058105, train accuracy 0.6953125, test accuracy 0.692, best 0.7078\n",
            "DEBUG:root:step 645000, train loss 1.1737602949142456, train accuracy 0.6640625, test accuracy 0.695, best 0.7078\n",
            "DEBUG:root:step 646000, train loss 0.8483781814575195, train accuracy 0.765625, test accuracy 0.6961, best 0.7078\n",
            "DEBUG:root:step 647000, train loss 0.9357342720031738, train accuracy 0.7109375, test accuracy 0.6964, best 0.7078\n",
            "DEBUG:root:step 648000, train loss 0.9813722372055054, train accuracy 0.75, test accuracy 0.678, best 0.7078\n",
            "DEBUG:root:step 649000, train loss 0.9962882995605469, train accuracy 0.6953125, test accuracy 0.6756, best 0.7078\n",
            "DEBUG:root:step 650000, train loss 0.9035303592681885, train accuracy 0.734375, test accuracy 0.7031, best 0.7078\n",
            "DEBUG:root:step 651000, train loss 1.0952036380767822, train accuracy 0.6640625, test accuracy 0.6838, best 0.7078\n",
            "DEBUG:root:step 652000, train loss 0.9362465143203735, train accuracy 0.7578125, test accuracy 0.6908, best 0.7078\n",
            "DEBUG:root:step 653000, train loss 0.8032349348068237, train accuracy 0.75, test accuracy 0.6941, best 0.7078\n",
            "DEBUG:root:step 654000, train loss 1.0516153573989868, train accuracy 0.6640625, test accuracy 0.6963, best 0.7078\n",
            "DEBUG:root:step 655000, train loss 1.2460649013519287, train accuracy 0.640625, test accuracy 0.6952, best 0.7078\n",
            "DEBUG:root:step 656000, train loss 1.0186344385147095, train accuracy 0.703125, test accuracy 0.6992, best 0.7078\n",
            "DEBUG:root:step 657000, train loss 0.898773729801178, train accuracy 0.7734375, test accuracy 0.6877, best 0.7078\n",
            "DEBUG:root:step 658000, train loss 1.080055594444275, train accuracy 0.703125, test accuracy 0.6871, best 0.7078\n",
            "DEBUG:root:step 659000, train loss 0.880072832107544, train accuracy 0.7265625, test accuracy 0.7005, best 0.7078\n",
            "DEBUG:root:step 660000, train loss 1.0789060592651367, train accuracy 0.671875, test accuracy 0.6895, best 0.7078\n",
            "DEBUG:root:step 661000, train loss 1.2758429050445557, train accuracy 0.5625, test accuracy 0.6798, best 0.7078\n",
            "DEBUG:root:step 662000, train loss 0.8940445780754089, train accuracy 0.7265625, test accuracy 0.692, best 0.7078\n",
            "DEBUG:root:step 663000, train loss 0.9908033013343811, train accuracy 0.6796875, test accuracy 0.6951, best 0.7078\n",
            "DEBUG:root:step 664000, train loss 0.9994562864303589, train accuracy 0.6875, test accuracy 0.693, best 0.7078\n",
            "DEBUG:root:step 665000, train loss 0.8839846849441528, train accuracy 0.7578125, test accuracy 0.6973, best 0.7078\n",
            "DEBUG:root:step 666000, train loss 1.031113862991333, train accuracy 0.7109375, test accuracy 0.6907, best 0.7078\n",
            "DEBUG:root:step 667000, train loss 0.9541265964508057, train accuracy 0.703125, test accuracy 0.6862, best 0.7078\n",
            "DEBUG:root:step 668000, train loss 1.1007943153381348, train accuracy 0.6875, test accuracy 0.6967, best 0.7078\n",
            "DEBUG:root:step 669000, train loss 1.0823155641555786, train accuracy 0.65625, test accuracy 0.6811, best 0.7078\n",
            "DEBUG:root:step 670000, train loss 1.0355212688446045, train accuracy 0.703125, test accuracy 0.6875, best 0.7078\n",
            "DEBUG:root:step 671000, train loss 0.9676826000213623, train accuracy 0.6875, test accuracy 0.6838, best 0.7078\n"
          ],
          "name": "stdout"
        },
        {
          "output_type": "stream",
          "text": [
            "DEBUG:root:step 672000, train loss 0.9752823114395142, train accuracy 0.703125, test accuracy 0.7018, best 0.7078\n",
            "DEBUG:root:step 673000, train loss 1.0095854997634888, train accuracy 0.703125, test accuracy 0.6906, best 0.7078\n",
            "DEBUG:root:step 674000, train loss 1.1564815044403076, train accuracy 0.6796875, test accuracy 0.6855, best 0.7078\n",
            "DEBUG:root:step 675000, train loss 1.0064152479171753, train accuracy 0.7109375, test accuracy 0.688, best 0.7078\n",
            "DEBUG:root:step 676000, train loss 1.0510778427124023, train accuracy 0.703125, test accuracy 0.6786, best 0.7078\n",
            "DEBUG:root:step 677000, train loss 1.0102370977401733, train accuracy 0.6796875, test accuracy 0.6983, best 0.7078\n",
            "DEBUG:root:step 678000, train loss 1.0830179452896118, train accuracy 0.6875, test accuracy 0.6847, best 0.7078\n",
            "DEBUG:root:step 679000, train loss 0.8903553485870361, train accuracy 0.7578125, test accuracy 0.6962, best 0.7078\n",
            "DEBUG:root:step 680000, train loss 0.9591548442840576, train accuracy 0.71875, test accuracy 0.6866, best 0.7078\n",
            "DEBUG:root:step 681000, train loss 0.9748425483703613, train accuracy 0.703125, test accuracy 0.6899, best 0.7078\n",
            "DEBUG:root:step 682000, train loss 1.211983323097229, train accuracy 0.671875, test accuracy 0.6911, best 0.7078\n",
            "DEBUG:root:step 683000, train loss 0.9672031998634338, train accuracy 0.703125, test accuracy 0.695, best 0.7078\n",
            "DEBUG:root:step 684000, train loss 0.9145281314849854, train accuracy 0.71875, test accuracy 0.6895, best 0.7078\n",
            "DEBUG:root:step 685000, train loss 0.9310794472694397, train accuracy 0.703125, test accuracy 0.6948, best 0.7078\n",
            "DEBUG:root:step 686000, train loss 0.9762557744979858, train accuracy 0.6953125, test accuracy 0.6901, best 0.7078\n",
            "DEBUG:root:step 687000, train loss 1.0405755043029785, train accuracy 0.6484375, test accuracy 0.6984, best 0.7078\n",
            "DEBUG:root:step 688000, train loss 1.181209921836853, train accuracy 0.6484375, test accuracy 0.7002, best 0.7078\n",
            "DEBUG:root:step 689000, train loss 1.146019697189331, train accuracy 0.6640625, test accuracy 0.7014, best 0.7078\n",
            "DEBUG:root:step 690000, train loss 1.0349243879318237, train accuracy 0.6640625, test accuracy 0.702, best 0.7078\n",
            "DEBUG:root:step 691000, train loss 1.105046272277832, train accuracy 0.6640625, test accuracy 0.6873, best 0.7078\n",
            "DEBUG:root:step 692000, train loss 1.101335048675537, train accuracy 0.703125, test accuracy 0.6956, best 0.7078\n",
            "DEBUG:root:step 693000, train loss 1.0848957300186157, train accuracy 0.65625, test accuracy 0.6873, best 0.7078\n",
            "DEBUG:root:step 694000, train loss 1.0662016868591309, train accuracy 0.6875, test accuracy 0.6837, best 0.7078\n",
            "DEBUG:root:step 695000, train loss 0.9539499282836914, train accuracy 0.71875, test accuracy 0.6925, best 0.7078\n",
            "DEBUG:root:step 696000, train loss 1.0448251962661743, train accuracy 0.6328125, test accuracy 0.6941, best 0.7078\n",
            "DEBUG:root:step 697000, train loss 0.9869385361671448, train accuracy 0.734375, test accuracy 0.6983, best 0.7078\n",
            "DEBUG:root:step 698000, train loss 1.021522879600525, train accuracy 0.6328125, test accuracy 0.6978, best 0.7078\n",
            "DEBUG:root:step 699000, train loss 1.0758451223373413, train accuracy 0.6953125, test accuracy 0.6993, best 0.7078\n",
            "DEBUG:root:step 700000, train loss 0.9576801061630249, train accuracy 0.71875, test accuracy 0.686, best 0.7078\n",
            "DEBUG:root:step 701000, train loss 0.9949453473091125, train accuracy 0.6953125, test accuracy 0.6921, best 0.7078\n",
            "DEBUG:root:step 702000, train loss 1.1355055570602417, train accuracy 0.6171875, test accuracy 0.6905, best 0.7078\n",
            "DEBUG:root:step 703000, train loss 0.9246976375579834, train accuracy 0.7421875, test accuracy 0.6881, best 0.7078\n",
            "DEBUG:root:step 704000, train loss 1.025050401687622, train accuracy 0.6875, test accuracy 0.7046, best 0.7078\n",
            "DEBUG:root:step 705000, train loss 0.8993512392044067, train accuracy 0.75, test accuracy 0.6953, best 0.7078\n",
            "DEBUG:root:step 706000, train loss 0.8978143334388733, train accuracy 0.703125, test accuracy 0.6873, best 0.7078\n",
            "DEBUG:root:step 707000, train loss 0.9708467125892639, train accuracy 0.75, test accuracy 0.6809, best 0.7078\n",
            "DEBUG:root:step 708000, train loss 0.9306958317756653, train accuracy 0.6875, test accuracy 0.6988, best 0.7078\n",
            "DEBUG:root:step 709000, train loss 0.8884612321853638, train accuracy 0.765625, test accuracy 0.6819, best 0.7078\n",
            "DEBUG:root:step 710000, train loss 0.9688495397567749, train accuracy 0.6953125, test accuracy 0.6862, best 0.7078\n",
            "DEBUG:root:step 711000, train loss 1.0359203815460205, train accuracy 0.6796875, test accuracy 0.7018, best 0.7078\n",
            "DEBUG:root:step 712000, train loss 1.1457947492599487, train accuracy 0.6875, test accuracy 0.6992, best 0.7078\n"
          ],
          "name": "stdout"
        },
        {
          "output_type": "stream",
          "text": [
            "DEBUG:root:step 713000, train loss 1.0288314819335938, train accuracy 0.7421875, test accuracy 0.6928, best 0.7078\n",
            "DEBUG:root:step 714000, train loss 0.9889436960220337, train accuracy 0.765625, test accuracy 0.6914, best 0.7078\n",
            "DEBUG:root:step 715000, train loss 1.206018328666687, train accuracy 0.6484375, test accuracy 0.6916, best 0.7078\n",
            "DEBUG:root:step 716000, train loss 0.846828818321228, train accuracy 0.8046875, test accuracy 0.6912, best 0.7078\n",
            "DEBUG:root:step 717000, train loss 1.1241540908813477, train accuracy 0.6640625, test accuracy 0.6952, best 0.7078\n",
            "DEBUG:root:step 718000, train loss 0.9180358648300171, train accuracy 0.75, test accuracy 0.6978, best 0.7078\n",
            "DEBUG:root:step 719000, train loss 1.1147487163543701, train accuracy 0.6640625, test accuracy 0.6861, best 0.7078\n",
            "DEBUG:root:step 720000, train loss 0.9162423610687256, train accuracy 0.71875, test accuracy 0.6928, best 0.7078\n",
            "DEBUG:root:step 721000, train loss 0.9946178197860718, train accuracy 0.703125, test accuracy 0.6982, best 0.7078\n",
            "DEBUG:root:step 722000, train loss 0.9128514528274536, train accuracy 0.7421875, test accuracy 0.6897, best 0.7078\n",
            "DEBUG:root:step 723000, train loss 0.9448519945144653, train accuracy 0.7265625, test accuracy 0.6981, best 0.7078\n",
            "DEBUG:root:step 724000, train loss 1.029769778251648, train accuracy 0.7109375, test accuracy 0.692, best 0.7078\n",
            "DEBUG:root:step 725000, train loss 1.0391122102737427, train accuracy 0.6796875, test accuracy 0.6873, best 0.7078\n",
            "DEBUG:root:step 726000, train loss 1.0198185443878174, train accuracy 0.7265625, test accuracy 0.6966, best 0.7078\n",
            "DEBUG:root:step 727000, train loss 1.2189809083938599, train accuracy 0.6015625, test accuracy 0.6916, best 0.7078\n",
            "DEBUG:root:step 728000, train loss 1.0187188386917114, train accuracy 0.7109375, test accuracy 0.6939, best 0.7078\n",
            "DEBUG:root:step 729000, train loss 1.1209726333618164, train accuracy 0.671875, test accuracy 0.6967, best 0.7078\n",
            "DEBUG:root:step 730000, train loss 0.9841670989990234, train accuracy 0.7265625, test accuracy 0.6845, best 0.7078\n",
            "DEBUG:root:step 731000, train loss 1.0629304647445679, train accuracy 0.703125, test accuracy 0.6907, best 0.7078\n",
            "DEBUG:root:step 732000, train loss 0.9882352948188782, train accuracy 0.703125, test accuracy 0.6912, best 0.7078\n",
            "DEBUG:root:step 733000, train loss 1.1415634155273438, train accuracy 0.6484375, test accuracy 0.6993, best 0.7078\n",
            "DEBUG:root:step 734000, train loss 1.1288059949874878, train accuracy 0.6484375, test accuracy 0.6959, best 0.7078\n",
            "DEBUG:root:step 735000, train loss 1.0050029754638672, train accuracy 0.6796875, test accuracy 0.688, best 0.7078\n",
            "DEBUG:root:step 736000, train loss 0.9615622162818909, train accuracy 0.78125, test accuracy 0.6893, best 0.7078\n",
            "DEBUG:root:step 737000, train loss 1.0322906970977783, train accuracy 0.703125, test accuracy 0.6908, best 0.7078\n",
            "DEBUG:root:step 738000, train loss 0.9313027262687683, train accuracy 0.71875, test accuracy 0.688, best 0.7078\n",
            "DEBUG:root:step 739000, train loss 1.0856131315231323, train accuracy 0.6640625, test accuracy 0.6841, best 0.7078\n",
            "DEBUG:root:step 740000, train loss 1.0391722917556763, train accuracy 0.7109375, test accuracy 0.7032, best 0.7078\n",
            "DEBUG:root:step 741000, train loss 0.9746403694152832, train accuracy 0.7265625, test accuracy 0.6931, best 0.7078\n",
            "DEBUG:root:step 742000, train loss 1.041595697402954, train accuracy 0.65625, test accuracy 0.6869, best 0.7078\n",
            "DEBUG:root:step 743000, train loss 1.0884895324707031, train accuracy 0.6796875, test accuracy 0.6937, best 0.7078\n",
            "DEBUG:root:step 744000, train loss 1.193915843963623, train accuracy 0.640625, test accuracy 0.6917, best 0.7078\n",
            "DEBUG:root:step 745000, train loss 1.2156485319137573, train accuracy 0.6484375, test accuracy 0.6824, best 0.7078\n",
            "DEBUG:root:step 746000, train loss 0.9738062024116516, train accuracy 0.7265625, test accuracy 0.6936, best 0.7078\n",
            "DEBUG:root:step 747000, train loss 0.9884477853775024, train accuracy 0.6796875, test accuracy 0.692, best 0.7078\n",
            "DEBUG:root:step 748000, train loss 0.8828907608985901, train accuracy 0.796875, test accuracy 0.6894, best 0.7078\n",
            "DEBUG:root:step 749000, train loss 0.9853926301002502, train accuracy 0.7578125, test accuracy 0.7022, best 0.7078\n",
            "DEBUG:root:step 750000, train loss 1.1240878105163574, train accuracy 0.640625, test accuracy 0.7025, best 0.7078\n",
            "DEBUG:root:step 751000, train loss 0.9469671249389648, train accuracy 0.734375, test accuracy 0.6993, best 0.7078\n",
            "DEBUG:root:step 752000, train loss 0.8835855722427368, train accuracy 0.7265625, test accuracy 0.6929, best 0.7078\n",
            "DEBUG:root:step 753000, train loss 1.087979793548584, train accuracy 0.6640625, test accuracy 0.6961, best 0.7078\n"
          ],
          "name": "stdout"
        },
        {
          "output_type": "stream",
          "text": [
            "DEBUG:root:step 754000, train loss 1.0432687997817993, train accuracy 0.640625, test accuracy 0.6938, best 0.7078\n",
            "DEBUG:root:step 755000, train loss 1.1296961307525635, train accuracy 0.6796875, test accuracy 0.6913, best 0.7078\n",
            "DEBUG:root:step 756000, train loss 0.9564783573150635, train accuracy 0.75, test accuracy 0.6761, best 0.7078\n",
            "DEBUG:root:step 757000, train loss 0.9804297685623169, train accuracy 0.6875, test accuracy 0.6781, best 0.7078\n",
            "DEBUG:root:step 758000, train loss 0.8575682044029236, train accuracy 0.796875, test accuracy 0.7024, best 0.7078\n",
            "DEBUG:root:step 759000, train loss 0.9773054122924805, train accuracy 0.7265625, test accuracy 0.6895, best 0.7078\n",
            "DEBUG:root:step 760000, train loss 1.1162444353103638, train accuracy 0.6484375, test accuracy 0.6847, best 0.7078\n",
            "DEBUG:root:step 761000, train loss 1.0438827276229858, train accuracy 0.6796875, test accuracy 0.6916, best 0.7078\n",
            "DEBUG:root:step 762000, train loss 1.048031210899353, train accuracy 0.65625, test accuracy 0.6766, best 0.7078\n",
            "DEBUG:root:step 763000, train loss 1.2452294826507568, train accuracy 0.6171875, test accuracy 0.6889, best 0.7078\n",
            "DEBUG:root:step 764000, train loss 0.9225801229476929, train accuracy 0.6953125, test accuracy 0.6926, best 0.7078\n",
            "DEBUG:root:step 765000, train loss 0.9316747188568115, train accuracy 0.734375, test accuracy 0.6908, best 0.7078\n",
            "DEBUG:root:step 766000, train loss 1.0387024879455566, train accuracy 0.703125, test accuracy 0.6888, best 0.7078\n",
            "DEBUG:root:step 767000, train loss 1.1738898754119873, train accuracy 0.6875, test accuracy 0.6978, best 0.7078\n",
            "DEBUG:root:step 768000, train loss 1.0061626434326172, train accuracy 0.71875, test accuracy 0.6904, best 0.7078\n",
            "DEBUG:root:step 769000, train loss 1.146615982055664, train accuracy 0.65625, test accuracy 0.6914, best 0.7078\n",
            "DEBUG:root:step 770000, train loss 1.0129188299179077, train accuracy 0.7265625, test accuracy 0.6919, best 0.7078\n",
            "DEBUG:root:step 771000, train loss 1.0378539562225342, train accuracy 0.7109375, test accuracy 0.684, best 0.7078\n",
            "DEBUG:root:step 772000, train loss 1.0582994222640991, train accuracy 0.71875, test accuracy 0.6955, best 0.7078\n",
            "DEBUG:root:step 773000, train loss 1.14527428150177, train accuracy 0.640625, test accuracy 0.6869, best 0.7078\n",
            "DEBUG:root:step 774000, train loss 1.117961049079895, train accuracy 0.640625, test accuracy 0.6837, best 0.7078\n",
            "DEBUG:root:step 775000, train loss 0.9415358901023865, train accuracy 0.7265625, test accuracy 0.6956, best 0.7078\n",
            "DEBUG:root:step 776000, train loss 1.1211813688278198, train accuracy 0.6640625, test accuracy 0.6975, best 0.7078\n",
            "DEBUG:root:step 777000, train loss 0.9053050875663757, train accuracy 0.78125, test accuracy 0.6861, best 0.7078\n",
            "DEBUG:root:step 778000, train loss 1.0766109228134155, train accuracy 0.703125, test accuracy 0.6969, best 0.7078\n",
            "DEBUG:root:step 779000, train loss 1.0237634181976318, train accuracy 0.6796875, test accuracy 0.6957, best 0.7078\n",
            "DEBUG:root:step 780000, train loss 0.944088876247406, train accuracy 0.7578125, test accuracy 0.6957, best 0.7078\n",
            "DEBUG:root:step 781000, train loss 1.0432353019714355, train accuracy 0.6796875, test accuracy 0.6996, best 0.7078\n",
            "DEBUG:root:step 782000, train loss 0.9654422402381897, train accuracy 0.7578125, test accuracy 0.6851, best 0.7078\n",
            "DEBUG:root:step 783000, train loss 0.9427859783172607, train accuracy 0.734375, test accuracy 0.6841, best 0.7078\n",
            "DEBUG:root:step 784000, train loss 1.1249057054519653, train accuracy 0.6875, test accuracy 0.6749, best 0.7078\n",
            "DEBUG:root:step 785000, train loss 1.0990878343582153, train accuracy 0.7265625, test accuracy 0.6918, best 0.7078\n",
            "DEBUG:root:step 786000, train loss 1.0819272994995117, train accuracy 0.671875, test accuracy 0.6858, best 0.7078\n",
            "DEBUG:root:step 787000, train loss 1.009389877319336, train accuracy 0.6796875, test accuracy 0.6785, best 0.7078\n",
            "DEBUG:root:step 788000, train loss 0.9796871542930603, train accuracy 0.734375, test accuracy 0.6861, best 0.7078\n",
            "DEBUG:root:step 789000, train loss 1.0505356788635254, train accuracy 0.6796875, test accuracy 0.6849, best 0.7078\n",
            "DEBUG:root:step 790000, train loss 1.0454645156860352, train accuracy 0.75, test accuracy 0.7055, best 0.7078\n",
            "DEBUG:root:step 791000, train loss 1.0293383598327637, train accuracy 0.6640625, test accuracy 0.681, best 0.7078\n",
            "DEBUG:root:step 792000, train loss 0.9577013254165649, train accuracy 0.699999988079071, test accuracy 0.6804, best 0.7078\n",
            "DEBUG:root:step 793000, train loss 1.1459929943084717, train accuracy 0.65625, test accuracy 0.6918, best 0.7078\n",
            "DEBUG:root:step 794000, train loss 1.0960214138031006, train accuracy 0.6796875, test accuracy 0.6961, best 0.7078\n"
          ],
          "name": "stdout"
        },
        {
          "output_type": "stream",
          "text": [
            "DEBUG:root:step 795000, train loss 1.2535805702209473, train accuracy 0.6015625, test accuracy 0.6847, best 0.7078\n",
            "DEBUG:root:step 796000, train loss 1.0883454084396362, train accuracy 0.65625, test accuracy 0.6985, best 0.7078\n",
            "DEBUG:root:step 797000, train loss 1.1373531818389893, train accuracy 0.6171875, test accuracy 0.6909, best 0.7078\n",
            "DEBUG:root:step 798000, train loss 0.9349600672721863, train accuracy 0.7265625, test accuracy 0.6914, best 0.7078\n",
            "DEBUG:root:step 799000, train loss 1.1445468664169312, train accuracy 0.65625, test accuracy 0.6956, best 0.7078\n",
            "DEBUG:root:step 800000, train loss 1.0583724975585938, train accuracy 0.6796875, test accuracy 0.6978, best 0.7078\n",
            "DEBUG:root:step 801000, train loss 1.0540797710418701, train accuracy 0.6875, test accuracy 0.6898, best 0.7078\n",
            "DEBUG:root:step 802000, train loss 1.1468607187271118, train accuracy 0.703125, test accuracy 0.6969, best 0.7078\n",
            "DEBUG:root:step 803000, train loss 1.032294750213623, train accuracy 0.640625, test accuracy 0.6919, best 0.7078\n",
            "DEBUG:root:step 804000, train loss 0.996001124382019, train accuracy 0.6875, test accuracy 0.6837, best 0.7078\n",
            "DEBUG:root:step 805000, train loss 0.9584160447120667, train accuracy 0.7265625, test accuracy 0.6832, best 0.7078\n",
            "DEBUG:root:step 806000, train loss 1.0819659233093262, train accuracy 0.703125, test accuracy 0.6885, best 0.7078\n",
            "DEBUG:root:step 807000, train loss 0.9196414947509766, train accuracy 0.7578125, test accuracy 0.7013, best 0.7078\n",
            "DEBUG:root:step 808000, train loss 0.9414668083190918, train accuracy 0.765625, test accuracy 0.6895, best 0.7078\n",
            "DEBUG:root:step 809000, train loss 0.9752804636955261, train accuracy 0.734375, test accuracy 0.6804, best 0.7078\n",
            "DEBUG:root:step 810000, train loss 0.9388347864151001, train accuracy 0.765625, test accuracy 0.7014, best 0.7078\n",
            "DEBUG:root:step 811000, train loss 1.0296940803527832, train accuracy 0.7421875, test accuracy 0.7008, best 0.7078\n",
            "DEBUG:root:step 812000, train loss 0.8785854578018188, train accuracy 0.75, test accuracy 0.6966, best 0.7078\n",
            "DEBUG:root:step 813000, train loss 1.0238903760910034, train accuracy 0.7421875, test accuracy 0.6863, best 0.7078\n",
            "DEBUG:root:step 814000, train loss 1.0853368043899536, train accuracy 0.6796875, test accuracy 0.6842, best 0.7078\n",
            "DEBUG:root:step 815000, train loss 0.8998249173164368, train accuracy 0.6953125, test accuracy 0.702, best 0.7078\n",
            "DEBUG:root:step 816000, train loss 1.0780816078186035, train accuracy 0.703125, test accuracy 0.6893, best 0.7078\n",
            "DEBUG:root:step 817000, train loss 0.8774895071983337, train accuracy 0.734375, test accuracy 0.6938, best 0.7078\n",
            "DEBUG:root:step 818000, train loss 1.042993187904358, train accuracy 0.6640625, test accuracy 0.6807, best 0.7078\n",
            "DEBUG:root:step 819000, train loss 0.8211712837219238, train accuracy 0.7734375, test accuracy 0.6841, best 0.7078\n",
            "DEBUG:root:step 820000, train loss 0.9772584438323975, train accuracy 0.734375, test accuracy 0.6856, best 0.7078\n",
            "DEBUG:root:step 821000, train loss 0.8763623833656311, train accuracy 0.765625, test accuracy 0.6923, best 0.7078\n",
            "DEBUG:root:step 822000, train loss 0.9714284539222717, train accuracy 0.6953125, test accuracy 0.6791, best 0.7078\n",
            "DEBUG:root:step 823000, train loss 1.1008559465408325, train accuracy 0.6015625, test accuracy 0.6706, best 0.7078\n",
            "DEBUG:root:step 824000, train loss 1.0014158487319946, train accuracy 0.6953125, test accuracy 0.6995, best 0.7078\n",
            "DEBUG:root:step 825000, train loss 1.039966106414795, train accuracy 0.6640625, test accuracy 0.6922, best 0.7078\n",
            "DEBUG:root:step 826000, train loss 1.1929982900619507, train accuracy 0.6484375, test accuracy 0.6891, best 0.7078\n",
            "DEBUG:root:step 827000, train loss 1.1417633295059204, train accuracy 0.6328125, test accuracy 0.6846, best 0.7078\n",
            "DEBUG:root:step 828000, train loss 1.0345547199249268, train accuracy 0.703125, test accuracy 0.697, best 0.7078\n",
            "DEBUG:root:step 829000, train loss 1.031294822692871, train accuracy 0.6796875, test accuracy 0.6966, best 0.7078\n",
            "DEBUG:root:step 830000, train loss 0.994225263595581, train accuracy 0.7109375, test accuracy 0.6923, best 0.7078\n",
            "DEBUG:root:step 831000, train loss 1.0187467336654663, train accuracy 0.703125, test accuracy 0.688, best 0.7078\n",
            "DEBUG:root:step 832000, train loss 1.1625510454177856, train accuracy 0.6640625, test accuracy 0.6816, best 0.7078\n",
            "DEBUG:root:step 833000, train loss 1.1680307388305664, train accuracy 0.6484375, test accuracy 0.6858, best 0.7078\n",
            "DEBUG:root:step 834000, train loss 0.9298325181007385, train accuracy 0.7265625, test accuracy 0.6949, best 0.7078\n",
            "DEBUG:root:step 835000, train loss 0.9692475199699402, train accuracy 0.7265625, test accuracy 0.6891, best 0.7078\n"
          ],
          "name": "stdout"
        },
        {
          "output_type": "stream",
          "text": [
            "DEBUG:root:step 836000, train loss 1.0215284824371338, train accuracy 0.703125, test accuracy 0.6876, best 0.7078\n",
            "DEBUG:root:step 837000, train loss 0.8613365292549133, train accuracy 0.734375, test accuracy 0.6963, best 0.7078\n",
            "DEBUG:root:step 838000, train loss 0.9022016525268555, train accuracy 0.7421875, test accuracy 0.6961, best 0.7078\n",
            "DEBUG:root:step 839000, train loss 1.2016277313232422, train accuracy 0.671875, test accuracy 0.695, best 0.7078\n",
            "DEBUG:root:step 840000, train loss 1.1565558910369873, train accuracy 0.6328125, test accuracy 0.6912, best 0.7078\n",
            "DEBUG:root:step 841000, train loss 1.040372610092163, train accuracy 0.7109375, test accuracy 0.701, best 0.7078\n",
            "DEBUG:root:step 842000, train loss 1.134749174118042, train accuracy 0.6484375, test accuracy 0.7031, best 0.7078\n",
            "DEBUG:root:step 843000, train loss 1.0892460346221924, train accuracy 0.671875, test accuracy 0.6886, best 0.7078\n",
            "DEBUG:root:step 844000, train loss 1.0439748764038086, train accuracy 0.71875, test accuracy 0.6957, best 0.7078\n",
            "DEBUG:root:step 845000, train loss 1.051316499710083, train accuracy 0.6484375, test accuracy 0.692, best 0.7078\n",
            "DEBUG:root:step 846000, train loss 1.0581715106964111, train accuracy 0.7109375, test accuracy 0.6918, best 0.7078\n"
          ],
          "name": "stdout"
        }
      ]
    },
    {
      "metadata": {
        "id": "BOJqPFU5t8cI",
        "colab_type": "text"
      },
      "cell_type": "markdown",
      "source": [
        "### Save summary to google cloud storage"
      ]
    },
    {
      "metadata": {
        "id": "wqUohlF9oilB",
        "colab_type": "code",
        "colab": {
          "base_uri": "https://localhost:8080/",
          "height": 34
        },
        "outputId": "996e8d93-6736-47c6-9b80-63cc5df1a1bf"
      },
      "cell_type": "code",
      "source": [
        "!ls /tmp/cifar10_summary\n"
      ],
      "execution_count": 1,
      "outputs": [
        {
          "output_type": "stream",
          "text": [
            "ls: cannot access '/tmp/cifar10_summary': No such file or directory\r\n"
          ],
          "name": "stdout"
        }
      ]
    },
    {
      "metadata": {
        "id": "773WzzT2pAC7",
        "colab_type": "code",
        "colab": {
          "base_uri": "https://localhost:8080/",
          "height": 68
        },
        "outputId": "d5c804da-ac20-45fb-fb9a-749d199e5432"
      },
      "cell_type": "code",
      "source": [
        "!gsutil cp /tmp/cifar10_summary/events.out.tfevents.1524465519.e5763ba2f3a8 gs://ai-model-test-ml/events.out.tfevents.191000-391000"
      ],
      "execution_count": 35,
      "outputs": [
        {
          "output_type": "stream",
          "text": [
            "Copying file:///tmp/cifar10_summary/events.out.tfevents.1524465519.e5763ba2f3a8 [Content-Type=application/octet-stream]...\n",
            "-\n",
            "Operation completed over 1 objects/18.4 MiB.                                     \n"
          ],
          "name": "stdout"
        }
      ]
    },
    {
      "metadata": {
        "id": "5-rhmJ5OdfvA",
        "colab_type": "text"
      },
      "cell_type": "markdown",
      "source": [
        "### Run TensorBoard"
      ]
    },
    {
      "metadata": {
        "id": "4AK_Hv8F4Kll",
        "colab_type": "code",
        "colab": {}
      },
      "cell_type": "code",
      "source": [
        "import nerdcolab.tboard"
      ],
      "execution_count": 0,
      "outputs": []
    },
    {
      "metadata": {
        "id": "emxWsu5uuPQ3",
        "colab_type": "code",
        "colab": {
          "base_uri": "https://localhost:8080/",
          "height": 119
        },
        "outputId": "1c95bbda-6b68-4dd2-e560-d6a5c749b099"
      },
      "cell_type": "code",
      "source": [
        "train_path = '/tmp/cifar10_summary'\n",
        "train_log_path = os.path.join(train_path, 'log')\n",
        "nerdcolab.tboard.launch_tensorboard(bin_dir=train_path, log_dir=train_path)"
      ],
      "execution_count": 139,
      "outputs": [
        {
          "output_type": "stream",
          "text": [
            "calling wget https://bin.equinox.io/c/4VmDzA7iaHb/ngrok-stable-linux-amd64.zip ...\n",
            "calling unzip ngrok-stable-linux-amd64.zip ...\n",
            "ngrok installed. path=/tmp/cifar10_summary/ngrok\n",
            "status: tensorboard=False, ngrok=False\n",
            "tensorboard url= http://07325440.ngrok.io\n"
          ],
          "name": "stdout"
        },
        {
          "output_type": "execute_result",
          "data": {
            "text/plain": [
              "'http://07325440.ngrok.io'"
            ]
          },
          "metadata": {
            "tags": []
          },
          "execution_count": 139
        }
      ]
    },
    {
      "metadata": {
        "id": "G-343djpt3Vl",
        "colab_type": "text"
      },
      "cell_type": "markdown",
      "source": [
        "\n",
        "\n",
        "---\n",
        "\n",
        "# Unused *code*\n",
        "\n",
        "---\n",
        "\n"
      ]
    },
    {
      "metadata": {
        "id": "G166myZapZna",
        "colab_type": "code",
        "colab": {
          "base_uri": "https://localhost:8080/",
          "height": 34
        },
        "outputId": "c1ffdb4e-7662-4240-f9cf-c5ae5856a614"
      },
      "cell_type": "code",
      "source": [
        "import re\n",
        "import tensorflow as tf\n",
        "train_dir = '/tmp/cifar10_train/'\n",
        "checkpoint = tf.train.latest_checkpoint(os.path.dirname(train_dir))\n",
        "checkpoint_pattern = os.path.basename(checkpoint)\n",
        "\n",
        "files = [os.path.join(train_dir, f) for f in os.listdir(train_dir) if os.path.isfile(os.path.join(train_dir, f)) and f.startswith(os.path.basename(checkpoint))]\n",
        "print(files)\n",
        "\n",
        "result = os.system(\"tar -czvf {} {}\".format('test123.tar.gz', \" \".join(files)))"
      ],
      "execution_count": 60,
      "outputs": [
        {
          "output_type": "stream",
          "text": [
            "['/tmp/cifar10_train/model-2.meta', '/tmp/cifar10_train/model-2.index', '/tmp/cifar10_train/model-2.data-00000-of-00001']\n"
          ],
          "name": "stdout"
        }
      ]
    },
    {
      "metadata": {
        "id": "TEnE4ROzKJjT",
        "colab_type": "code",
        "colab": {
          "base_uri": "https://localhost:8080/",
          "height": 34
        },
        "outputId": "a78dfe54-d8d6-443e-aa3c-cbcb514590f0"
      },
      "cell_type": "code",
      "source": [
        "import tensorflow as tf\n",
        "print(tf.__version__)"
      ],
      "execution_count": 88,
      "outputs": [
        {
          "output_type": "stream",
          "text": [
            "1.7.0\n"
          ],
          "name": "stdout"
        }
      ]
    },
    {
      "metadata": {
        "id": "QqHDko91Cj5I",
        "colab_type": "code",
        "colab": {}
      },
      "cell_type": "code",
      "source": [
        "train_path = '/tmp/cifar10_summary'\n",
        "os.chdir(train_path)\n",
        "LOG_DIR = train_path\n",
        "get_ipython().system_raw(\n",
        "    'tensorboard --logdir {} --host 0.0.0.0 --port 6006 &'\n",
        "    .format(LOG_DIR)\n",
        ")"
      ],
      "execution_count": 0,
      "outputs": []
    },
    {
      "metadata": {
        "id": "SZKoHZLAC-Rx",
        "colab_type": "code",
        "colab": {}
      },
      "cell_type": "code",
      "source": [
        "!curl http://localhost:6006"
      ],
      "execution_count": 0,
      "outputs": []
    },
    {
      "metadata": {
        "id": "MUSVy04EDMFI",
        "colab_type": "code",
        "colab": {}
      },
      "cell_type": "code",
      "source": [
        "!wget https://bin.equinox.io/c/4VmDzA7iaHb/ngrok-stable-linux-amd64.zip > /dev/null 2>&1\n",
        "!unzip ngrok-stable-linux-amd64.zip > /dev/null 2>&1"
      ],
      "execution_count": 0,
      "outputs": []
    },
    {
      "metadata": {
        "id": "ISWtt8xhCzqo",
        "colab_type": "code",
        "colab": {}
      },
      "cell_type": "code",
      "source": [
        "get_ipython().system_raw('./ngrok http 6006 &')"
      ],
      "execution_count": 0,
      "outputs": []
    },
    {
      "metadata": {
        "id": "AIb5gevdCv23",
        "colab_type": "code",
        "colab": {
          "base_uri": "https://localhost:8080/",
          "height": 34
        },
        "outputId": "7cede4cc-51f5-4e10-d185-944fb3efab37"
      },
      "cell_type": "code",
      "source": [
        "\n",
        "!curl -s http://localhost:4040/api/tunnels | python3 -c \\\n",
        "    \"import sys, json; print(json.load(sys.stdin)['tunnels'][0]['public_url'])\""
      ],
      "execution_count": 81,
      "outputs": [
        {
          "output_type": "stream",
          "text": [
            "http://83172be3.ngrok.io\r\n"
          ],
          "name": "stdout"
        }
      ]
    },
    {
      "metadata": {
        "id": "zN4scP80Imks",
        "colab_type": "code",
        "colab": {
          "base_uri": "https://localhost:8080/",
          "height": 51
        },
        "outputId": "ab5d0823-b920-4705-f81f-7dfcabeeaf11"
      },
      "cell_type": "code",
      "source": [
        "import nerdcolab.gcloud\n",
        "tar_filepath = \"/tmp/cifar10_summary/events.out.tfevents.1524330084.2b152f5a2fc2\"\n",
        "bucket_path = \"gs://{}/{}\".format(bucket_name, \"summary\")\n",
        "project_id = project_name\n",
        "nerdcolab.gcloud.gcs_upload(tar_filepath, bucket_path, project_id=project_id)\n"
      ],
      "execution_count": 93,
      "outputs": [
        {
          "output_type": "stream",
          "text": [
            "uploading file=gs://ai-model-test-ml/summary ...\n"
          ],
          "name": "stdout"
        },
        {
          "output_type": "execute_result",
          "data": {
            "text/plain": [
              "'gs://ai-model-test-ml/summary'"
            ]
          },
          "metadata": {
            "tags": []
          },
          "execution_count": 93
        }
      ]
    },
    {
      "metadata": {
        "id": "pPoqqEiif3fJ",
        "colab_type": "code",
        "colab": {
          "base_uri": "https://localhost:8080/",
          "height": 170
        },
        "outputId": "f2dd5909-1049-420c-be3f-239029f36f24"
      },
      "cell_type": "code",
      "source": [
        "!ls"
      ],
      "execution_count": 22,
      "outputs": [
        {
          "output_type": "stream",
          "text": [
            "cifar10_const.py\t      cifar10_train.381000.tar.gz\r\n",
            "cifar10_data.py\t\t      cifar10_train.85000.tar.gz\r\n",
            "cifar10_dataset_processor.py  cifar10_train.86000.tar.gz\r\n",
            "cifar10.ipynb\t\t      cifar10_train.87000.tar.gz\r\n",
            "cifar10_model.py\t      cifar10_train.89000.tar.gz\r\n",
            "cifar10.py\t\t      cifar10_train.90000.tar.gz\r\n",
            "cifar10_train.103000.tar.gz   __pycache__\r\n",
            "cifar10_train.285000.tar.gz   tutorial\r\n",
            "cifar10_train.290000.tar.gz\r\n"
          ],
          "name": "stdout"
        }
      ]
    },
    {
      "metadata": {
        "id": "HT69IPnIf4dS",
        "colab_type": "code",
        "colab": {}
      },
      "cell_type": "code",
      "source": [
        "os.chdir('/')"
      ],
      "execution_count": 0,
      "outputs": []
    },
    {
      "metadata": {
        "id": "G6UNvw3Rf79h",
        "colab_type": "code",
        "colab": {
          "base_uri": "https://localhost:8080/",
          "height": 561
        },
        "outputId": "e346c052-a277-42f6-ab8c-1d7332e017af"
      },
      "cell_type": "code",
      "source": [
        "!ls"
      ],
      "execution_count": 24,
      "outputs": [
        {
          "output_type": "stream",
          "text": [
            "backend-container\r\n",
            "bin\r\n",
            "boot\r\n",
            "colabtools\r\n",
            "content\r\n",
            "datalab\r\n",
            "dev\r\n",
            "etc\r\n",
            "get-pip.py\r\n",
            "gpu-tensorflow-1.7.0-cp27-cp27mu-linux_x86_64.whl\r\n",
            "gpu-tensorflow-1.7.0-cp36-cp36m-linux_x86_64.whl\r\n",
            "home\r\n",
            "lib\r\n",
            "lib64\r\n",
            "media\r\n",
            "mnt\r\n",
            "node_modules\r\n",
            "opt\r\n",
            "proc\r\n",
            "requirements.txt\r\n",
            "root\r\n",
            "run\r\n",
            "sbin\r\n",
            "srv\r\n",
            "sys\r\n",
            "tensorflow-1.7.0-cp27-cp27mu-linux_x86_64.whl\r\n",
            "tensorflow-1.7.0-cp36-cp36m-linux_x86_64.whl\r\n",
            "tf_deps\r\n",
            "tmp\r\n",
            "tools\r\n",
            "usr\r\n",
            "var\r\n"
          ],
          "name": "stdout"
        }
      ]
    },
    {
      "metadata": {
        "id": "G7J0TGwmf8xi",
        "colab_type": "code",
        "colab": {}
      },
      "cell_type": "code",
      "source": [
        "os.chdir('/content')"
      ],
      "execution_count": 0,
      "outputs": []
    },
    {
      "metadata": {
        "id": "U3aMaCZRgAv6",
        "colab_type": "code",
        "colab": {
          "base_uri": "https://localhost:8080/",
          "height": 34
        },
        "outputId": "08a9383e-98bd-444a-cf83-132490208777"
      },
      "cell_type": "code",
      "source": [
        "!ls"
      ],
      "execution_count": 27,
      "outputs": [
        {
          "output_type": "stream",
          "text": [
            "datalab  nerdnerdML\r\n"
          ],
          "name": "stdout"
        }
      ]
    },
    {
      "metadata": {
        "id": "XttWPA6QgCl6",
        "colab_type": "code",
        "colab": {}
      },
      "cell_type": "code",
      "source": [
        "!cd /"
      ],
      "execution_count": 0,
      "outputs": []
    },
    {
      "metadata": {
        "id": "63TBwHCtgD1F",
        "colab_type": "code",
        "colab": {
          "base_uri": "https://localhost:8080/",
          "height": 34
        },
        "outputId": "8f6c0be3-0047-4fff-f809-af8cc8bf673d"
      },
      "cell_type": "code",
      "source": [
        "!ls"
      ],
      "execution_count": 29,
      "outputs": [
        {
          "output_type": "stream",
          "text": [
            "datalab  nerdnerdML\r\n"
          ],
          "name": "stdout"
        }
      ]
    },
    {
      "metadata": {
        "id": "YcPTjtTmgFCN",
        "colab_type": "code",
        "colab": {}
      },
      "cell_type": "code",
      "source": [
        "!cd datalab"
      ],
      "execution_count": 0,
      "outputs": []
    },
    {
      "metadata": {
        "id": "N89oC7WagHKe",
        "colab_type": "code",
        "colab": {
          "base_uri": "https://localhost:8080/",
          "height": 34
        },
        "outputId": "ec03068b-896d-46ab-86b6-ae96045afeb1"
      },
      "cell_type": "code",
      "source": [
        "!ls"
      ],
      "execution_count": 31,
      "outputs": [
        {
          "output_type": "stream",
          "text": [
            "datalab  nerdnerdML\r\n"
          ],
          "name": "stdout"
        }
      ]
    },
    {
      "metadata": {
        "id": "JrwAYCnGgIHD",
        "colab_type": "code",
        "colab": {}
      },
      "cell_type": "code",
      "source": [
        ""
      ],
      "execution_count": 0,
      "outputs": []
    }
  ]
}